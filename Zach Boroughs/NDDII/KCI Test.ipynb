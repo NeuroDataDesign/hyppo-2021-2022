{
 "cells": [
  {
   "cell_type": "code",
   "execution_count": null,
   "id": "7d5d101d",
   "metadata": {},
   "outputs": [],
   "source": [
    "import numpy as np\n",
    "from scipy.stats import gamma\n",
    "from scipy.ndimage import gaussian_filter\n",
    "\n",
    "class KCI():\n",
    "\n",
    "    def __init__(self, **kwargs):\n",
    "        \n",
    "    def statistic(self, x, y, width):\n",
    "        T = len(y);\n",
    "        \n",
    "        x = np.array(x)\n",
    "        y = np.array(y)\n",
    "        x = x - np.mean(x)\n",
    "        x = x / np.std(x);\n",
    "        y = y - np.mean(y)\n",
    "        y = y / np.std(y);\n",
    "\n",
    "        if T < 200:\n",
    "            width = 0.8\n",
    "        elif T < 1200:\n",
    "            width = 0.5\n",
    "        else:\n",
    "            width = 0.3\n",
    "\n",
    "        theta = 1 / (width^2)\n",
    "\n",
    "        H =  np.eye(T) - np.ones(T,T) / T; \n",
    "\n",
    "        Kx = gaussian_filter(x, theta)\n",
    "        Kx = np.matmul(np.matmul(H, Kx), H)\n",
    "        Ky = gaussian_filter(y, theta)\n",
    "        Ky = np.matmul(np.matmul(H, Ky), H)\n",
    "        Stat = np.trace(np.matmul(Kx * Ky))\n",
    "\n",
    "        mean_appr = np.trace(Kx) * np.trace(Ky) /T\n",
    "        var_appr = 2 * np.trace(Kx * Kx) * np.trace(Ky * Ky) / T^2\n",
    "        k_appr = mean_appr^2 / var_appr\n",
    "        theta_appr = var_appr / mean_appr\n",
    "        p_val = 1 - gamma.cdf(Stat, k_appr, theta_appr)\n",
    "\n",
    "        return Stat, p_val"
   ]
  }
 ],
 "metadata": {
  "kernelspec": {
   "display_name": "Python 3",
   "language": "python",
   "name": "python3"
  },
  "language_info": {
   "codemirror_mode": {
    "name": "ipython",
    "version": 3
   },
   "file_extension": ".py",
   "mimetype": "text/x-python",
   "name": "python",
   "nbconvert_exporter": "python",
   "pygments_lexer": "ipython3",
   "version": "3.8.8"
  }
 },
 "nbformat": 4,
 "nbformat_minor": 5
}
