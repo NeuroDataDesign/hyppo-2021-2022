{
 "cells": [
  {
   "cell_type": "code",
   "execution_count": 79,
   "id": "c82980c9-657f-4a20-a9a1-e854458e2360",
   "metadata": {},
   "outputs": [],
   "source": [
    "import numpy as np\n",
    "from scipy.stats import gamma\n",
    "from sklearn.gaussian_process import GaussianProcessClassifier\n",
    "from sklearn.gaussian_process.kernels import RBF\n",
    "\n",
    "class KCI:\n",
    " \n",
    "    def kernel(self, x, y):\n",
    "        T = len(y)\n",
    "\n",
    "        x = np.array(x)\n",
    "        y = np.array(y)\n",
    "        x = x - np.mean(x)\n",
    "        x = x / np.std(x)\n",
    "        y = y - np.mean(y)\n",
    "        y = y / np.std(y)\n",
    "\n",
    "        if T < 200:\n",
    "            width = 0.8\n",
    "        elif T < 1200:\n",
    "            width = 0.5\n",
    "        else:\n",
    "            width = 0.3\n",
    "\n",
    "        theta = 1 / (width**2)\n",
    "\n",
    "        Kx = 1.0 * RBF(theta).__call__(x, x)\n",
    "        Ky = 1.0 * RBF(theta).__call__(y, y)\n",
    "\n",
    "        return Kx, Ky\n",
    "\n",
    "\n",
    "    def statistic(self, x, y):\n",
    "\n",
    "        T = len(y)\n",
    "        \n",
    "        H = np.eye(T) - np.ones((T, T)) / T\n",
    "\n",
    "        Kx, Ky = self.kernel(x, y)\n",
    "\n",
    "        Kx = np.matmul(np.matmul(H, Kx), H)\n",
    "        Ky = np.matmul(np.matmul(H, Ky), H)\n",
    "\n",
    "        stat = np.trace(np.matmul(Kx, Ky))\n",
    "\n",
    "        return stat\n",
    "\n",
    "    def test(self, x, y):\n",
    "\n",
    "        T = len(y)\n",
    "        Kx, Ky = self.kernel(x, y)\n",
    "        stat = self.statistic(x, y)\n",
    "\n",
    "        mean_appr = (np.trace(Kx) * np.trace(Ky)) / T\n",
    "        var_appr = 2 * np.trace(np.matmul(Kx, Kx)) * np.trace(np.matmul(Ky, Ky)) / T**2\n",
    "        k_appr = mean_appr**2 / var_appr\n",
    "        theta_appr = var_appr / mean_appr\n",
    "        pvalue = 1 - np.mean(gamma.cdf(stat, k_appr, theta_appr))\n",
    "\n",
    "        self.stat = stat\n",
    "\n",
    "        return stat, pvalue"
   ]
  },
  {
   "cell_type": "code",
   "execution_count": 129,
   "id": "f41a7d77-a61d-404e-9c35-5bf3c7ab9d64",
   "metadata": {},
   "outputs": [],
   "source": [
    "from hyppo.tools import linear, power, joint_normal, multimodal_independence, logarithmic, exponential"
   ]
  },
  {
   "cell_type": "code",
   "execution_count": 138,
   "id": "d2dfca0f-cad8-432b-b7b9-6916485d024e",
   "metadata": {},
   "outputs": [
    {
     "name": "stdout",
     "output_type": "stream",
     "text": [
      "Stat: 544.6911482512229 pvalue: 0.0\n"
     ]
    }
   ],
   "source": [
    "np.random.seed(123456789)\n",
    "n = 100\n",
    "x, y = linear(n, 1)\n",
    "kci = KCI()\n",
    "stat, pvalue = kci.test(x, y)\n",
    "\n",
    "print('Stat:', stat, 'pvalue:', pvalue)"
   ]
  },
  {
   "cell_type": "code",
   "execution_count": 139,
   "id": "8a25f77d-454e-4ef0-a9b3-e172535a5cc6",
   "metadata": {},
   "outputs": [
    {
     "name": "stdout",
     "output_type": "stream",
     "text": [
      "Stat: 105.75819757867163 pvalue: 7.638334409421077e-14\n"
     ]
    }
   ],
   "source": [
    "np.random.seed(123456789)\n",
    "n = 100\n",
    "x, y = joint_normal(n, 1)\n",
    "kci = KCI()\n",
    "stat, pvalue = kci.test(x, y)\n",
    "\n",
    "print('Stat:', stat, 'pvalue:', pvalue)"
   ]
  },
  {
   "cell_type": "code",
   "execution_count": 140,
   "id": "687e8dea-232a-435a-a9db-ec0f6799001d",
   "metadata": {},
   "outputs": [
    {
     "name": "stdout",
     "output_type": "stream",
     "text": [
      "Stat: 9.298485426452766 pvalue: 1.0\n"
     ]
    }
   ],
   "source": [
    "np.random.seed(123456789)\n",
    "n = 100\n",
    "x, y = multimodal_independence(n, 1)\n",
    "kci = KCI()\n",
    "stat, pvalue = kci.test(x, y)\n",
    "\n",
    "print('Stat:', stat, 'pvalue:', pvalue)"
   ]
  },
  {
   "cell_type": "code",
   "execution_count": 141,
   "id": "27e9bbc6-cf27-4023-a971-9f3f3f403101",
   "metadata": {},
   "outputs": [
    {
     "name": "stdout",
     "output_type": "stream",
     "text": [
      "Stat: 88.52619309350321 pvalue: 0.0002686652063370598\n"
     ]
    }
   ],
   "source": [
    "np.random.seed(123456789)\n",
    "n = 100\n",
    "x, y = logarithmic(n, 1)\n",
    "kci = KCI()\n",
    "stat, pvalue = kci.test(x, y)\n",
    "\n",
    "print('Stat:', stat, 'pvalue:', pvalue)"
   ]
  },
  {
   "cell_type": "code",
   "execution_count": 142,
   "id": "7c245f5c-5a4f-4cfb-b549-9fc4c870b0c4",
   "metadata": {},
   "outputs": [
    {
     "name": "stdout",
     "output_type": "stream",
     "text": [
      "Stat: 452.8347492253364 pvalue: 0.0\n"
     ]
    }
   ],
   "source": [
    "np.random.seed(123456789)\n",
    "n = 100\n",
    "x, y = exponential(n, 1)\n",
    "kci = KCI()\n",
    "stat, pvalue = kci.test(x, y)\n",
    "\n",
    "print('Stat:', stat, 'pvalue:', pvalue)"
   ]
  },
  {
   "cell_type": "code",
   "execution_count": null,
   "id": "d7012c9c-804d-4d97-a0a0-2b48f2696726",
   "metadata": {},
   "outputs": [],
   "source": []
  }
 ],
 "metadata": {
  "kernelspec": {
   "display_name": "Python 3",
   "language": "python",
   "name": "python3"
  },
  "language_info": {
   "codemirror_mode": {
    "name": "ipython",
    "version": 3
   },
   "file_extension": ".py",
   "mimetype": "text/x-python",
   "name": "python",
   "nbconvert_exporter": "python",
   "pygments_lexer": "ipython3",
   "version": "3.8.8"
  }
 },
 "nbformat": 4,
 "nbformat_minor": 5
}
