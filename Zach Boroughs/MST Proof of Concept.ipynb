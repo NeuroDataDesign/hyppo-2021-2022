{
 "cells": [
  {
   "cell_type": "code",
   "execution_count": 35,
   "id": "4f1417ea",
   "metadata": {},
   "outputs": [],
   "source": [
    "class Graph:\n",
    "    def __init__(self, vertex):\n",
    "        self.V = vertex\n",
    "        self.graph = [] #Empty matrix for holding vertices and weights connecting them\n",
    "        \n",
    "        \n",
    "    def add_edge(self, v1, v2, w):\n",
    "        self.graph.append([v1, v2, w]) #Add method for creating edges between vertices\n",
    "        \n",
    " \n",
    "    def search(self, parent, i): #Method for determining location of vertex in existing tree\n",
    "        if parent[i] == i:\n",
    "            return i\n",
    "        return self.search(parent, parent[i])\n",
    "\n",
    " \n",
    "    def apply_union(self, parent, rank, x, y): #Method for deleting and merging branches\n",
    "        xroot = self.search(parent, x)\n",
    "        yroot = self.search(parent, y)\n",
    "        if rank[xroot] < rank[yroot]:\n",
    "            parent[xroot] = yroot\n",
    "        elif rank[xroot] > rank[yroot]:\n",
    "            parent[yroot] = xroot\n",
    "        else:\n",
    "            parent[yroot] = xroot\n",
    "            rank[xroot] += 1\n",
    " \n",
    "  \n",
    "    def kruskal(self):\n",
    "        result = []\n",
    "        i, e = 0, 0\n",
    "        self.graph = sorted(self.graph, key=lambda item: item[2])\n",
    "        parent = []\n",
    "        rank = []\n",
    "        for node in range(self.V):\n",
    "            parent.append(node)\n",
    "            rank.append(0)\n",
    "        while e < self.V - 1:\n",
    "            v1, v2, w = self.graph[i]\n",
    "            i = i + 1\n",
    "            x = self.search(parent, v1)\n",
    "            y = self.search(parent, v2)\n",
    "            if x != y:\n",
    "                e = e + 1\n",
    "                result.append([v1, v2])\n",
    "                self.apply_union(parent, rank, x, y)\n",
    "        return result  #Return vertex indices of vertices sharing an edge in MST"
   ]
  },
  {
   "cell_type": "code",
   "execution_count": 36,
   "id": "bf05829d",
   "metadata": {},
   "outputs": [
    {
     "name": "stdout",
     "output_type": "stream",
     "text": [
      "5\n"
     ]
    }
   ],
   "source": [
    "import numpy as np\n",
    "\n",
    "x = np.array([[1,5,3,6,4,2,5,3,2,7],  #Array with rows as features, columns as samples\n",
    "              [2,5,7,1,8,3,3,7,5,2],\n",
    "              [4,5,3,3,6,5,2,4,3,7],\n",
    "              [4,5,3,3,6,5,2,4,3,7]])\n",
    "\n",
    "lab = [0,1,1,0,1,0,1,1,0,0] #Corresponding labels (in this case 2 samples but could be extended further)\n",
    "\n",
    "g = Graph(len(x[0]-1)) #Initiate graph with number of labels \n",
    "\n",
    "for i in range(len(x[0])):\n",
    "    j = i + 1\n",
    "    while j <= (len(x[0]) - 1):\n",
    "        dist = np.linalg.norm(x[:,i] - x[:,j])\n",
    "        g.add_edge(i, j, dist)\n",
    "        j += 1;\n",
    "        \n",
    "#Essentially creating an edge between every possible pair of vertices and adding to graph (inefficient as there are)\n",
    "#n choose n-1 edges being added, could be optimized\n",
    "        \n",
    "connects = g.kruskal() #Find pairs connected by MST\n",
    "\n",
    "num_trees = 1; #starting with 1 tree\n",
    "\n",
    "for x in connects:\n",
    "    if lab[x[0]] != lab[x[1]]: #Determine if vertices still connected are of same label\n",
    "        num_trees += 1;\n",
    "        \n",
    "print(num_trees)\n",
    "\n",
   ]
  },
  {
   "cell_type": "code",
   "execution_count": null,
   "id": "10cfb631",
   "metadata": {},
   "outputs": [],
   "source": []
  }
 ],
 "metadata": {
  "kernelspec": {
   "display_name": "Python 3",
   "language": "python",
   "name": "python3"
  },
  "language_info": {
   "codemirror_mode": {
    "name": "ipython",
    "version": 3
   },
   "file_extension": ".py",
   "mimetype": "text/x-python",
   "name": "python",
   "nbconvert_exporter": "python",
   "pygments_lexer": "ipython3",
   "version": "3.8.8"
  }
 },
 "nbformat": 4,
 "nbformat_minor": 5
}
