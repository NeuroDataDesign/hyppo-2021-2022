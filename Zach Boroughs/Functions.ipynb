{
 "cells": [
  {
   "cell_type": "code",
   "execution_count": null,
   "id": "5cb383a9",
   "metadata": {},
   "outputs": [],
   "source": [
    "import numpy as np\n",
    "import random"
   ]
  },
  {
   "cell_type": "code",
   "execution_count": null,
   "id": "f9b6d864",
   "metadata": {},
   "outputs": [],
   "source": [
    "class Graph:\n",
    "    def __init__(self, vertex):\n",
    "        self.V = vertex\n",
    "        self.graph = [] #Empty matrix for holding vertices and weights connecting them\n",
    "        \n",
    "        \n",
    "    def add_edge(self, v1, v2, w):\n",
    "        self.graph.append([v1, v2, w]) #Add method for creating edges between vertices\n",
    "        \n",
    " \n",
    "    def search(self, parent, i): #Method for determining location of vertex in existing tree\n",
    "        if parent[i] == i:\n",
    "            return i\n",
    "        return self.search(parent, parent[i])\n",
    "\n",
    " \n",
    "    def apply_union(self, parent, rank, x, y): #Method for deleting and merging branches\n",
    "        xroot = self.search(parent, x)\n",
    "        yroot = self.search(parent, y)\n",
    "        if rank[xroot] < rank[yroot]:\n",
    "            parent[xroot] = yroot\n",
    "        elif rank[xroot] > rank[yroot]:\n",
    "            parent[yroot] = xroot\n",
    "        else:\n",
    "            parent[yroot] = xroot\n",
    "            rank[xroot] += 1\n",
    " \n",
    "  \n",
    "    def kruskal(self):\n",
    "        result = []\n",
    "        i, e = 0, 0\n",
    "        self.graph = sorted(self.graph, key=lambda item: item[2])\n",
    "        parent = []\n",
    "        rank = []\n",
    "        for node in range(self.V):\n",
    "            parent.append(node)\n",
    "            rank.append(0)\n",
    "        while e < self.V - 1:\n",
    "            v1, v2, w = self.graph[i]\n",
    "            i = i + 1\n",
    "            x = self.search(parent, v1)\n",
    "            y = self.search(parent, v2)\n",
    "            if x != y:\n",
    "                e = e + 1\n",
    "                result.append([v1, v2])\n",
    "                self.apply_union(parent, rank, x, y)\n",
    "        return result"
   ]
  },
  {
   "cell_type": "code",
   "execution_count": null,
   "id": "18a6471f",
   "metadata": {},
   "outputs": [],
   "source": [
    "def MST(data):\n",
    "    \n",
    "    g = Graph(len(data[0]-1))\n",
    "\n",
    "    for i in range(len(data[0])):\n",
    "        j = i + 1\n",
    "        \n",
    "        while j <= (len(data[0]) - 1):\n",
    "            weight = np.linalg.norm(data[:,i] - data[:,j])\n",
    "            g.add_edge(i, j, weight)\n",
    "            j += 1;\n",
    "\n",
    "    MST_connections = g.kruskal()\n",
    "    \n",
    "    return MST_connections"
   ]
  },
  {
   "cell_type": "code",
   "execution_count": null,
   "id": "7dd64928",
   "metadata": {},
   "outputs": [],
   "source": [
    "def num_runs(labels, MST_connections):\n",
    "    run_count = 1;\n",
    "\n",
    "    for x in connects:\n",
    "        if lab[x[0]] != lab[x[1]]:\n",
    "            runs += 1;\n",
    "    \n",
    "    return run_count"
   ]
  },
  {
   "cell_type": "code",
   "execution_count": null,
   "id": "3928fba1",
   "metadata": {},
   "outputs": [],
   "source": [
    "def permutation(nperm, labels, MST_connections):\n",
    "    \n",
    "    runs = []\n",
    "    for itr in np.arange(nperm):\n",
    "        lab_shuffle = random.sample(labels, len(labels))\n",
    "        \n",
    "        num_runs(lab_shuffle, MST_connections)\n",
    "        \n",
    "        runs.append(run_val)\n",
    "        \n",
    "    return runs"
   ]
  },
  {
   "cell_type": "code",
   "execution_count": null,
   "id": "c398293f",
   "metadata": {},
   "outputs": [],
   "source": [
    "def test_stat(val):\n",
    "    sd_val = np.std(val)\n",
    "    return ((val - np.mean(val)) / sd_val)"
   ]
  },
  {
   "cell_type": "code",
   "execution_count": null,
   "id": "7d9d5aba",
   "metadata": {},
   "outputs": [],
   "source": [
    "def pval(perm_stat, true_stat):\n",
    "    pvalue = (np.sum(perm_stat <= true_stat) + 1) / (len(perm_stat) + 1)\n",
    "    return pvalue"
   ]
  },
  {
   "cell_type": "code",
   "execution_count": null,
   "id": "d9bd5679",
   "metadata": {},
   "outputs": [],
   "source": [
    "#Overall, accept inputs of data, labels, and number of permutations\n",
    "#Return Test Statistic, Permutation Test Statistics, and the P-Value"
   ]
  }
 ],
 "metadata": {
  "kernelspec": {
   "display_name": "Python 3",
   "language": "python",
   "name": "python3"
  },
  "language_info": {
   "codemirror_mode": {
    "name": "ipython",
    "version": 3
   },
   "file_extension": ".py",
   "mimetype": "text/x-python",
   "name": "python",
   "nbconvert_exporter": "python",
   "pygments_lexer": "ipython3",
   "version": "3.8.8"
  }
 },
 "nbformat": 4,
 "nbformat_minor": 5
}
