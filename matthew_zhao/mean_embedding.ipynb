{
 "cells": [
  {
   "cell_type": "code",
   "execution_count": 1,
   "metadata": {},
   "outputs": [],
   "source": [
    "from warnings import warn\n",
    "from numpy import mean, transpose, cov, cos, sin, shape, exp, newaxis, concatenate\n",
    "from numpy.linalg import linalg, LinAlgError, solve\n",
    "from scipy.stats import chi2\n",
    "\n",
    "\n",
    "#testing purposes\n",
    "from numpy.random import seed\n",
    "import numpy \n",
    "import abc"
   ]
  },
  {
   "cell_type": "markdown",
   "metadata": {},
   "source": [
    "## Mean Embedding Test"
   ]
  },
  {
   "cell_type": "code",
   "execution_count": 2,
   "metadata": {},
   "outputs": [
    {
     "data": {
      "text/plain": [
       "((500, 10), (500, 10))"
      ]
     },
     "execution_count": 2,
     "metadata": {},
     "output_type": "execute_result"
    }
   ],
   "source": [
    "#Construct data arrays, p-value = 0.05\n",
    "seed(120)\n",
    "num_samples = 500\n",
    "dimensions = 10\n",
    "X = numpy.random.randn(num_samples, dimensions)\n",
    "X[:, 1] *= 3\n",
    "Y = numpy.random.randn(num_samples, dimensions)\n",
    "X.shape, Y.shape"
   ]
  },
  {
   "cell_type": "code",
   "execution_count": 3,
   "metadata": {},
   "outputs": [],
   "source": [
    "#init\n",
    "scale = 1 \n",
    "data_x, data_y = X*scale, Y*scale\n",
    "number_of_frequencies = 5 #what is this?\n",
    "_, dimension = numpy.shape(data_x)"
   ]
  },
  {
   "cell_type": "code",
   "execution_count": 4,
   "metadata": {},
   "outputs": [
    {
     "name": "stdout",
     "output_type": "stream",
     "text": [
      "3.89449630549191e-05\n"
     ]
    }
   ],
   "source": [
    "points = numpy.random.randn(number_of_frequencies, dimension) #test points\n",
    "\n",
    "ind = 0\n",
    "a = numpy.zeros([points.shape[0],data_x.shape[0]])\n",
    "for point in points:\n",
    "    zx = numpy.linalg.norm(data_x - scale * point, axis=1)**2\n",
    "    zy = numpy.linalg.norm(data_y - scale * point, axis=1)**2\n",
    "    zx_est, zy_est = numpy.exp(-zx/2.0), numpy.exp(-zy/2.0)\n",
    "    \n",
    "    diff = zx_est - zy_est #diff in mean embeddings\n",
    "    \n",
    "    a[ind] = diff\n",
    "    ind +=1\n",
    "\n",
    "obs = a.T\n",
    "\n",
    "num_samples, _ = shape(obs)\n",
    "sigma = cov(transpose(obs))\n",
    "mu = mean(obs, 0)\n",
    "stat = num_samples * mu.dot(solve(sigma, mu.T)) #compute test statistic\n",
    "pval = chi2.sf(stat, number_of_frequencies) #convert to p-value\n",
    "\n",
    "print(pval)"
   ]
  },
  {
   "cell_type": "code",
   "execution_count": 12,
   "metadata": {},
   "outputs": [
    {
     "data": {
      "text/plain": [
       "(array([[ 4.51025742e-05, -6.00022456e-06,  7.70028118e-05,\n",
       "         -1.99651306e-06, -2.40734207e-06],\n",
       "        [-6.00022456e-06,  2.97395703e-04, -5.25071619e-06,\n",
       "          1.56852963e-05,  9.96891039e-05],\n",
       "        [ 7.70028118e-05, -5.25071619e-06,  9.08104891e-04,\n",
       "         -8.91269634e-06,  1.35870725e-05],\n",
       "        [-1.99651306e-06,  1.56852963e-05, -8.91269634e-06,\n",
       "          2.25518413e-04,  3.77469003e-05],\n",
       "        [-2.40734207e-06,  9.96891039e-05,  1.35870725e-05,\n",
       "          3.77469003e-05,  3.41933374e-04]]),\n",
       " array([[ 4.50450914e-05, -5.48752394e-06,  7.76222198e-05,\n",
       "         -1.72316062e-06, -2.11997885e-06],\n",
       "        [-5.48752394e-06,  3.04462357e-04,  6.59414613e-06,\n",
       "          1.97755189e-05,  1.03813132e-04],\n",
       "        [ 7.76222198e-05,  6.59414613e-06,  9.24568796e-04,\n",
       "         -2.52839306e-06,  2.02381095e-05],\n",
       "        [-1.72316062e-06,  1.97755189e-05, -2.52839306e-06,\n",
       "          2.27284651e-04,  3.99972499e-05],\n",
       "        [-2.11997885e-06,  1.03813132e-04,  2.02381095e-05,\n",
       "          3.99972499e-05,  3.43689235e-04]]))"
      ]
     },
     "execution_count": 12,
     "metadata": {},
     "output_type": "execute_result"
    }
   ],
   "source": [
    "assert(num_samples*mu.dot(linalg.inv(sigma)).dot(mu) == stat)\n",
    "cov(transpose(obs)), transpose(obs).dot(obs)/500"
   ]
  }
 ],
 "metadata": {
  "kernelspec": {
   "display_name": "Python 3.8 (py38)",
   "language": "python",
   "name": "py38"
  },
  "language_info": {
   "codemirror_mode": {
    "name": "ipython",
    "version": 3
   },
   "file_extension": ".py",
   "mimetype": "text/x-python",
   "name": "python",
   "nbconvert_exporter": "python",
   "pygments_lexer": "ipython3",
   "version": "3.8.5"
  }
 },
 "nbformat": 4,
 "nbformat_minor": 4
}
