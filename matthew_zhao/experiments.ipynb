{
 "cells": [
  {
   "cell_type": "code",
   "execution_count": 1,
   "metadata": {},
   "outputs": [],
   "source": [
    "import numpy as np\n",
    "import pandas as pd\n",
    "import matplotlib.pyplot as plt\n",
    "\n",
    "from fcit import fcit"
   ]
  },
  {
   "cell_type": "markdown",
   "metadata": {},
   "source": [
    "## LINGAUSS Data"
   ]
  },
  {
   "cell_type": "code",
   "execution_count": 18,
   "metadata": {},
   "outputs": [],
   "source": [
    "dim = 1\n",
    "n = 1000\n",
    "\n",
    "\n",
    "'''\n",
    "z -> sample n x d from multivariate gaussian\n",
    "'''\n",
    "\n",
    "#independent\n",
    "\n",
    "z1 = np.random.multivariate_normal(mean = np.ones(dim), cov = np.eye(dim), size = n)\n",
    "\n",
    "\n",
    "\n",
    "'''\n",
    "A -> dim x dim \n",
    "'''\n",
    "\n",
    "A1 = np.random.normal(loc = 0, scale = 1, size = dim*dim).reshape(dim,dim)\n",
    "B1 = np.random.normal(loc = 0, scale = 1, size = dim*dim).reshape(dim,dim)\n",
    "\n",
    "x1 = A1.dot(z1.T) + np.random.multivariate_normal(mean = np.ones(dim), cov = np.eye(dim), size = n).T\n",
    "y1 = B1.dot(z1.T) + np.random.multivariate_normal(mean = np.ones(dim), cov = np.eye(dim), size = n).T\n",
    "\n"
   ]
  },
  {
   "cell_type": "code",
   "execution_count": 19,
   "metadata": {},
   "outputs": [],
   "source": [
    "#dependent\n",
    "\n",
    "z2 = np.random.multivariate_normal(mean = np.ones(dim), cov = np.eye(dim), size = n)\n",
    "\n",
    "A2 = np.random.normal(loc = 0, scale = 1, size = dim*dim).reshape(dim,dim)\n",
    "B2 = np.random.normal(loc = 0, scale = 1, size = dim*dim).reshape(dim,dim)\n",
    "\n",
    "x2 = A2.dot(z2.T) + np.random.multivariate_normal(mean = np.ones(dim), cov = np.eye(dim), size = n).T\n",
    "y2 = B2.dot(x2) + np.random.multivariate_normal(mean = np.ones(dim), cov = np.eye(dim), size = n).T\n",
    "\n"
   ]
  },
  {
   "cell_type": "code",
   "execution_count": 20,
   "metadata": {},
   "outputs": [
    {
     "data": {
      "text/plain": [
       "Text(0.5, 1.0, 'dependent')"
      ]
     },
     "execution_count": 20,
     "metadata": {},
     "output_type": "execute_result"
    },
    {
     "data": {
      "image/png": "[encoded data removed]",
      "text/plain": [
       "<Figure size 720x360 with 2 Axes>"
      ]
     },
     "metadata": {
      "needs_background": "light"
     },
     "output_type": "display_data"
    }
   ],
   "source": [
    "plt.figure(figsize=(10,5))\n",
    "\n",
    "plt.subplot(1,2,1)\n",
    "plt.axis('equal')\n",
    "plt.scatter(x1,y1)\n",
    "plt.title('independent')\n",
    "\n",
    "plt.subplot(1,2,2)\n",
    "plt.axis('equal')\n",
    "plt.scatter(x2,y2)\n",
    "plt.title('dependent')"
   ]
  },
  {
   "cell_type": "code",
   "execution_count": 21,
   "metadata": {},
   "outputs": [
    {
     "name": "stdout",
     "output_type": "stream",
     "text": [
      "0.019668884060011712\n",
      "2.998793498570409e-06\n"
     ]
    }
   ],
   "source": [
    "print(fcit.test(x1.T, y1.T)) #ind, expect close to 1 \n",
    "\n",
    "print(fcit.test(x2.T, y2.T)) #dep, expect close to 0\n"
   ]
  },
  {
   "cell_type": "code",
   "execution_count": 49,
   "metadata": {},
   "outputs": [],
   "source": [
    "def gen_ind_gauss(dim, n):\n",
    "    \n",
    "    z = np.random.multivariate_normal(mean = np.ones(dim), cov = np.eye(dim), size = n)\n",
    "\n",
    "    A = np.random.normal(loc = 0, scale = 1, size = dim*dim).reshape(dim,dim)\n",
    "    B = np.random.normal(loc = 0, scale = 1, size = dim*dim).reshape(dim,dim)\n",
    "    \n",
    "    x = A.dot(z.T) + np.random.multivariate_normal(mean = np.ones(dim), cov = np.eye(dim), size = n).T\n",
    "    y = B.dot(z.T) + np.random.multivariate_normal(mean = np.ones(dim), cov = np.eye(dim), size = n).T\n",
    "    \n",
    "    return x, y\n",
    "    \n",
    "    \n",
    "    \n",
    "def gen_dep_gauss(dim, n):\n",
    "    z = np.random.multivariate_normal(mean = np.ones(dim), cov = np.eye(dim), size = n)\n",
    "\n",
    "    A = np.random.normal(loc = 0, scale = 1, size = dim*dim).reshape(dim,dim)\n",
    "    B = np.random.normal(loc = 0, scale = 1, size = dim*dim).reshape(dim,dim)\n",
    "\n",
    "    x = A.dot(z.T) + np.random.multivariate_normal(mean = np.ones(dim), cov = np.eye(dim), size = n).T\n",
    "    y = B.dot(x) + np.random.multivariate_normal(mean = np.ones(dim), cov = np.eye(dim), size = n).T\n",
    "    \n",
    "    return x, y"
   ]
  },
  {
   "cell_type": "code",
   "execution_count": 53,
   "metadata": {},
   "outputs": [],
   "source": [
    "#dims = [1, 2, 4, 8, 16, 32, 64, 128, 256]\n",
    "#dims = [1]\n",
    "dim = 1\n",
    "samps = [int(i) for i in np.arange(10e2, 10e5+1, 50000*2)]\n",
    "\n",
    "\n",
    "#for dim in dims:\n",
    "\n",
    "ind_p_vals = {}\n",
    "\n",
    "dep_p_vals = {}\n",
    "\n",
    "for n in samps:\n",
    "\n",
    "    ind_x, ind_y = gen_ind_gauss(dim, n)\n",
    "\n",
    "    dep_x, dep_y = gen_dep_gauss(dim, n)\n",
    "\n",
    "    ind_p_vals[n] = fcit.test(ind_x.T, ind_y.T)\n",
    "\n",
    "    dep_p_vals[n] = fcit.test(dep_x.T, dep_y.T)\n",
    "\n",
    "    \n",
    "\n",
    "        \n",
    "        \n",
    "    \n"
   ]
  },
  {
   "cell_type": "code",
   "execution_count": 54,
   "metadata": {},
   "outputs": [],
   "source": [
    "import pickle\n",
    "\n",
    "with open('ind_p.pickle', 'wb') as handle:\n",
    "    pickle.dump(ind_p_vals, handle)\n",
    "    \n",
    "    \n",
    "    \n",
    "with open('dep_p.pickle', 'wb') as handle:\n",
    "    pickle.dump(dep_p_vals, handle)"
   ]
  },
  {
   "cell_type": "code",
   "execution_count": 27,
   "metadata": {},
   "outputs": [],
   "source": [
    "import pickle\n",
    "with open('ind_p.pickle', 'rb') as handle:\n",
    "    ind_p_vals = pickle.load(handle)\n",
    "    \n",
    "    \n",
    "    \n",
    "with open('dep_p.pickle', 'rb') as handle:\n",
    "    dep_p_vals = pickle.load(handle)"
   ]
  },
  {
   "cell_type": "code",
   "execution_count": 32,
   "metadata": {},
   "outputs": [
    {
     "data": {
      "text/plain": [
       "<matplotlib.collections.PathCollection at 0x7fc9dec052b0>"
      ]
     },
     "execution_count": 32,
     "metadata": {},
     "output_type": "execute_result"
    },
    {
     "data": {
      "image/png": "[encoded data removed]",
      "text/plain": [
       "<Figure size 432x288 with 1 Axes>"
      ]
     },
     "metadata": {
      "needs_background": "light"
     },
     "output_type": "display_data"
    }
   ],
   "source": [
    "t0 = [i for i in ind_p_vals.keys()]\n",
    "t1 = [i for i in ind_p_vals.values()]\n",
    "\n",
    "\n",
    "plt.scatter(t0,t1)"
   ]
  },
  {
   "cell_type": "code",
   "execution_count": 29,
   "metadata": {},
   "outputs": [
    {
     "ename": "AttributeError",
     "evalue": "module 'matplotlib.pyplot' has no attribute 'set_xscale'",
     "output_type": "error",
     "traceback": [
      "\u001b[0;31m\u001b[0m",
      "\u001b[0;31mAttributeError\u001b[0mTraceback (most recent call last)",
      "\u001b[0;32m<ipython-input-29-1ffcac41154c>\u001b[0m in \u001b[0;36m<module>\u001b[0;34m\u001b[0m\n\u001b[1;32m      4\u001b[0m \u001b[0;34m\u001b[0m\u001b[0m\n\u001b[1;32m      5\u001b[0m \u001b[0mplt\u001b[0m\u001b[0;34m.\u001b[0m\u001b[0mscatter\u001b[0m\u001b[0;34m(\u001b[0m\u001b[0mt0\u001b[0m\u001b[0;34m,\u001b[0m\u001b[0mt1\u001b[0m\u001b[0;34m)\u001b[0m\u001b[0;34m\u001b[0m\u001b[0;34m\u001b[0m\u001b[0m\n\u001b[0;32m----> 6\u001b[0;31m \u001b[0mplt\u001b[0m\u001b[0;34m.\u001b[0m\u001b[0mset_xscale\u001b[0m\u001b[0;34m(\u001b[0m\u001b[0;34m'log'\u001b[0m\u001b[0;34m)\u001b[0m\u001b[0;34m\u001b[0m\u001b[0;34m\u001b[0m\u001b[0m\n\u001b[0m\u001b[1;32m      7\u001b[0m \u001b[0mplt\u001b[0m\u001b[0;34m.\u001b[0m\u001b[0mset_yscale\u001b[0m\u001b[0;34m(\u001b[0m\u001b[0;34m'log'\u001b[0m\u001b[0;34m)\u001b[0m\u001b[0;34m\u001b[0m\u001b[0;34m\u001b[0m\u001b[0m\n",
      "\u001b[0;31mAttributeError\u001b[0m: module 'matplotlib.pyplot' has no attribute 'set_xscale'"
     ]
    },
    {
     "data": {
      "image/png": "[encoded data removed]",
      "text/plain": [
       "<Figure size 432x288 with 1 Axes>"
      ]
     },
     "metadata": {
      "needs_background": "light"
     },
     "output_type": "display_data"
    }
   ],
   "source": [
    "t0 = [np.log(i) for i in dep_p_vals.keys()]\n",
    "t1 = [np.log(i) for i in dep_p_vals.values()]\n",
    "\n",
    "\n",
    "plt.scatter(t0,t1)"
   ]
  },
  {
   "cell_type": "code",
   "execution_count": null,
   "metadata": {},
   "outputs": [],
   "source": []
  }
 ],
 "metadata": {
  "kernelspec": {
   "display_name": "Python 3.8 (py38)",
   "language": "python",
   "name": "py38"
  },
  "language_info": {
   "codemirror_mode": {
    "name": "ipython",
    "version": 3
   },
   "file_extension": ".py",
   "mimetype": "text/x-python",
   "name": "python",
   "nbconvert_exporter": "python",
   "pygments_lexer": "ipython3",
   "version": "3.8.5"
  }
 },
 "nbformat": 4,
 "nbformat_minor": 4
}
