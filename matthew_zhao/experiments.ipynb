{
 "cells": [
  {
   "cell_type": "code",
   "execution_count": 1,
   "metadata": {},
   "outputs": [],
   "source": [
    "import numpy as np\n",
    "import pandas as pd\n",
    "import matplotlib.pyplot as plt\n",
    "import pickle\n",
    "\n",
    "from fcit import fcit"
   ]
  },
  {
   "cell_type": "markdown",
   "metadata": {},
   "source": [
    "## LINGAUSS Data"
   ]
  },
  {
   "cell_type": "code",
   "execution_count": 25,
   "metadata": {},
   "outputs": [],
   "source": [
    "dim = 1\n",
    "n = 100000\n",
    "np.random.seed(12)\n",
    "'''\n",
    "z -> sample n x d from multivariate gaussian\n",
    "'''\n",
    "\n",
    "#independent\n",
    "\n",
    "z1 = np.random.multivariate_normal(mean = np.zeros(dim), cov = np.eye(dim), size = (n))\n",
    "\n",
    "\n",
    "\n",
    "'''\n",
    "A -> dim x dim \n",
    "'''\n",
    "\n",
    "A1 = np.random.normal(loc = 0, scale = 1, size = dim*dim).reshape(dim,dim)\n",
    "B1 = np.random.normal(loc = 0, scale = 1, size = dim*dim).reshape(dim,dim)\n",
    "\n",
    "x1 = A1@z1.T + np.random.multivariate_normal(mean = np.zeros(dim), cov = np.eye(dim), size = (n)).T\n",
    "y1 = B1@z1.T + np.random.multivariate_normal(mean = np.zeros(dim), cov = np.eye(dim), size = (n)).T\n",
    "\n"
   ]
  },
  {
   "cell_type": "code",
   "execution_count": 26,
   "metadata": {},
   "outputs": [],
   "source": [
    "#dependent\n",
    "\n",
    "np.random.seed(12)\n",
    "z2 = np.random.multivariate_normal(mean = np.zeros(dim), cov = np.eye(dim), size = (n))\n",
    "\n",
    "A2 = np.random.normal(loc = 0, scale = 1, size = dim*dim).reshape(dim,dim)\n",
    "B2 = np.random.normal(loc = 0, scale = 1, size = dim*dim).reshape(dim,dim)\n",
    "\n",
    "x2 = A2@z2.T + np.random.multivariate_normal(mean = np.zeros(dim), cov = np.eye(dim), size = (n)).T\n",
    "y2 = B2@x2 + np.random.multivariate_normal(mean = np.zeros(dim), cov = np.eye(dim), size = (n)).T\n",
    "\n"
   ]
  },
  {
   "cell_type": "code",
   "execution_count": 27,
   "metadata": {},
   "outputs": [
    {
     "data": {
      "text/plain": [
       "Text(0.5, 1.0, 'dependent')"
      ]
     },
     "execution_count": 27,
     "metadata": {},
     "output_type": "execute_result"
    },
    {
     "data": {
      "image/png": "[encoded data removed]",
      "text/plain": [
       "<Figure size 720x360 with 2 Axes>"
      ]
     },
     "metadata": {
      "needs_background": "light"
     },
     "output_type": "display_data"
    }
   ],
   "source": [
    "plt.figure(figsize=(10,5))\n",
    "\n",
    "plt.subplot(1,2,1)\n",
    "plt.axis('equal')\n",
    "plt.scatter(x1,y1)\n",
    "plt.title('independent')\n",
    "\n",
    "plt.subplot(1,2,2)\n",
    "plt.axis('equal')\n",
    "plt.scatter(x2,y2)\n",
    "plt.title('dependent')"
   ]
  },
  {
   "cell_type": "code",
   "execution_count": 28,
   "metadata": {},
   "outputs": [
    {
     "name": "stdout",
     "output_type": "stream",
     "text": [
      "0.5613924004771684\n",
      "2.914475967415397e-12\n"
     ]
    }
   ],
   "source": [
    "np.random.seed(122)\n",
    "print(fcit.test(x1.T, y1.T, z1)) #ind, expect close to 1 \n",
    "\n",
    "np.random.seed(122)\n",
    "print(fcit.test(x2.T, y2.T, z2)) #dep, expect close to 0\n"
   ]
  },
  {
   "cell_type": "code",
   "execution_count": 13,
   "metadata": {},
   "outputs": [],
   "source": [
    "def gen_ind_gauss(dim, n):\n",
    "    \n",
    "    \n",
    "    #np.random.seed(125)\n",
    "    z = np.random.multivariate_normal(mean = np.zeros(dim), cov = np.eye(dim), size = n)\n",
    "\n",
    "    A = np.random.normal(loc = 0, scale = 1, size = dim*dim).reshape(dim,dim)\n",
    "    B = np.random.normal(loc = 0, scale = 1, size = dim*dim).reshape(dim,dim)\n",
    "    \n",
    "    x = A.dot(z.T) + np.random.multivariate_normal(mean = np.zeros(dim), cov = np.eye(dim), size = n).T\n",
    "    y = B.dot(z.T) + np.random.multivariate_normal(mean = np.zeros(dim), cov = np.eye(dim), size = n).T\n",
    "    \n",
    "    return x, y, z\n",
    "    \n",
    "    \n",
    "    \n",
    "def gen_dep_gauss(dim, n):\n",
    "    z = np.random.multivariate_normal(mean = np.zeros(dim), cov = np.eye(dim), size = n)\n",
    "\n",
    "    A = np.random.normal(loc = 0, scale = 1, size = dim*dim).reshape(dim,dim)\n",
    "    B = np.random.normal(loc = 0, scale = 1, size = dim*dim).reshape(dim,dim)\n",
    "\n",
    "    x = A.dot(z.T) + np.random.multivariate_normal(mean = np.zeros(dim), cov = np.eye(dim), size = n).T\n",
    "    y = B.dot(x) + np.random.multivariate_normal(mean = np.zeros(dim), cov = np.eye(dim), size = n).T\n",
    "    \n",
    "    return x, y, z"
   ]
  },
  {
   "cell_type": "code",
   "execution_count": 29,
   "metadata": {},
   "outputs": [
    {
     "name": "stdout",
     "output_type": "stream",
     "text": [
      "ind:  0.17530833141121233\n",
      "dep:  2.0924801204521705e-06\n",
      "ind:  0.5613924004771684\n",
      "dep:  2.914475967415397e-12\n"
     ]
    }
   ],
   "source": [
    "dim = 1\n",
    "\n",
    "\n",
    "\n",
    "for n in [1000, 100000]:\n",
    "    \n",
    "    np.random.seed(12)\n",
    "    ind_x, ind_y, ind_z = gen_ind_gauss(dim, n)\n",
    "    \n",
    "    np.random.seed(12)\n",
    "    dep_x, dep_y, dep_z = gen_dep_gauss(dim, n)\n",
    "    \n",
    "    np.random.seed(122)\n",
    "    print('ind: ', fcit.test(ind_x.T, ind_y.T, ind_z) )\n",
    "    \n",
    "    np.random.seed(122)\n",
    "    print('dep: ', fcit.test(dep_x.T, dep_y.T, dep_z) )"
   ]
  },
  {
   "cell_type": "code",
   "execution_count": 30,
   "metadata": {},
   "outputs": [],
   "source": [
    "dim = 1\n",
    "samps = [int(i) for i in np.arange(10e2, 10e5+1, 50000*2)]\n",
    "\n",
    "\n",
    "#for dim in dims:\n",
    "\n",
    "ind_p_vals = {}\n",
    "\n",
    "dep_p_vals = {}\n",
    "\n",
    "for n in samps:\n",
    "    \n",
    "    np.random.seed(12)\n",
    "    ind_x, ind_y, ind_z = gen_ind_gauss(dim, n)\n",
    "\n",
    "    np.random.seed(12)\n",
    "    dep_x, dep_y, dep_z = gen_dep_gauss(dim, n)\n",
    "    \n",
    "    np.random.seed(122)\n",
    "    ind_p_vals[n] = fcit.test(ind_x.T, ind_y.T, ind_z)\n",
    "\n",
    "    np.random.seed(122)\n",
    "    dep_p_vals[n] = fcit.test(dep_x.T, dep_y.T, dep_z)\n"
   ]
  },
  {
   "cell_type": "code",
   "execution_count": 31,
   "metadata": {},
   "outputs": [],
   "source": [
    "t0 = [i for i in ind_p_vals.keys()]\n",
    "t1 = [i for i in ind_p_vals.values()]\n",
    "\n",
    "t2 = [i for i in dep_p_vals.keys()]\n",
    "t3 = [i for i in dep_p_vals.values()]"
   ]
  },
  {
   "cell_type": "code",
   "execution_count": 32,
   "metadata": {},
   "outputs": [
    {
     "data": {
      "image/png": "[encoded data removed]",
      "text/plain": [
       "<Figure size 432x288 with 1 Axes>"
      ]
     },
     "metadata": {
      "needs_background": "light"
     },
     "output_type": "display_data"
    }
   ],
   "source": [
    "fig = plt.figure()\n",
    "ax1 = fig.add_subplot(111)\n",
    "\n",
    "ax1.scatter(t0, t1, c='b', marker=\"s\", label='independent')\n",
    "ax1.scatter(t2, t3,  c='r', marker=\"o\", label='dependent')\n",
    "ax1.set_yscale('log')\n",
    "ax1.set_xscale('log')\n",
    "plt.legend(loc='upper left');\n",
    "plt.show()"
   ]
  },
  {
   "cell_type": "code",
   "execution_count": 33,
   "metadata": {},
   "outputs": [
    {
     "data": {
      "text/plain": [
       "[0.17530833141117774,\n",
       " 0.5,\n",
       " 0.007756824170585334,\n",
       " 0.13547122105520537,\n",
       " 0.0007686502958667434,\n",
       " 0.5,\n",
       " 0.5,\n",
       " 0.5,\n",
       " 0.5,\n",
       " 0.07022182357346586]"
      ]
     },
     "execution_count": 33,
     "metadata": {},
     "output_type": "execute_result"
    }
   ],
   "source": [
    "t1"
   ]
  },
  {
   "cell_type": "code",
   "execution_count": 34,
   "metadata": {},
   "outputs": [
    {
     "data": {
      "text/plain": [
       "[2.092480120452178e-06,\n",
       " 3.599174748166518e-14,\n",
       " 1.078946601761464e-11,\n",
       " 6.422793667626829e-15,\n",
       " 4.748551173111515e-13,\n",
       " 1.8494665892094792e-12,\n",
       " 1.48881128280052e-10,\n",
       " 7.30376263786734e-12,\n",
       " 2.755266384285756e-09,\n",
       " 1.422994239972722e-14]"
      ]
     },
     "execution_count": 34,
     "metadata": {},
     "output_type": "execute_result"
    }
   ],
   "source": [
    "t3"
   ]
  },
  {
   "cell_type": "markdown",
   "metadata": {},
   "source": [
    "## NOT seeded"
   ]
  },
  {
   "cell_type": "code",
   "execution_count": 7,
   "metadata": {},
   "outputs": [],
   "source": [
    "#dims = [1, 2, 4, 8, 16, 32, 64, 128, 256]\n",
    "#dims = [1]\n",
    "dim = 1\n",
    "samps = [int(i) for i in np.arange(10e2, 10e5+1, 50000*2)]\n",
    "\n",
    "\n",
    "#for dim in dims:\n",
    "\n",
    "ind_p_vals = {}\n",
    "\n",
    "dep_p_vals = {}\n",
    "\n",
    "for n in samps:\n",
    "    \n",
    "    \n",
    "    ind_x, ind_y, ind_z = gen_ind_gauss(dim, n)\n",
    "\n",
    "    dep_x, dep_y, dep_z = gen_dep_gauss(dim, n)\n",
    "\n",
    "    ind_p_vals[n] = fcit.test(ind_x.T, ind_y.T, ind_z)\n",
    "\n",
    "    dep_p_vals[n] = fcit.test(dep_x.T, dep_y.T, dep_z)\n",
    "\n",
    "    \n",
    "\n",
    "        \n",
    "        \n",
    "    \n"
   ]
  },
  {
   "cell_type": "code",
   "execution_count": null,
   "metadata": {},
   "outputs": [],
   "source": [
    "t0 = [i for i in ind_p_vals.keys()]\n",
    "t1 = [i for i in ind_p_vals.values()]\n",
    "\n",
    "t2 = [i for i in dep_p_vals.keys()]\n",
    "t3 = [i for i in dep_p_vals.values()]"
   ]
  },
  {
   "cell_type": "code",
   "execution_count": 8,
   "metadata": {},
   "outputs": [],
   "source": [
    "with open('ind_p.pickle', 'wb') as handle:\n",
    "    pickle.dump(ind_p_vals, handle)\n",
    "    \n",
    "    \n",
    "    \n",
    "with open('dep_p.pickle', 'wb') as handle:\n",
    "    pickle.dump(dep_p_vals, handle)\n",
    "    \n",
    "    \n",
    "with open('ind_p.pickle', 'rb') as handle:\n",
    "    ind_p_vals = pickle.load(handle)\n",
    "    \n",
    "    \n",
    "    \n",
    "with open('dep_p.pickle', 'rb') as handle:\n",
    "    dep_p_vals = pickle.load(handle)"
   ]
  },
  {
   "cell_type": "code",
   "execution_count": 26,
   "metadata": {},
   "outputs": [],
   "source": [
    "t0 = [i for i in ind_p_vals.keys()]\n",
    "t1 = [i for i in ind_p_vals.values()]\n",
    "\n",
    "t2 = [i for i in dep_p_vals.keys()]\n",
    "t3 = [i for i in dep_p_vals.values()]\n"
   ]
  },
  {
   "cell_type": "code",
   "execution_count": 25,
   "metadata": {},
   "outputs": [
    {
     "data": {
      "image/png": "[encoded data removed]",
      "text/plain": [
       "<Figure size 432x288 with 1 Axes>"
      ]
     },
     "metadata": {
      "needs_background": "light"
     },
     "output_type": "display_data"
    }
   ],
   "source": [
    "fig = plt.figure()\n",
    "ax1 = fig.add_subplot(111)\n",
    "\n",
    "ax1.scatter(t0, t1, c='b', marker=\"s\", label='independent')\n",
    "ax1.scatter(t2, t3,  c='r', marker=\"o\", label='dependent')\n",
    "ax1.set_yscale('log')\n",
    "ax1.set_xscale('log')\n",
    "plt.legend(loc='upper left');\n",
    "plt.show()"
   ]
  },
  {
   "cell_type": "code",
   "execution_count": null,
   "metadata": {},
   "outputs": [],
   "source": [
    "dims = [1, 2, 4, 8, 16, 32, 64, 128, 256]\n",
    "samps = [int(i) for i in np.arange(10e2, 10e5+1, 50000*2)]\n",
    "\n",
    "\n",
    "ind_store = {}\n",
    "dep_store = {}\n",
    "\n",
    "for dim in dims:\n",
    "\n",
    "    ind_p_vals = {}\n",
    "\n",
    "    dep_p_vals = {}\n",
    "\n",
    "    for dim in dims:\n",
    "\n",
    "        for n in samps:\n",
    "\n",
    "            ind_x, ind_y, ind_z = gen_ind_gauss(dim, n)\n",
    "\n",
    "            dep_x, dep_y, dep_z = gen_dep_gauss(dim, n)\n",
    "\n",
    "            ind_p_vals[n] = fcit.test(ind_x.T, ind_y.T, ind_z)\n",
    "\n",
    "            dep_p_vals[n] = fcit.test(dep_x.T, dep_y.T, dep_z)\n",
    "        \n",
    "    ind_store[dim] = ind_p_vals\n",
    "    dep_store[dim] = dep_p_vals"
   ]
  }
 ],
 "metadata": {
  "kernelspec": {
   "display_name": "Python 3.8 (py38)",
   "language": "python",
   "name": "py38"
  },
  "language_info": {
   "codemirror_mode": {
    "name": "ipython",
    "version": 3
   },
   "file_extension": ".py",
   "mimetype": "text/x-python",
   "name": "python",
   "nbconvert_exporter": "python",
   "pygments_lexer": "ipython3",
   "version": "3.8.5"
  }
 },
 "nbformat": 4,
 "nbformat_minor": 4
}
