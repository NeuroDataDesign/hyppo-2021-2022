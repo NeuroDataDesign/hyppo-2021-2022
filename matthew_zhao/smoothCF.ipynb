{
 "cells": [
  {
   "cell_type": "code",
   "execution_count": 1,
   "metadata": {},
   "outputs": [],
   "source": [
    "from warnings import warn\n",
    "from numpy import mean, transpose, cov, cos, sin, shape, exp, newaxis, concatenate\n",
    "from numpy.linalg import linalg, LinAlgError, solve\n",
    "from scipy.stats import chi2\n",
    "\n",
    "\n",
    "#testing purposes\n",
    "from numpy.random import seed\n",
    "import numpy \n",
    "import abc"
   ]
  },
  {
   "cell_type": "code",
   "execution_count": 2,
   "metadata": {},
   "outputs": [],
   "source": [
    "def _gen_random(dimension, num_random_features):\n",
    "    return numpy.random.randn(dimension, num_random_features)\n",
    "\n",
    "def smooth(data):\n",
    "    w = linalg.norm(data, axis=1)\n",
    "    w = exp(-w ** 2 / 2)\n",
    "    return w[:, newaxis]\n",
    "\n",
    "def smooth_cf(data, w, random_frequencies):\n",
    "    n,_ = data.shape\n",
    "    _,d = random_frequencies.shape\n",
    "    mat = data.dot(random_frequencies)\n",
    "    arr = concatenate((sin(mat)*w, cos(mat)*w),1)\n",
    "    return arr"
   ]
  },
  {
   "cell_type": "code",
   "execution_count": 3,
   "metadata": {},
   "outputs": [
    {
     "data": {
      "text/plain": [
       "((500, 10), (500, 10))"
      ]
     },
     "execution_count": 3,
     "metadata": {},
     "output_type": "execute_result"
    }
   ],
   "source": [
    "#Construct data arrays, p-value < 0.05\n",
    "seed(120)\n",
    "\n",
    "scale = 1\n",
    "num_samples = 500\n",
    "dimensions = 10\n",
    "X = numpy.random.randn(num_samples, dimensions)\n",
    "#X[:, 1] *= 3\n",
    "Y = numpy.random.randn(num_samples, dimensions)\n",
    "X.shape, Y.shape"
   ]
  },
  {
   "cell_type": "code",
   "execution_count": 4,
   "metadata": {},
   "outputs": [
    {
     "data": {
      "text/plain": [
       "(10, 5)"
      ]
     },
     "execution_count": 4,
     "metadata": {},
     "output_type": "execute_result"
    }
   ],
   "source": [
    "#init\n",
    "data_x, data_y = scale*X, scale*Y\n",
    "num_random_features = 5\n",
    "\n",
    "_, dimension_x = numpy.shape(data_x)\n",
    "_, dimension_y = numpy.shape(data_y)\n",
    "assert dimension_x == dimension_y\n",
    "random_frequencies = _gen_random(dimension_x, num_random_features)\n",
    "random_frequencies.shape"
   ]
  },
  {
   "cell_type": "code",
   "execution_count": 5,
   "metadata": {},
   "outputs": [
    {
     "name": "stdout",
     "output_type": "stream",
     "text": [
      "0.9063755836469662\n"
     ]
    }
   ],
   "source": [
    "x_smooth, y_smooth = smooth(data_x), smooth(data_y)\n",
    "characteristic_fxn_x = smooth_cf(data_x, x_smooth, random_frequencies)\n",
    "characteristic_fxn_y = smooth_cf(data_y, y_smooth, random_frequencies)\n",
    "smooth_diff = characteristic_fxn_x - characteristic_fxn_y\n",
    "\n",
    "sigma = cov(transpose(smooth_diff))\n",
    "mu = mean(smooth_diff, 0)\n",
    "stat = num_samples * mu.dot(solve(sigma, mu.T)) #compute test statistic\n",
    "pval = chi2.sf(stat, 2*num_random_features) #convert to p-value\n",
    "\n",
    "print(pval)"
   ]
  },
  {
   "cell_type": "code",
   "execution_count": null,
   "metadata": {},
   "outputs": [],
   "source": []
  }
 ],
 "metadata": {
  "kernelspec": {
   "display_name": "Python 3.8 (py38)",
   "language": "python",
   "name": "py38"
  },
  "language_info": {
   "codemirror_mode": {
    "name": "ipython",
    "version": 3
   },
   "file_extension": ".py",
   "mimetype": "text/x-python",
   "name": "python",
   "nbconvert_exporter": "python",
   "pygments_lexer": "ipython3",
   "version": "3.8.5"
  }
 },
 "nbformat": 4,
 "nbformat_minor": 4
}
