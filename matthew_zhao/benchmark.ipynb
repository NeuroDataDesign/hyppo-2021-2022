{
 "cells": [
  {
   "cell_type": "code",
   "execution_count": 1,
   "metadata": {},
   "outputs": [],
   "source": [
    "import abc\n",
    "import numpy\n",
    "from analytic import SmoothCFTest, MeanEmbeddingTest\n",
    "from unittest import TestCase\n",
    "from numpy.random import seed\n",
    "\n",
    "\n",
    "from warnings import warn\n",
    "from numpy import mean, transpose, cov, cos, sin, shape, exp, newaxis, concatenate\n",
    "from numpy.linalg import linalg, LinAlgError, solve\n",
    "from scipy.stats import chi2\n",
    "\n",
    "\n",
    "#testing purposes\n",
    "from numpy.random import seed\n",
    "import numpy \n",
    "import abc"
   ]
  },
  {
   "cell_type": "code",
   "execution_count": 2,
   "metadata": {},
   "outputs": [],
   "source": [
    "\n",
    "num_samples = 500\n",
    "dimensions = 10\n",
    "seed(120)\n",
    "X = numpy.random.randn(num_samples, dimensions)\n",
    "X[:, 1] *= 3\n",
    "Y = numpy.random.randn(num_samples, dimensions)"
   ]
  },
  {
   "cell_type": "markdown",
   "metadata": {},
   "source": [
    "## Benchmark against below"
   ]
  },
  {
   "cell_type": "code",
   "execution_count": 3,
   "metadata": {},
   "outputs": [
    {
     "data": {
      "text/plain": [
       "6.598161566320998e-21"
      ]
     },
     "execution_count": 3,
     "metadata": {},
     "output_type": "execute_result"
    }
   ],
   "source": [
    "pvalue = SmoothCFTest(X, Y, scale=2.0**(-5)).compute_pvalue()\n",
    "pvalue"
   ]
  },
  {
   "cell_type": "code",
   "execution_count": 4,
   "metadata": {},
   "outputs": [
    {
     "data": {
      "text/plain": [
       "2.9590753405197295e-34"
      ]
     },
     "execution_count": 4,
     "metadata": {},
     "output_type": "execute_result"
    }
   ],
   "source": [
    "pvalue = MeanEmbeddingTest(X,Y,scale=2.0**(-5)).compute_pvalue()\n",
    "pvalue"
   ]
  },
  {
   "cell_type": "markdown",
   "metadata": {},
   "source": [
    "## Test Mean Embedding"
   ]
  },
  {
   "cell_type": "code",
   "execution_count": 5,
   "metadata": {},
   "outputs": [],
   "source": [
    "\n",
    "#init\n",
    "scale = 2**(-5)\n",
    "data_x, data_y = X*scale, Y*scale\n",
    "number_of_frequencies = 5 #what is this?\n",
    "_, dimension = numpy.shape(data_x)"
   ]
  },
  {
   "cell_type": "code",
   "execution_count": 6,
   "metadata": {},
   "outputs": [
    {
     "name": "stdout",
     "output_type": "stream",
     "text": [
      "2.9590753405197295e-34\n"
     ]
    }
   ],
   "source": [
    "seed(111)\n",
    "points = numpy.random.randn(number_of_frequencies, dimension) #test points\n",
    "\n",
    "ind = 0\n",
    "a = numpy.zeros([points.shape[0],data_x.shape[0]])\n",
    "for point in points:\n",
    "    zx = numpy.linalg.norm(data_x - scale * point, axis=1)**2\n",
    "    zy = numpy.linalg.norm(data_y - scale * point, axis=1)**2\n",
    "    zx_est, zy_est = numpy.exp(-zx/2.0), numpy.exp(-zy/2.0)\n",
    "    \n",
    "    diff = zx_est - zy_est #diff in mean embeddings\n",
    "    \n",
    "    a[ind] = diff\n",
    "    ind +=1\n",
    "\n",
    "obs = a.T\n",
    "\n",
    "num_samples, _ = shape(obs)\n",
    "sigma = cov(transpose(obs))\n",
    "mu = mean(obs, 0)\n",
    "stat = num_samples * mu.dot(solve(sigma, mu.T)) #compute test statistic\n",
    "pval = chi2.sf(stat, number_of_frequencies) #convert to p-value\n",
    "\n",
    "print(pval) #pval matches"
   ]
  },
  {
   "cell_type": "markdown",
   "metadata": {},
   "source": [
    "## Test Smooth CF"
   ]
  },
  {
   "cell_type": "code",
   "execution_count": 8,
   "metadata": {},
   "outputs": [
    {
     "name": "stdout",
     "output_type": "stream",
     "text": [
      "6.598161566320998e-21\n"
     ]
    }
   ],
   "source": [
    "def _gen_random(dimension, num_random_features):\n",
    "    seed(111)\n",
    "    return numpy.random.randn(dimension, num_random_features)\n",
    "\n",
    "def smooth(data):\n",
    "    w = linalg.norm(data, axis=1)\n",
    "    w = exp(-w ** 2 / 2)\n",
    "    return w[:, newaxis]\n",
    "\n",
    "def smooth_cf(data, w, random_frequencies):\n",
    "    n,_ = data.shape\n",
    "    _,d = random_frequencies.shape\n",
    "    mat = data.dot(random_frequencies)\n",
    "    arr = concatenate((sin(mat)*w, cos(mat)*w),1)\n",
    "    return arr\n",
    "\n",
    "\n",
    "#init\n",
    "scale = 2**(-5)\n",
    "data_x, data_y = scale*X, scale*Y\n",
    "num_random_features = 5\n",
    "\n",
    "_, dimension_x = numpy.shape(data_x)\n",
    "_, dimension_y = numpy.shape(data_y)\n",
    "assert dimension_x == dimension_y\n",
    "random_frequencies = _gen_random(dimension_x, num_random_features)\n",
    "random_frequencies.shape\n",
    "\n",
    "\n",
    "x_smooth, y_smooth = smooth(data_x), smooth(data_y)\n",
    "characteristic_fxn_x = smooth_cf(data_x, x_smooth, random_frequencies)\n",
    "characteristic_fxn_y = smooth_cf(data_y, y_smooth, random_frequencies)\n",
    "smooth_diff = characteristic_fxn_x - characteristic_fxn_y\n",
    "\n",
    "sigma = cov(transpose(smooth_diff))\n",
    "mu = mean(smooth_diff, 0)\n",
    "stat = num_samples * mu.dot(solve(sigma, mu.T)) #compute test statistic\n",
    "pval = chi2.sf(stat, 2*num_random_features) #convert to p-value\n",
    "\n",
    "print(pval)"
   ]
  },
  {
   "cell_type": "code",
   "execution_count": null,
   "metadata": {},
   "outputs": [],
   "source": []
  }
 ],
 "metadata": {
  "kernelspec": {
   "display_name": "Python 3.8 (py38)",
   "language": "python",
   "name": "py38"
  },
  "language_info": {
   "codemirror_mode": {
    "name": "ipython",
    "version": 3
   },
   "file_extension": ".py",
   "mimetype": "text/x-python",
   "name": "python",
   "nbconvert_exporter": "python",
   "pygments_lexer": "ipython3",
   "version": "3.8.5"
  }
 },
 "nbformat": 4,
 "nbformat_minor": 4
}
