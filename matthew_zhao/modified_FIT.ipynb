{
 "cells": [
  {
   "cell_type": "code",
   "execution_count": 9,
   "metadata": {},
   "outputs": [],
   "source": [
    "#Imports \n",
    "\n",
    "#utilities\n",
    "import os\n",
    "import time\n",
    "import joblib\n",
    "\n",
    "#stat tools\n",
    "import numpy as np\n",
    "from scipy.stats import ttest_1samp\n",
    "from sklearn.metrics import mean_squared_error as mse\n",
    "from sklearn.preprocessing import StandardScaler\n",
    "from hyppo.ksample import Hotelling\n",
    "\n",
    "#regressors\n",
    "from sklearn.tree import DecisionTreeRegressor\n",
    "from sklearn.linear_model import LinearRegression\n",
    "\n",
    "\n",
    "#cross validation\n",
    "from sklearn.model_selection import GridSearchCV\n",
    "from sklearn.model_selection import RandomizedSearchCV\n",
    "from sklearn.model_selection import ShuffleSplit\n",
    "from sklearn.random_projection import GaussianRandomProjection\n",
    "\n",
    "\n",
    "#graphing\n",
    "import matplotlib.pyplot as plt\n",
    "\n"
   ]
  },
  {
   "cell_type": "code",
   "execution_count": 2,
   "metadata": {},
   "outputs": [],
   "source": [
    "#don't need to change these\n",
    "\n",
    "#for concat of x and z \n",
    "def interleave(x, z, seed=None):\n",
    "    \"\"\" Interleave x and z dimension-wise.\n",
    "    Args:\n",
    "        x (n_samples, x_dim) array.\n",
    "        z (n_samples, z_dim) array.\n",
    "    Returns\n",
    "        An array of shape (n_samples, x_dim + z_dim) in which\n",
    "            the columns of x and z are interleaved at random.\n",
    "    \"\"\"\n",
    "    state = np.random.get_state()\n",
    "    np.random.seed(seed or int(time.time()))\n",
    "    total_ids = np.random.permutation(x.shape[1]+z.shape[1])\n",
    "    np.random.set_state(state)\n",
    "    out = np.zeros([x.shape[0], x.shape[1] + z.shape[1]])\n",
    "    out[:, total_ids[:x.shape[1]]] = x\n",
    "    out[:, total_ids[x.shape[1]:]] = z\n",
    "    return out\n",
    "\n",
    "#computes MSE\n",
    "def obtain_error(data_and_i):\n",
    "    \"\"\" \n",
    "    A function used for multithreaded computation of the fcit test statistic.\n",
    "    data['x']: First variable.\n",
    "    data['y']: Second variable.\n",
    "    data['z']: Conditioning variable.\n",
    "    data['data_permutation']: Permuted indices of the data.\n",
    "    data['perm_ids']: Permutation for the bootstrap.\n",
    "    data['n_test']: Number of test points.\n",
    "    data['clf']: Decision tree regressor.\n",
    "    \"\"\"\n",
    "    data, i = data_and_i\n",
    "    x = data['x']\n",
    "    y = data['y']\n",
    "    z = data['z']\n",
    "    if data['reshuffle']:\n",
    "        perm_ids = np.random.permutation(x.shape[0])\n",
    "    else:\n",
    "        perm_ids = np.arange(x.shape[0])\n",
    "    data_permutation = data['data_permutation'][i]\n",
    "    n_test = data['n_test']\n",
    "    clf = data['clf']\n",
    "\n",
    "    x_z = interleave(x[perm_ids], z, seed=i)\n",
    "\n",
    "    clf.fit(x_z[data_permutation][n_test:], y[data_permutation][n_test:])\n",
    "    return mse(y[data_permutation][:n_test],\n",
    "        clf.predict(x_z[data_permutation][:n_test]))\n"
   ]
  },
  {
   "cell_type": "code",
   "execution_count": 3,
   "metadata": {},
   "outputs": [],
   "source": [
    "def cross_val(x, y, z, cv_grid, verbose, model, prop_test):\n",
    "    \"\"\" Choose the best decision tree hyperparameters by\n",
    "    cross-validation. The hyperparameter to optimize is min_samples_split\n",
    "    (see sklearn's DecisionTreeRegressor).\n",
    "    Args:\n",
    "        x (n_samples, x_dim): Input data array.\n",
    "        y (n_samples, y_dim): Output data array.\n",
    "        z (n_samples, z_dim): Optional auxiliary input data.\n",
    "        cv_grid (list): List of hyperparameter values to try in CV.\n",
    "        regresor (sklearn classifier): Which regression model to use.\n",
    "        prop_test (float): Proportion of validation data to use.\n",
    "    Returns:\n",
    "        DecisionTreeRegressor with the best hyperparameter setting.\n",
    "    \"\"\"\n",
    "    \n",
    "    splitter = ShuffleSplit(n_splits=3, test_size=prop_test)\n",
    "    cv = GridSearchCV(estimator=model, cv=splitter,\n",
    "            param_grid=cv_grid, n_jobs=-1)\n",
    "    cv.fit(interleave(x, z), y)\n",
    "    \n",
    "    return type(model)(**cv.best_params_)\n",
    "    "
   ]
  },
  {
   "cell_type": "code",
   "execution_count": 4,
   "metadata": {},
   "outputs": [],
   "source": [
    "def test(x, y, z, model, cv_grid, ksamp_test=None, num_perm=8, prop_test=.1,\n",
    "    discrete=(False, False), plot_return=False, verbose=False, **kwargs):\n",
    "    \"\"\" Fast conditional independence test, based on decision-tree regression.\n",
    "    See Chalupka, Perona, Eberhardt 2017 [arXiv link coming].\n",
    "    Args:\n",
    "        x (n_samples, x_dim): First variable.\n",
    "        y (n_samples, y_dim): Second variable.\n",
    "        z (n_samples, z_dim): Conditioning variable. If z==None (default),\n",
    "            then performs an unconditional independence test.\n",
    "        num_perm: Number of data permutations to estimate\n",
    "            the p-value from marginal stats.\n",
    "        prop_test (int): Proportion of data to evaluate test stat on.\n",
    "        discrete (bool, bool): Whether x or y are discrete.\n",
    "        plot_return (bool): If True, return statistics useful for plotting.\n",
    "        verbose (bool): Print out progress messages (or not).\n",
    "        cv_grid (list): cv params\n",
    "    Returns:\n",
    "        p (float): The p-value for the null hypothesis\n",
    "            that x is independent of y.\n",
    "    \"\"\"\n",
    "    ###################################################\n",
    "    # Compute test set size.\n",
    "    n_samples = x.shape[0]\n",
    "    n_test = int(n_samples * prop_test)\n",
    "\n",
    "    if z is None:\n",
    "        z = np.empty([n_samples, 0])\n",
    "\n",
    "    if discrete[0] and not discrete[1]:\n",
    "        # If x xor y is discrete, use the continuous variable as input.\n",
    "        x, y = y, x\n",
    "    elif x.shape[1] < y.shape[1]:\n",
    "        # Otherwise, predict the variable with fewer dimensions.\n",
    "        x, y = y, x\n",
    "        \n",
    "    # Normalize y to make the decision tree stopping criterion meaningful.\n",
    "    y = StandardScaler().fit_transform(y)\n",
    "    \n",
    "    # Set up storage for true data and permuted data MSEs.\n",
    "    d0_stats = np.zeros(num_perm)\n",
    "    d1_stats = np.zeros(num_perm)\n",
    "    data_permutations = [np.random.permutation(n_samples) for i in range(num_perm)]\n",
    "    \n",
    "    ########################################################\n",
    "    # Compute mses for y = f(x, z), varying train-test splits.\n",
    "    clf = cross_val(x, y, z, cv_grid, verbose, model, prop_test=prop_test)\n",
    "    datadict = {\n",
    "            'x': x,\n",
    "            'y': y,\n",
    "            'z': z,\n",
    "            'data_permutation': data_permutations,\n",
    "            'n_test': n_test,\n",
    "            'reshuffle': False,\n",
    "            'clf': clf,\n",
    "            }\n",
    "    d1_stats = np.array(joblib.Parallel(n_jobs=-1, max_nbytes=100e6)(\n",
    "        joblib.delayed(obtain_error)((datadict, i)) for i in range(num_perm)))\n",
    "\n",
    "    \n",
    "    #####################################################################33\n",
    "    # Compute mses for y = f(x, reshuffle(z)), varying train-test splits.\n",
    "    if z.shape[1] == 0:\n",
    "        x_indep_y = x[np.random.permutation(n_samples)]\n",
    "    else:\n",
    "        x_indep_y = np.empty([x.shape[0], 0])\n",
    "        \n",
    "        \n",
    "    clf = cross_val(x_indep_y, y, z, cv_grid, verbose, model, prop_test=prop_test)\n",
    "    \n",
    "    datadict['reshuffle'] = True\n",
    "    datadict['x'] = x_indep_y\n",
    "    d0_stats = np.array(joblib.Parallel(n_jobs=-1, max_nbytes=100e6)(\n",
    "        joblib.delayed(obtain_error)((datadict, i)) for i in range(num_perm)))\n",
    "\n",
    "    \n",
    "    \n",
    "    if verbose:\n",
    "        np.set_printoptions(precision=3)\n",
    "        print('D0 statistics: {}'.format(d0_stats))\n",
    "        print('D1 statistics: {}\\n'.format(d1_stats))\n",
    "\n",
    "        \n",
    "    #######################################################33    \n",
    "    # Compute the p-value (one-tailed t-test\n",
    "    # that mean of mse ratios equals 1) <- default, o.w. use k-sample.\n",
    "    \n",
    "    \n",
    "    if not ksamp_test:\n",
    "        t, p_value = ttest_1samp(d0_stats / d1_stats, 1)\n",
    "        if t < 0:\n",
    "            p_value = 1 - p_value / 2\n",
    "        else:\n",
    "            p_value = p_value / 2\n",
    "\n",
    "        if plot_return:\n",
    "            return (p_value, d0_stats, d1_stats)\n",
    "        else:\n",
    "            return p_value\n",
    "    else:\n",
    "        _, p_value = ksamp_test.test(d0_stats, d1_stats)\n",
    "        \n",
    "        return p_value[0]"
   ]
  },
  {
   "cell_type": "code",
   "execution_count": 5,
   "metadata": {},
   "outputs": [
    {
     "name": "stdout",
     "output_type": "stream",
     "text": [
      "pval_i:  0.1414177027380779\n",
      "pval_d:  0.027107766030217275\n"
     ]
    }
   ],
   "source": [
    "#Using random forest\n",
    "x = np.random.rand(1000, 1)\n",
    "y = np.random.randn(1000, 1)\n",
    "\n",
    "pval_i = test(x, y, z=None, model=DecisionTreeRegressor(), cv_grid={'min_samples_split': [2, 8, 64, 512, 1e-2, .2, .4]\n",
    "                                                           }) # p-value should be uniform on [0, 1].\n",
    "pval_d = test(x, x + y, z=None, model=DecisionTreeRegressor(), cv_grid={'min_samples_split': [2, 8, 64, 512, 1e-2, .2, .4]\n",
    "                                                               }) # p-value should be very small.\n",
    "\n",
    "\n",
    "print(\"pval_i: \", pval_i)\n",
    "print(\"pval_d: \", pval_d) # as expected "
   ]
  },
  {
   "cell_type": "code",
   "execution_count": 7,
   "metadata": {},
   "outputs": [
    {
     "name": "stdout",
     "output_type": "stream",
     "text": [
      "pval_i:  0.48207157125288336\n",
      "pval_d:  0.0021442234617511415\n"
     ]
    }
   ],
   "source": [
    "#Using linear regression\n",
    "\n",
    "x = np.random.rand(1000, 1)\n",
    "y = np.random.randn(1000, 1)\n",
    "\n",
    "pval_i = test(x, y, z=None,model=LinearRegression(), cv_grid={'fit_intercept': [True, False]\n",
    "                                                           }) # p-value should be uniform on [0, 1].\n",
    "pval_d = test(x, x + y, z=None,model=LinearRegression(), cv_grid={'fit_intercept': [True, False]\n",
    "                                                               }) # p-value should be very small.\n",
    "\n",
    "\n",
    "print(\"pval_i: \", pval_i)\n",
    "print(\"pval_d: \", pval_d) # as expected "
   ]
  },
  {
   "cell_type": "code",
   "execution_count": 9,
   "metadata": {},
   "outputs": [
    {
     "name": "stdout",
     "output_type": "stream",
     "text": [
      "pval_i:  0.18448198186211112\n",
      "pval_d:  0.0015768555702319305\n"
     ]
    }
   ],
   "source": [
    "#Using random forest\n",
    "x = np.random.rand(1000, 1)\n",
    "y = np.random.randn(1000, 1)\n",
    "\n",
    "\n",
    "#k = Hotelling()\n",
    "k = None\n",
    "\n",
    "pval_i = test(x, y, z=None, model=DecisionTreeRegressor(), ksamp_test=k, \n",
    "              cv_grid={'min_samples_split': [2, 8, 64, 512, 1e-2, .2, .4]}) \n",
    "\n",
    "\n",
    "pval_d = test(x, x + y, z=None, model=DecisionTreeRegressor(), ksamp_test=k,\n",
    "              cv_grid={'min_samples_split': [2, 8, 64, 512, 1e-2, .2, .4]})\n",
    "\n",
    "\n",
    "print(\"pval_i: \", pval_i)\n",
    "print(\"pval_d: \", pval_d) "
   ]
  },
  {
   "cell_type": "markdown",
   "metadata": {},
   "source": [
    "## Experiments"
   ]
  },
  {
   "cell_type": "code",
   "execution_count": 21,
   "metadata": {},
   "outputs": [
    {
     "data": {
      "text/plain": [
       "Text(0.5, 1.0, 'dependent')"
      ]
     },
     "execution_count": 21,
     "metadata": {},
     "output_type": "execute_result"
    },
    {
     "data": {
      "image/png": "[encoded data removed]",
      "text/plain": [
       "<Figure size 720x360 with 2 Axes>"
      ]
     },
     "metadata": {
      "needs_background": "light"
     },
     "output_type": "display_data"
    }
   ],
   "source": [
    "dim = 1\n",
    "n = 100000\n",
    "np.random.seed(12)\n",
    "'''\n",
    "z -> sample n x d from multivariate gaussian\n",
    "'''\n",
    "\n",
    "#independent\n",
    "\n",
    "z1 = np.random.multivariate_normal(mean = np.zeros(dim), cov = np.eye(dim), size = (n))\n",
    "\n",
    "\n",
    "\n",
    "'''\n",
    "A -> dim x dim \n",
    "'''\n",
    "\n",
    "A1 = np.random.normal(loc = 0, scale = 1, size = dim*dim).reshape(dim,dim)\n",
    "B1 = np.random.normal(loc = 0, scale = 1, size = dim*dim).reshape(dim,dim)\n",
    "\n",
    "x1 = A1@z1.T + np.random.multivariate_normal(mean = np.zeros(dim), cov = np.eye(dim), size = (n)).T\n",
    "y1 = B1@z1.T + np.random.multivariate_normal(mean = np.zeros(dim), cov = np.eye(dim), size = (n)).T\n",
    "\n",
    "#dependent\n",
    "\n",
    "np.random.seed(12)\n",
    "z2 = np.random.multivariate_normal(mean = np.zeros(dim), cov = np.eye(dim), size = (n))\n",
    "\n",
    "A2 = np.random.normal(loc = 0, scale = 1, size = dim*dim).reshape(dim,dim)\n",
    "B2 = np.random.normal(loc = 0, scale = 1, size = dim*dim).reshape(dim,dim)\n",
    "\n",
    "x2 = A2@z2.T + np.random.multivariate_normal(mean = np.zeros(dim), cov = np.eye(dim), size = (n)).T\n",
    "y2 = B2@x2 + np.random.multivariate_normal(mean = np.zeros(dim), cov = np.eye(dim), size = (n)).T\n",
    "\n",
    "\n",
    "plt.figure(figsize=(10,5))\n",
    "\n",
    "plt.subplot(1,2,1)\n",
    "plt.axis('equal')\n",
    "plt.scatter(x1,y1)\n",
    "plt.title('independent')\n",
    "\n",
    "plt.subplot(1,2,2)\n",
    "plt.axis('equal')\n",
    "plt.scatter(x2,y2)\n",
    "plt.title('dependent')"
   ]
  },
  {
   "cell_type": "code",
   "execution_count": 22,
   "metadata": {},
   "outputs": [
    {
     "name": "stdout",
     "output_type": "stream",
     "text": [
      "0.5613924004771689\n",
      "2.914475967415397e-12\n"
     ]
    }
   ],
   "source": [
    "k=None\n",
    "\n",
    "\n",
    "np.random.seed(122)\n",
    "print(test(x1.T, y1.T, z1, model=DecisionTreeRegressor(), ksamp_test=k, \n",
    "              cv_grid={'min_samples_split': [2, 8, 64, 512, 1e-2, .2, .4]})) #ind, expect close to 1 \n",
    "\n",
    "np.random.seed(122)\n",
    "print(test(x2.T, y2.T, z2,model=DecisionTreeRegressor(), ksamp_test=k, \n",
    "              cv_grid={'min_samples_split': [2, 8, 64, 512, 1e-2, .2, .4]})) #dep, expect close to 0"
   ]
  },
  {
   "cell_type": "code",
   "execution_count": 17,
   "metadata": {},
   "outputs": [],
   "source": [
    "def gen_ind_gauss(dim, n):\n",
    "    \n",
    "    z = np.random.multivariate_normal(mean = np.zeros(dim), cov = np.eye(dim), size = n)\n",
    "\n",
    "    A = np.random.normal(loc = 0, scale = 1, size = dim*dim).reshape(dim,dim)\n",
    "    B = np.random.normal(loc = 0, scale = 1, size = dim*dim).reshape(dim,dim)\n",
    "    \n",
    "    x = A.dot(z.T) + np.random.multivariate_normal(mean = np.zeros(dim), cov = np.eye(dim), size = n).T\n",
    "    y = B.dot(z.T) + np.random.multivariate_normal(mean = np.zeros(dim), cov = np.eye(dim), size = n).T\n",
    "    \n",
    "    return x, y, z\n",
    "    \n",
    "    \n",
    "    \n",
    "def gen_dep_gauss(dim, n):\n",
    "    z = np.random.multivariate_normal(mean = np.zeros(dim), cov = np.eye(dim), size = n)\n",
    "\n",
    "    A = np.random.normal(loc = 0, scale = 1, size = dim*dim).reshape(dim,dim)\n",
    "    B = np.random.normal(loc = 0, scale = 1, size = dim*dim).reshape(dim,dim)\n",
    "\n",
    "    x = A.dot(z.T) + np.random.multivariate_normal(mean = np.zeros(dim), cov = np.eye(dim), size = n).T\n",
    "    y = B.dot(x) + np.random.multivariate_normal(mean = np.zeros(dim), cov = np.eye(dim), size = n).T\n",
    "    \n",
    "    return x, y, z\n",
    "\n"
   ]
  },
  {
   "cell_type": "code",
   "execution_count": 13,
   "metadata": {},
   "outputs": [],
   "source": [
    "dim = 1\n",
    "n = 100000\n",
    "\n",
    "x1, y1, z1 = gen_ind_gauss(dim,n)\n",
    "x2, y2, z2 = gen_dep_gauss(dim,n)\n",
    "\n",
    "k = None\n",
    "\n",
    "\n",
    "\n",
    "pval_i = test(x1.T, y1.T, z1, model=DecisionTreeRegressor(), ksamp_test=k, \n",
    "              cv_grid={'min_samples_split': [2, 8, 64, 512, 1e-2, .2, .4]}) \n",
    "\n",
    "pval_d = test(x2.T, y2.T, z2, model=DecisionTreeRegressor(), ksamp_test=k, \n",
    "              cv_grid={'min_samples_split': [2, 8, 64, 512, 1e-2, .2, .4]}) \n"
   ]
  },
  {
   "cell_type": "code",
   "execution_count": 14,
   "metadata": {},
   "outputs": [
    {
     "name": "stdout",
     "output_type": "stream",
     "text": [
      "0.9077376923890623\n",
      "4.502629953010262e-15\n"
     ]
    }
   ],
   "source": [
    "print(pval_i)\n",
    "print(pval_d)"
   ]
  },
  {
   "cell_type": "code",
   "execution_count": 23,
   "metadata": {},
   "outputs": [
    {
     "name": "stdout",
     "output_type": "stream",
     "text": [
      "ind:  0.17530833141121233\n",
      "dep:  2.0924801204521633e-06\n",
      "ind:  0.5613924004771503\n",
      "dep:  2.9144759674153762e-12\n"
     ]
    }
   ],
   "source": [
    "dim = 1\n",
    "k = None\n",
    "\n",
    "model = DecisionTreeRegressor()\n",
    "cv_grid = {'min_samples_split': [2, 8, 64, 512, 1e-2, .2, .4]}\n",
    "\n",
    "\n",
    "for n in [1000, 100000]:\n",
    "    \n",
    "    np.random.seed(12)\n",
    "    ind_x, ind_y, ind_z = gen_ind_gauss(dim, n)\n",
    "    \n",
    "    np.random.seed(12)\n",
    "    dep_x, dep_y, dep_z = gen_dep_gauss(dim, n)\n",
    "    \n",
    "    np.random.seed(122)\n",
    "    print('ind: ', test(ind_x.T, ind_y.T, ind_z, model=model, ksamp_test=k, cv_grid=cv_grid) )\n",
    "    \n",
    "    np.random.seed(122)\n",
    "    print('dep: ', test(dep_x.T, dep_y.T, dep_z, model=model, ksamp_test=k, cv_grid=cv_grid) )"
   ]
  },
  {
   "cell_type": "code",
   "execution_count": 38,
   "metadata": {},
   "outputs": [
    {
     "name": "stdout",
     "output_type": "stream",
     "text": [
      "samp:  1000\n",
      "0.1753083314110392\n",
      "2.0924801204521633e-06\n",
      "samp:  101000\n",
      "0.5\n",
      "3.599174748166735e-14\n",
      "samp:  201000\n",
      "0.007756824170585334\n",
      "1.0789466017614715e-11\n",
      "samp:  301000\n",
      "0.13547122105521275\n",
      "6.422793667626829e-15\n",
      "samp:  401000\n",
      "0.0007686502958668363\n",
      "4.748551173111515e-13\n",
      "samp:  501000\n",
      "0.5\n",
      "1.8494665892094792e-12\n",
      "samp:  601000\n",
      "0.5\n",
      "1.4888112828009435e-10\n",
      "samp:  701000\n",
      "0.5\n",
      "7.303762637865264e-12\n",
      "samp:  801000\n",
      "0.5\n",
      "2.755266384285521e-09\n",
      "samp:  901000\n",
      "0.07022182357346586\n",
      "1.4229942399728535e-14\n"
     ]
    }
   ],
   "source": [
    "dim = 1\n",
    "samps = [int(i) for i in np.arange(10e2, 10e5+1, 50000*2)]\n",
    "\n",
    "k = None\n",
    "\n",
    "model = DecisionTreeRegressor()\n",
    "cv_grid = {'min_samples_split': [2, 8, 64, 512, 1e-2, .2, .4]}\n",
    "\n",
    "#for dim in dims:\n",
    "\n",
    "ind_p_vals = {}\n",
    "\n",
    "dep_p_vals = {}\n",
    "\n",
    "for n in samps:\n",
    "\n",
    "    np.random.seed(12)   \n",
    "    ind_x, ind_y, ind_z = gen_ind_gauss(dim, n)\n",
    "\n",
    "    np.random.seed(12)  \n",
    "    dep_x, dep_y, dep_z = gen_dep_gauss(dim, n)\n",
    "    \n",
    "    print('samp: ', n)\n",
    "\n",
    "    np.random.seed(122)  \n",
    "    ind_p_vals[n] = test(ind_x.T, ind_y.T, ind_z, model=model, ksamp_test=k, cv_grid=cv_grid) \n",
    "    \n",
    "    print(ind_p_vals[n])\n",
    "    \n",
    "    np.random.seed(122)  \n",
    "    dep_p_vals[n] = test(dep_x.T, dep_y.T, dep_z, model=model, ksamp_test=k, cv_grid=cv_grid) \n",
    "    \n",
    "    print(dep_p_vals[n])\n",
    "    \n",
    "    "
   ]
  },
  {
   "cell_type": "code",
   "execution_count": 39,
   "metadata": {},
   "outputs": [],
   "source": [
    "t0 = [i for i in ind_p_vals.keys()]\n",
    "t1 = [i for i in ind_p_vals.values()]\n",
    "\n",
    "t2 = [i for i in dep_p_vals.keys()]\n",
    "t3 = [i for i in dep_p_vals.values()]"
   ]
  },
  {
   "cell_type": "code",
   "execution_count": 40,
   "metadata": {},
   "outputs": [
    {
     "data": {
      "image/png": "[encoded data removed]",
      "text/plain": [
       "<Figure size 432x288 with 1 Axes>"
      ]
     },
     "metadata": {
      "needs_background": "light"
     },
     "output_type": "display_data"
    }
   ],
   "source": [
    "fig = plt.figure()\n",
    "ax1 = fig.add_subplot(111)\n",
    "\n",
    "ax1.scatter(t0, t1, c='b', marker=\"s\", label='independent')\n",
    "ax1.scatter(t2, t3,  c='r', marker=\"o\", label='dependent')\n",
    "ax1.set_yscale('log')\n",
    "ax1.set_xscale('log')\n",
    "plt.legend(loc='upper left');\n",
    "plt.show()"
   ]
  },
  {
   "cell_type": "markdown",
   "metadata": {},
   "source": [
    "## NOT seeded"
   ]
  },
  {
   "cell_type": "code",
   "execution_count": 15,
   "metadata": {},
   "outputs": [],
   "source": [
    "dim = 1\n",
    "samps = [int(i) for i in np.arange(10e2, 10e5+1, 50000*2)]\n",
    "\n",
    "k = None\n",
    "\n",
    "model = DecisionTreeRegressor()\n",
    "cv_grid = {'min_samples_split': [2, 8, 64, 512, 1e-2, .2, .4]}\n",
    "\n",
    "#for dim in dims:\n",
    "\n",
    "ind_p_vals = {}\n",
    "\n",
    "dep_p_vals = {}\n",
    "\n",
    "for n in samps:\n",
    "\n",
    "    ind_x, ind_y, ind_z = gen_ind_gauss(dim, n)\n",
    "\n",
    "    dep_x, dep_y, dep_z = gen_dep_gauss(dim, n)\n",
    "\n",
    "    ind_p_vals[n] = test(ind_x.T, ind_y.T, ind_z, model=model, ksamp_test=k, cv_grid=cv_grid) \n",
    "\n",
    "    dep_p_vals[n] = test(dep_x.T, dep_y.T, dep_z, model=model, ksamp_test=k, cv_grid=cv_grid) "
   ]
  },
  {
   "cell_type": "code",
   "execution_count": 16,
   "metadata": {},
   "outputs": [],
   "source": [
    "t0 = [i for i in ind_p_vals.keys()]\n",
    "t1 = [i for i in ind_p_vals.values()]\n",
    "\n",
    "t2 = [i for i in dep_p_vals.keys()]\n",
    "t3 = [i for i in dep_p_vals.values()]"
   ]
  },
  {
   "cell_type": "code",
   "execution_count": 18,
   "metadata": {},
   "outputs": [
    {
     "data": {
      "image/png": "[encoded data removed]",
      "text/plain": [
       "<Figure size 432x288 with 1 Axes>"
      ]
     },
     "metadata": {
      "needs_background": "light"
     },
     "output_type": "display_data"
    }
   ],
   "source": [
    "fig = plt.figure()\n",
    "ax1 = fig.add_subplot(111)\n",
    "\n",
    "ax1.scatter(t0, t1, c='b', marker=\"s\", label='independent')\n",
    "ax1.scatter(t2, t3,  c='r', marker=\"o\", label='dependent')\n",
    "ax1.set_yscale('log')\n",
    "ax1.set_xscale('log')\n",
    "plt.legend(loc='upper left');\n",
    "plt.show()"
   ]
  },
  {
   "cell_type": "code",
   "execution_count": 19,
   "metadata": {},
   "outputs": [],
   "source": [
    "dim = 1\n",
    "samps = [int(i) for i in np.arange(10e2, 10e5+1, 50000*2)]\n",
    "\n",
    "k = None\n",
    "\n",
    "model=LinearRegression()\n",
    "\n",
    "cv_grid={'fit_intercept': [True, False]}\n",
    "\n",
    "#for dim in dims:\n",
    "b \n",
    "ind_p_vals = {}\n",
    "\n",
    "dep_p_vals = {}\n",
    "\n",
    "for n in samps:\n",
    "\n",
    "    ind_x, ind_y, ind_z = gen_ind_gauss(dim, n)\n",
    "\n",
    "    dep_x, dep_y, dep_z = gen_dep_gauss(dim, n)\n",
    "\n",
    "    ind_p_vals[n] = test(ind_x.T, ind_y.T, ind_z, model=model, ksamp_test=k, cv_grid=cv_grid) \n",
    "\n",
    "    dep_p_vals[n] = test(dep_x.T, dep_y.T, dep_z, model=model, ksamp_test=k, cv_grid=cv_grid) "
   ]
  },
  {
   "cell_type": "code",
   "execution_count": 20,
   "metadata": {},
   "outputs": [],
   "source": [
    "t0 = [i for i in ind_p_vals.keys()]\n",
    "t1 = [i for i in ind_p_vals.values()]\n",
    "\n",
    "t2 = [i for i in dep_p_vals.keys()]\n",
    "t3 = [i for i in dep_p_vals.values()]"
   ]
  },
  {
   "cell_type": "code",
   "execution_count": 21,
   "metadata": {},
   "outputs": [
    {
     "data": {
      "image/png": "[encoded data removed]",
      "text/plain": [
       "<Figure size 432x288 with 1 Axes>"
      ]
     },
     "metadata": {
      "needs_background": "light"
     },
     "output_type": "display_data"
    }
   ],
   "source": [
    "fig = plt.figure()\n",
    "ax1 = fig.add_subplot(111)\n",
    "\n",
    "ax1.scatter(t0, t1, c='b', marker=\"s\", label='independent')\n",
    "ax1.scatter(t2, t3,  c='r', marker=\"o\", label='dependent')\n",
    "ax1.set_yscale('log')\n",
    "ax1.set_xscale('log')\n",
    "plt.legend(loc='upper left');\n",
    "plt.show()"
   ]
  },
  {
   "cell_type": "code",
   "execution_count": null,
   "metadata": {},
   "outputs": [],
   "source": []
  }
 ],
 "metadata": {
  "kernelspec": {
   "display_name": "Python 3.8 (py38)",
   "language": "python",
   "name": "py38"
  },
  "language_info": {
   "codemirror_mode": {
    "name": "ipython",
    "version": 3
   },
   "file_extension": ".py",
   "mimetype": "text/x-python",
   "name": "python",
   "nbconvert_exporter": "python",
   "pygments_lexer": "ipython3",
   "version": "3.8.5"
  }
 },
 "nbformat": 4,
 "nbformat_minor": 4
}
