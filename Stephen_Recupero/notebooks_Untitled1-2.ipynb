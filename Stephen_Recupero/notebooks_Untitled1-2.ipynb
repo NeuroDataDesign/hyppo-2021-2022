{
  "metadata": {
    "language_info": {
      "codemirror_mode": {
        "name": "python",
        "version": 3
      },
      "file_extension": ".py",
      "mimetype": "text/x-python",
      "name": "python",
      "nbconvert_exporter": "python",
      "pygments_lexer": "ipython3",
      "version": "3.8"
    },
    "kernelspec": {
      "name": "python",
      "display_name": "Pyolite",
      "language": "python"
    }
  },
  "nbformat_minor": 4,
  "nbformat": 4,
  "cells": [
    {
      "cell_type": "code",
      "source": "import numpy\nimport scipy\nimport hyppo\nfrom hyppo.tools import compute_dist\nfrom hyppo._utils import _CheckInputs",
      "metadata": {
        "trusted": true
      },
      "execution_count": null,
      "outputs": []
    },
    {
      "cell_type": "code",
      "source": "def conditional_dcorr(x,y,z,width, index = 1, distance = False, reps = 1000, **kwargs):\n    check_input = _CheckInputs(\n            x,\n            y,\n            reps=reps,\n        )\n    x, y = check_input()\n    #unsure of how to check z as check_input takes two inputs\n    check_input = _CheckInputs(\n            z,\n            z,\n            reps=reps,\n        )\n    z, z_copy = check_input()\n    distx, disty = compute_dist(\n                x, y, metric=\"euclidean\", **kwargs)\n    distz, distz_copy = compute_dist(\n                z, z, metric=\"euclidean\", **kwargs)\n    stat = Statistic( x, variable_index, y, z, width, distance_index, threads, num_bootstraps, seed, \n                   kernel_type)\n    return stat\n\ndef Statistic(x, variable_index, y, z, width, distance_index, threads, num_bootstraps, seed, kernel_type):\n    ",
      "metadata": {},
      "execution_count": null,
      "outputs": []
    }
  ]
}