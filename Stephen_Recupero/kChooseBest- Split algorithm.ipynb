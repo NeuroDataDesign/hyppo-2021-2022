{
 "cells": [
  {
   "cell_type": "code",
   "execution_count": 2,
   "metadata": {},
   "outputs": [],
   "source": [
    "import numpy as np"
   ]
  },
  {
   "cell_type": "code",
   "execution_count": 1,
   "metadata": {},
   "outputs": [],
   "source": [
    "def helper_2(number):\n",
    "    primfac = []\n",
    "    d = 2\n",
    "    while d*d <= number:\n",
    "        while (number % d) == 0:\n",
    "            primfac.append(d)  # supposing you want multiple factors repeated\n",
    "            number //= d\n",
    "        d += 1\n",
    "    if number > 1:\n",
    "        primfac.append(number)\n",
    "    \n",
    "    return primfac"
   ]
  },
  {
   "cell_type": "code",
   "execution_count": 4,
   "metadata": {},
   "outputs": [],
   "source": [
    "def helper_3(features,k):\n",
    "    number = round(features/k)\n",
    "    splits = []\n",
    "    i = 0\n",
    "    margin = int(number / 10) + 1\n",
    "    if (margin % 2 == 1):\n",
    "        margin = margin + 1\n",
    "    while i < margin / 2:\n",
    "        splits.append(helper_2(number + i))\n",
    "        if i != 0:\n",
    "            splits.append(helper_2(number - i))\n",
    "        i = i + 1\n",
    "    tests_count = []\n",
    "    j = 0\n",
    "    while j < len(splits):\n",
    "        target = int(features / np.prod(splits[j]))\n",
    "        if (features/np.prod(splits[j])) == k:\n",
    "            tests_count.append(np.sum(splits[j]))\n",
    "        elif ((target == k) or (target== k - 1)) and abs((features / np.prod(splits[j])) - k) != 1:\n",
    "            extra_j = int(1/(1-abs((features / np.prod(splits[j])) - k)))       \n",
    "            tests_count.append(np.sum(splits[j])+ extra_j)\n",
    "        j = j + 1\n",
    "    sorted_index = np.argsort(tests_count)\n",
    "    best = sorted_index[0]\n",
    "    return(splits[best],tests_count[best])\n",
    "\n"
   ]
  },
  {
   "cell_type": "code",
   "execution_count": 13,
   "metadata": {},
   "outputs": [
    {
     "name": "stdout",
     "output_type": "stream",
     "text": [
      "([2, 3, 3, 3, 5], 17)\n",
      "([7, 11], 19)\n",
      "([3, 3, 3, 3, 3, 3], 19)\n",
      "([2, 2, 3, 3, 3], 14)\n",
      "([29], 43)\n"
     ]
    },
    {
     "ename": "IndexError",
     "evalue": "index 0 is out of bounds for axis 0 with size 0",
     "output_type": "error",
     "traceback": [
      "\u001b[0;31m---------------------------------------------------------------------------\u001b[0m",
      "\u001b[0;31mIndexError\u001b[0m                                Traceback (most recent call last)",
      "\u001b[0;32m<ipython-input-13-d928397bd105>\u001b[0m in \u001b[0;36m<module>\u001b[0;34m\u001b[0m\n\u001b[1;32m      4\u001b[0m \u001b[0mprint\u001b[0m\u001b[0;34m(\u001b[0m\u001b[0mhelper_3\u001b[0m\u001b[0;34m(\u001b[0m\u001b[0;36m15256\u001b[0m\u001b[0;34m,\u001b[0m\u001b[0;36m141\u001b[0m\u001b[0;34m)\u001b[0m\u001b[0;34m)\u001b[0m\u001b[0;34m\u001b[0m\u001b[0;34m\u001b[0m\u001b[0m\n\u001b[1;32m      5\u001b[0m \u001b[0mprint\u001b[0m\u001b[0;34m(\u001b[0m\u001b[0mhelper_3\u001b[0m\u001b[0;34m(\u001b[0m\u001b[0;36m15256\u001b[0m\u001b[0;34m,\u001b[0m\u001b[0;36m527\u001b[0m\u001b[0;34m)\u001b[0m\u001b[0;34m)\u001b[0m\u001b[0;34m\u001b[0m\u001b[0;34m\u001b[0m\u001b[0m\n\u001b[0;32m----> 6\u001b[0;31m \u001b[0mprint\u001b[0m\u001b[0;34m(\u001b[0m\u001b[0mhelper_3\u001b[0m\u001b[0;34m(\u001b[0m\u001b[0;36m15256\u001b[0m\u001b[0;34m,\u001b[0m\u001b[0;36m552\u001b[0m\u001b[0;34m)\u001b[0m\u001b[0;34m)\u001b[0m\u001b[0;34m\u001b[0m\u001b[0;34m\u001b[0m\u001b[0m\n\u001b[0m",
      "\u001b[0;32m<ipython-input-4-32a24d67cb11>\u001b[0m in \u001b[0;36mhelper_3\u001b[0;34m(features, k)\u001b[0m\n\u001b[1;32m     22\u001b[0m         \u001b[0mj\u001b[0m \u001b[0;34m=\u001b[0m \u001b[0mj\u001b[0m \u001b[0;34m+\u001b[0m \u001b[0;36m1\u001b[0m\u001b[0;34m\u001b[0m\u001b[0;34m\u001b[0m\u001b[0m\n\u001b[1;32m     23\u001b[0m     \u001b[0msorted_index\u001b[0m \u001b[0;34m=\u001b[0m \u001b[0mnp\u001b[0m\u001b[0;34m.\u001b[0m\u001b[0margsort\u001b[0m\u001b[0;34m(\u001b[0m\u001b[0mtests_count\u001b[0m\u001b[0;34m)\u001b[0m\u001b[0;34m\u001b[0m\u001b[0;34m\u001b[0m\u001b[0m\n\u001b[0;32m---> 24\u001b[0;31m     \u001b[0mbest\u001b[0m \u001b[0;34m=\u001b[0m \u001b[0msorted_index\u001b[0m\u001b[0;34m[\u001b[0m\u001b[0;36m0\u001b[0m\u001b[0;34m]\u001b[0m\u001b[0;34m\u001b[0m\u001b[0;34m\u001b[0m\u001b[0m\n\u001b[0m\u001b[1;32m     25\u001b[0m     \u001b[0;32mreturn\u001b[0m\u001b[0;34m(\u001b[0m\u001b[0msplits\u001b[0m\u001b[0;34m[\u001b[0m\u001b[0mbest\u001b[0m\u001b[0;34m]\u001b[0m\u001b[0;34m,\u001b[0m\u001b[0mtests_count\u001b[0m\u001b[0;34m[\u001b[0m\u001b[0mbest\u001b[0m\u001b[0;34m]\u001b[0m\u001b[0;34m)\u001b[0m\u001b[0;34m\u001b[0m\u001b[0;34m\u001b[0m\u001b[0m\n\u001b[1;32m     26\u001b[0m \u001b[0;34m\u001b[0m\u001b[0m\n",
      "\u001b[0;31mIndexError\u001b[0m: index 0 is out of bounds for axis 0 with size 0"
     ]
    }
   ],
   "source": [
    "print(helper_3(5624,21))\n",
    "print(helper_3(5624,73))\n",
    "print(helper_3(15256,21))\n",
    "print(helper_3(15256,141))\n",
    "print(helper_3(15256,527))\n",
    "print(helper_3(15256,552))\n"
   ]
  },
  {
   "cell_type": "code",
   "execution_count": null,
   "metadata": {},
   "outputs": [],
   "source": []
  }
 ],
 "metadata": {
  "kernelspec": {
   "display_name": "Python 3",
   "language": "python",
   "name": "python3"
  },
  "language_info": {
   "codemirror_mode": {
    "name": "ipython",
    "version": 3
   },
   "file_extension": ".py",
   "mimetype": "text/x-python",
   "name": "python",
   "nbconvert_exporter": "python",
   "pygments_lexer": "ipython3",
   "version": "3.7.1"
  }
 },
 "nbformat": 4,
 "nbformat_minor": 2
}
