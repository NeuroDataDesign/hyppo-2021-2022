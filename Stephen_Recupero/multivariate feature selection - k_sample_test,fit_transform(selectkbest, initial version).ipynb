{
 "cells": [
  {
   "cell_type": "code",
   "execution_count": 9,
   "metadata": {},
   "outputs": [],
   "source": [
    "import numpy as np\n",
    "from scipy.stats import multiscale_graphcorr\n",
    "from sklearn.preprocessing import OneHotEncoder"
   ]
  },
  {
   "cell_type": "code",
   "execution_count": 22,
   "metadata": {},
   "outputs": [],
   "source": [
    "def k_sample_test(X, y,score_func):\n",
    "    one_hot_enc = OneHotEncoder() #onehotencoding\n",
    "    temp =  one_hot_enc.fit_transform(y.reshape(-1,1))\n",
    "    y = temp.toarray()\n",
    "    if score_func == \"mgc\":\n",
    "        test = multiscale_graphcorr(X, y) #mgc case\n",
    "    else: \n",
    "        test = multiscale_graphcorr(X, y) #default is mgc as no other tests in scipy\n",
    "    return(test.stat,test.pvalue)"
   ]
  },
  {
   "cell_type": "code",
   "execution_count": 44,
   "metadata": {},
   "outputs": [],
   "source": [
    "#kBest fit_transform with k class object parameter provided as a function parameter,and score_func class object param as function param\n",
    "def fit_transform(X,y,k,score_func):\n",
    "    data = []\n",
    "    scores = []\n",
    "    features = X.shape[1]\n",
    "    splits = np.log2(features)\n",
    "    copy1 = X\n",
    "    while (len(scores) < (features / splits)): #as of now amount of scores calculated and compared with k features is features/splits, such that the amount of tests is the same as for univaraite feature selection\n",
    "        beta = False\n",
    "        X = copy1\n",
    "        while(beta == False):\n",
    "            copy2 = X\n",
    "            X= X[:, np.random.permutation(X.shape[1])] #radomly permuate features before split\n",
    "            X = np.array_split(X,2,axis=1) #currently executing binary split with respect to features, but split number could be a parameter hypothetically\n",
    "            X1 = X[0]\n",
    "            X2 = X[1]\n",
    "            test1= k_sample_test(X1,y,score_func)\n",
    "            test2 = k_sample_test(X2, y,score_func)\n",
    "            if(test1[0] > test2[0]): #comparing test statistics from split  and making X the post split matrix with best test statistic\n",
    "                X = X1\n",
    "                X_stat = test1[0]\n",
    "            else:\n",
    "                X = X2\n",
    "                X_stat = test2[0]\n",
    "            if (X.shape[1]  == k): #when amount of features equals k then we exit inner loop and run again and generate a new matrix of best features\n",
    "                beta = True\n",
    "            if (X.shape[1] < k): #to account for when split is uneven and the matrix with better test statisitic has less than k features, so we run until we get k features\n",
    "                X = copy2\n",
    "        data.append(X)\n",
    "        scores.append(X_stat)\n",
    "    sorted_index = np.argsort(scores) #find best test statistic of matrices with k features \n",
    "    best = sorted_index[len(scores)-1]\n",
    "    X_new = data[best]   #select matrix with best test statistic\n",
    "    return(X)\n",
    "        \n",
    "    \n",
    "    "
   ]
  },
  {
   "cell_type": "code",
   "execution_count": 45,
   "metadata": {},
   "outputs": [
    {
     "name": "stdout",
     "output_type": "stream",
     "text": [
      "(150, 4)\n",
      "(150, 1)\n"
     ]
    }
   ],
   "source": [
    "# example to see if shape lines up\n",
    "from sklearn.datasets import load_iris\n",
    "X, y = load_iris(return_X_y=True)\n",
    "print(X.shape)\n",
    "X_new = fit_transform(X,y,1,\"mgc\")\n",
    "print(X_new.shape)"
   ]
  }
 ],
 "metadata": {
  "kernelspec": {
   "display_name": "Python 3",
   "language": "python",
   "name": "python3"
  },
  "language_info": {
   "codemirror_mode": {
    "name": "ipython",
    "version": 3
   },
   "file_extension": ".py",
   "mimetype": "text/x-python",
   "name": "python",
   "nbconvert_exporter": "python",
   "pygments_lexer": "ipython3",
   "version": "3.7.1"
  }
 },
 "nbformat": 4,
 "nbformat_minor": 2
}
