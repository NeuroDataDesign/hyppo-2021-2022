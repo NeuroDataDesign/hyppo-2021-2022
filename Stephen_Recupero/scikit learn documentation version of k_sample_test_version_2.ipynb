{
 "cells": [
  {
   "cell_type": "code",
   "execution_count": 8,
   "metadata": {},
   "outputs": [],
   "source": [
    "from scipy.stats import multiscale_graphcorr\n",
    "from sklearn.preprocessing import OneHotEncoder\n",
    "\n",
    "def k_sample_test(X, y,score_func):\n",
    "    \"\"\"Compute the multivariate independence test statisitic for the provided sample.\n",
    "    Read more in the :ref:`User Guide <multivariate_feature_selection>`.\n",
    "    Parameters\n",
    "    ----------\n",
    "    X : {array-like, sparse matrix} of shape (n_samples, n_features)\n",
    "        The set of regressors that will be tested sequentially.\n",
    "    y : ndarray of shape (n_samples,)\n",
    "        The target vector.\n",
    "    score_func : string that refers to a k_sample multivariate independence test from scipy\n",
    "                The default is multiscale graph correlation.\n",
    "    Returns\n",
    "    -------\n",
    "    stat : float that refers to the computed k_sample test statistic\n",
    "    pvalue : float that refers to the computed k_sample pvalue\n",
    "    \"\"\"\n",
    "    if X.shape == y.shape:\n",
    "        test = multiscale_graphcorr(X, y, workers = -1,is_twosamp=True)\n",
    "    else:\n",
    "        one_hot_enc = OneHotEncoder() \n",
    "        temp =  one_hot_enc.fit_transform(y.reshape(-1,1))\n",
    "        y = temp.toarray()\n",
    "        if score_func == \"MGC\":\n",
    "            test = multiscale_graphcorr(X, y, workers = -1)#mgc case\n",
    "        else: \n",
    "            test = multiscale_graphcorr(X, y,workers=-1) #default is mgc as no other tests in scipy\n",
    "    return(test.stat,test.pvalue)"
   ]
  },
  {
   "cell_type": "code",
   "execution_count": 43,
   "metadata": {},
   "outputs": [],
   "source": [
    "import numpy as np\n",
    "import pytest\n",
    "from numpy.testing import assert_almost_equal, assert_raises\n",
    "from hyppo.ksample import KSample\n",
    "from hyppo.tools import rot_ksamp\n",
    "#Linear - two_Sample case\n",
    "def k_sample_equals_rot(n,p):\n",
    "    np.random.seed(123456789)\n",
    "    X, y = rot_ksamp(\"linear\", n, p, k=2)\n",
    "    true_stat,true_pvalue,_ = KSample(\"MGC\").test(X,y)\n",
    "    attempt_stat,attempt_pvalue = k_sample_test(X,y,\"MGC\")\n",
    "    assert_almost_equal(true_stat, attempt_stat, decimal=1)\n",
    "#linear _ one hot encoding case\n",
    "def k_sample_equals_rot_2(n,p):\n",
    "    np.random.seed(123456789)\n",
    "    X, y = rot_ksamp(\"linear\", n, p, k=2)\n",
    "    shape = X.shape[0]\n",
    "    x = np.concatenate((X, y), axis=0)\n",
    "    Y = np.concatenate((np.zeros((shape,),dtype = int),np.ones((shape,),dtype = int)))\n",
    "    true_stat,true_pvalue,_ = KSample(\"MGC\").test(X,y)\n",
    "    attempt_stat,attempt_pvalue = k_sample_test(x,Y,\"MGC\")\n",
    "    assert_almost_equal(true_stat, attempt_stat, decimal=1)\n",
    "#exponential one hot encoding case\n",
    "def k_sample_equals_rot_exp_2(n,p):\n",
    "    np.random.seed(123456789)\n",
    "    X, y = rot_ksamp(\"exponential\", n, p, k=2)\n",
    "    shape = X.shape[0]\n",
    "    x = np.concatenate((X, y), axis=0)\n",
    "    Y = np.concatenate((np.zeros((shape,),dtype = int),np.ones((shape,),dtype = int)))\n",
    "    true_stat,true_pvalue,_ = KSample(\"MGC\").test(X,y)\n",
    "    attempt_stat,attempt_pvalue = k_sample_test(x,Y,\"MGC\")\n",
    "    assert_almost_equal(true_stat, attempt_stat, decimal=1)\n",
    "#cubic one hot encoding case\n",
    "def k_sample_equals_rot_cub_2(n,p):\n",
    "    np.random.seed(123456789)\n",
    "    X, y = rot_ksamp(\"cubic\", n, p, k=2)\n",
    "    shape = X.shape[0]\n",
    "    x = np.concatenate((X, y), axis=0)\n",
    "    Y = np.concatenate((np.zeros((shape,),dtype = int),np.ones((shape,),dtype = int)))\n",
    "    true_stat,true_pvalue,_ = KSample(\"MGC\").test(X,y)\n",
    "    attempt_stat,attempt_pvalue = k_sample_test(x,Y,\"MGC\")\n",
    "    assert_almost_equal(true_stat, attempt_stat, decimal=1)\n",
    "#joint_normal one hot encoding case\n",
    "def k_sample_equals_rot_norma_2(n,p):\n",
    "    np.random.seed(123456789)\n",
    "    X, y = rot_ksamp(\"joint_normal\", n, p, k=2)\n",
    "    shape = X.shape[0]\n",
    "    x = np.concatenate((X, y), axis=0)\n",
    "    Y = np.concatenate((np.zeros((shape,),dtype = int),np.ones((shape,),dtype = int)))\n",
    "    true_stat,true_pvalue,_ = KSample(\"MGC\").test(X,y)\n",
    "    attempt_stat,attempt_pvalue = k_sample_test(x,Y,\"MGC\")\n",
    "    assert_almost_equal(true_stat, attempt_stat, decimal=1)\n",
    "#step one hot encoding case\n",
    "def k_sample_equals_rot_step_2(n,p):\n",
    "    np.random.seed(123456789)\n",
    "    X, y = rot_ksamp(\"step\", n, p, k=2)\n",
    "    shape = X.shape[0]\n",
    "    x = np.concatenate((X, y), axis=0)\n",
    "    Y = np.concatenate((np.zeros((shape,),dtype = int),np.ones((shape,),dtype = int)))\n",
    "    true_stat,true_pvalue,_ = KSample(\"MGC\").test(X,y)\n",
    "    attempt_stat,attempt_pvalue = k_sample_test(x,Y,\"MGC\")\n",
    "    assert_almost_equal(true_stat, attempt_stat, decimal=1)\n",
    "#quadratic one hot encoding case\n",
    "def k_sample_equals_rot_quad_2(n,p):\n",
    "    np.random.seed(123456789)\n",
    "    X, y = rot_ksamp(\"quadratic\", n, p, k=2)\n",
    "    shape = X.shape[0]\n",
    "    x = np.concatenate((X, y), axis=0)\n",
    "    Y = np.concatenate((np.zeros((shape,),dtype = int),np.ones((shape,),dtype = int)))\n",
    "    true_stat,true_pvalue,_ = KSample(\"MGC\").test(X,y)\n",
    "    attempt_stat,attempt_pvalue = k_sample_test(x,Y,\"MGC\")\n",
    "    assert_almost_equal(true_stat, attempt_stat, decimal=1)\n",
    "#w_Shaped one hot encoding case\n",
    "def k_sample_equals_rot_w_2(n,p):\n",
    "    np.random.seed(123456789)\n",
    "    X, y = rot_ksamp(\"w_shaped\", n, p, k=2)\n",
    "    shape = X.shape[0]\n",
    "    x = np.concatenate((X, y), axis=0)\n",
    "    Y = np.concatenate((np.zeros((shape,),dtype = int),np.ones((shape,),dtype = int)))\n",
    "    true_stat,true_pvalue,_ = KSample(\"MGC\").test(X,y)\n",
    "    attempt_stat,attempt_pvalue = k_sample_test(x,Y,\"MGC\")\n",
    "    assert_almost_equal(true_stat, attempt_stat, decimal=1)\n",
    "#spiral one hot encoding case\n",
    "def k_sample_equals_rot_spiral_2(n,p):\n",
    "    np.random.seed(123456789)\n",
    "    X, y = rot_ksamp(\"spiral\", n, p, k=2)\n",
    "    shape = X.shape[0]\n",
    "    x = np.concatenate((X, y), axis=0)\n",
    "    Y = np.concatenate((np.zeros((shape,),dtype = int),np.ones((shape,),dtype = int)))\n",
    "    true_stat,true_pvalue,_ = KSample(\"MGC\").test(X,y)\n",
    "    attempt_stat,attempt_pvalue = k_sample_test(x,Y,\"MGC\")\n",
    "    assert_almost_equal(true_stat, attempt_stat, decimal=1)\n",
    "#bernoulli one hot encoding case\n",
    "def k_sample_equals_rot_bernoulli_2(n,p):\n",
    "    np.random.seed(123456789)\n",
    "    X, y = rot_ksamp(\"uncorrelated_bernoulli\", n, p, k=2)\n",
    "    shape = X.shape[0]\n",
    "    x = np.concatenate((X, y), axis=0)\n",
    "    Y = np.concatenate((np.zeros((shape,),dtype = int),np.ones((shape,),dtype = int)))\n",
    "    true_stat,true_pvalue,_ = KSample(\"MGC\").test(X,y)\n",
    "    attempt_stat,attempt_pvalue = k_sample_test(x,Y,\"MGC\")\n",
    "    assert_almost_equal(true_stat, attempt_stat, decimal=1)\n",
    "#logarithmic one hot encoding case\n",
    "def k_sample_equals_rot_log_2(n,p):\n",
    "    np.random.seed(123456789)\n",
    "    X, y = rot_ksamp(\"logarithmic\", n, p, k=2)\n",
    "    shape = X.shape[0]\n",
    "    x = np.concatenate((X, y), axis=0)\n",
    "    Y = np.concatenate((np.zeros((shape,),dtype = int),np.ones((shape,),dtype = int)))\n",
    "    true_stat,true_pvalue,_ = KSample(\"MGC\").test(X,y)\n",
    "    attempt_stat,attempt_pvalue = k_sample_test(x,Y,\"MGC\")\n",
    "    assert_almost_equal(true_stat, attempt_stat, decimal=1)\n",
    "#fourth_root one hot encoding case\n",
    "def k_sample_equals_rot_fourth_2(n,p):\n",
    "    np.random.seed(123456789)\n",
    "    X, y = rot_ksamp(\"fourth_root\", n, p, k=2)\n",
    "    shape = X.shape[0]\n",
    "    x = np.concatenate((X, y), axis=0)\n",
    "    Y = np.concatenate((np.zeros((shape,),dtype = int),np.ones((shape,),dtype = int)))\n",
    "    true_stat,true_pvalue,_ = KSample(\"MGC\").test(X,y)\n",
    "    attempt_stat,attempt_pvalue = k_sample_test(x,Y,\"MGC\")\n",
    "    assert_almost_equal(true_stat, attempt_stat, decimal=1)\n",
    "#square one hot encoding case\n",
    "def k_sample_equals_rot_square_2(n,p):\n",
    "    np.random.seed(123456789)\n",
    "    X, y = rot_ksamp(\"square\", n, p, k=2)\n",
    "    shape = X.shape[0]\n",
    "    x = np.concatenate((X, y), axis=0)\n",
    "    Y = np.concatenate((np.zeros((shape,),dtype = int),np.ones((shape,),dtype = int)))\n",
    "    true_stat,true_pvalue,_ = KSample(\"MGC\").test(X,y)\n",
    "    attempt_stat,attempt_pvalue = k_sample_test(x,Y,\"MGC\")\n",
    "    assert_almost_equal(true_stat, attempt_stat, decimal=1)\n",
    "#two_parabolas one hot encoding case\n",
    "def k_sample_equals_rot_parab_2(n,p):\n",
    "    np.random.seed(123456789)\n",
    "    X, y = rot_ksamp(\"two_parabolas\", n, p, k=2)\n",
    "    shape = X.shape[0]\n",
    "    x = np.concatenate((X, y), axis=0)\n",
    "    Y = np.concatenate((np.zeros((shape,),dtype = int),np.ones((shape,),dtype = int)))\n",
    "    true_stat,true_pvalue,_ = KSample(\"MGC\").test(X,y)\n",
    "    attempt_stat,attempt_pvalue = k_sample_test(x,Y,\"MGC\")\n",
    "    assert_almost_equal(true_stat, attempt_stat, decimal=1)\n",
    "#circle one hot encoding case\n",
    "def k_sample_equals_rot_circle_2(n,p):\n",
    "    np.random.seed(123456789)\n",
    "    X, y = rot_ksamp(\"circle\", n, p, k=2)\n",
    "    shape = X.shape[0]\n",
    "    x = np.concatenate((X, y), axis=0)\n",
    "    Y = np.concatenate((np.zeros((shape,),dtype = int),np.ones((shape,),dtype = int)))\n",
    "    true_stat,true_pvalue,_ = KSample(\"MGC\").test(X,y)\n",
    "    attempt_stat,attempt_pvalue = k_sample_test(x,Y,\"MGC\")\n",
    "    assert_almost_equal(true_stat, attempt_stat, decimal=1)\n",
    "#ellipse one hot encoding case\n",
    "def k_sample_equals_rot_ellipse_2(n,p):\n",
    "    np.random.seed(123456789)\n",
    "    X, y = rot_ksamp(\"ellipse\", n, p, k=2)\n",
    "    shape = X.shape[0]\n",
    "    x = np.concatenate((X, y), axis=0)\n",
    "    Y = np.concatenate((np.zeros((shape,),dtype = int),np.ones((shape,),dtype = int)))\n",
    "    true_stat,true_pvalue,_ = KSample(\"MGC\").test(X,y)\n",
    "    attempt_stat,attempt_pvalue = k_sample_test(x,Y,\"MGC\")\n",
    "    assert_almost_equal(true_stat, attempt_stat, decimal=1)\n",
    "#diamond one hot encoding case\n",
    "def k_sample_equals_rot_diamond_2(n,p):\n",
    "    np.random.seed(123456789)\n",
    "    X, y = rot_ksamp(\"diamond\", n, p, k=2)\n",
    "    shape = X.shape[0]\n",
    "    x = np.concatenate((X, y), axis=0)\n",
    "    Y = np.concatenate((np.zeros((shape,),dtype = int),np.ones((shape,),dtype = int)))\n",
    "    true_stat,true_pvalue,_ = KSample(\"MGC\").test(X,y)\n",
    "    attempt_stat,attempt_pvalue = k_sample_test(x,Y,\"MGC\")\n",
    "    assert_almost_equal(true_stat, attempt_stat, decimal=1)\n",
    "#noise one hot encoding case\n",
    "def k_sample_equals_rot_noise_2(n,p):\n",
    "    np.random.seed(123456789)\n",
    "    X, y = rot_ksamp(\"multiplicative_noise\", n, p, k=2)\n",
    "    shape = X.shape[0]\n",
    "    x = np.concatenate((X, y), axis=0)\n",
    "    Y = np.concatenate((np.zeros((shape,),dtype = int),np.ones((shape,),dtype = int)))\n",
    "    true_stat,true_pvalue,_ = KSample(\"MGC\").test(X,y)\n",
    "    attempt_stat,attempt_pvalue = k_sample_test(x,Y,\"MGC\")\n",
    "    assert_almost_equal(true_stat, attempt_stat, decimal=1)\n",
    "#independence one hot encoding case\n",
    "def k_sample_equals_rot_ind_2(n,p):\n",
    "    np.random.seed(123456789)\n",
    "    X, y = rot_ksamp(\"multimodal_independence\", n, p, k=2)\n",
    "    shape = X.shape[0]\n",
    "    x = np.concatenate((X, y), axis=0)\n",
    "    Y = np.concatenate((np.zeros((shape,),dtype = int),np.ones((shape,),dtype = int)))\n",
    "    true_stat,true_pvalue,_ = KSample(\"MGC\").test(X,y)\n",
    "    attempt_stat,attempt_pvalue = k_sample_test(x,Y,\"MGC\")\n",
    "    assert_almost_equal(true_stat, attempt_stat, decimal=1)"
   ]
  },
  {
   "cell_type": "code",
   "execution_count": 69,
   "metadata": {},
   "outputs": [
    {
     "name": "stdout",
     "output_type": "stream",
     "text": [
      "None\n",
      "None\n"
     ]
    }
   ],
   "source": [
    "#two_sample case, low samples, low features\n",
    "print(k_sample_equals_rot(50,2))\n",
    "#two sample case for hyppo ksample, class representation in my version, low samples, low features\n",
    "print(k_sample_equals_rot_2(50,2))"
   ]
  },
  {
   "cell_type": "code",
   "execution_count": 70,
   "metadata": {},
   "outputs": [
    {
     "name": "stdout",
     "output_type": "stream",
     "text": [
      "None\n",
      "None\n"
     ]
    }
   ],
   "source": [
    "#two_sample case, low samples, medium features\n",
    "print(k_sample_equals_rot(50,80))\n",
    "#two sample case for hyppo ksample, class representation in my version, low samples, medium features\n",
    "print(k_sample_equals_rot_2(50,80))"
   ]
  },
  {
   "cell_type": "code",
   "execution_count": 71,
   "metadata": {},
   "outputs": [
    {
     "name": "stdout",
     "output_type": "stream",
     "text": [
      "None\n",
      "None\n"
     ]
    }
   ],
   "source": [
    "#two_sample case, low samples, high features\n",
    "print(k_sample_equals_rot(50,1000))\n",
    "#two sample case for hyppo ksample, class representation in my version, low samples, high features\n",
    "print(k_sample_equals_rot_2(50,1000))"
   ]
  },
  {
   "cell_type": "code",
   "execution_count": 72,
   "metadata": {},
   "outputs": [
    {
     "name": "stdout",
     "output_type": "stream",
     "text": [
      "None\n",
      "None\n"
     ]
    }
   ],
   "source": [
    "#two_sample case, medium samples, high features\n",
    "print(k_sample_equals_rot(100,1000))\n",
    "#two sample case for hyppo ksample, class representation in my version, medium samples, high features\n",
    "print(k_sample_equals_rot_2(100,1000))"
   ]
  },
  {
   "cell_type": "code",
   "execution_count": 10,
   "metadata": {},
   "outputs": [
    {
     "name": "stdout",
     "output_type": "stream",
     "text": [
      "None\n"
     ]
    }
   ],
   "source": [
    "#two sample case for hyppo ksample, class representation in my version, low samples, high features\n",
    "print(k_sample_equals_rot_exp_2(50,1000))"
   ]
  },
  {
   "cell_type": "code",
   "execution_count": 13,
   "metadata": {},
   "outputs": [
    {
     "name": "stdout",
     "output_type": "stream",
     "text": [
      "None\n"
     ]
    }
   ],
   "source": [
    "#two sample case for hyppo ksample, class representation in my version, low samples, high features\n",
    "print(k_sample_equals_rot_cub_2(50,1000))"
   ]
  },
  {
   "cell_type": "code",
   "execution_count": 18,
   "metadata": {},
   "outputs": [
    {
     "name": "stdout",
     "output_type": "stream",
     "text": [
      "None\n"
     ]
    }
   ],
   "source": [
    "#two sample case for hyppo ksample, class representation in my version, low samples, low features as covariance matrix not calculable with p>10\n",
    "print(k_sample_equals_rot_norma_2(50,5))"
   ]
  },
  {
   "cell_type": "code",
   "execution_count": 20,
   "metadata": {},
   "outputs": [
    {
     "name": "stdout",
     "output_type": "stream",
     "text": [
      "None\n"
     ]
    }
   ],
   "source": [
    "#two sample case for hyppo ksample, class representation in my version, low samples, high features\n",
    "print(k_sample_equals_rot_step_2(50,1000))"
   ]
  },
  {
   "cell_type": "code",
   "execution_count": 23,
   "metadata": {},
   "outputs": [
    {
     "name": "stdout",
     "output_type": "stream",
     "text": [
      "None\n"
     ]
    }
   ],
   "source": [
    "#two sample case for hyppo ksample, class representation in my version, low samples, high features\n",
    "print(k_sample_equals_rot_quad_2(50,1000))"
   ]
  },
  {
   "cell_type": "code",
   "execution_count": 25,
   "metadata": {},
   "outputs": [
    {
     "name": "stdout",
     "output_type": "stream",
     "text": [
      "None\n"
     ]
    }
   ],
   "source": [
    "#two sample case for hyppo ksample, class representation in my version, low samples, high features\n",
    "print(k_sample_equals_rot_w_2(50,1000))"
   ]
  },
  {
   "cell_type": "code",
   "execution_count": 29,
   "metadata": {},
   "outputs": [
    {
     "name": "stdout",
     "output_type": "stream",
     "text": [
      "None\n"
     ]
    }
   ],
   "source": [
    "#two sample case for hyppo ksample, class representation in my version, low samples, high features\n",
    "print(k_sample_equals_rot_spiral_2(50,1000))"
   ]
  },
  {
   "cell_type": "code",
   "execution_count": 32,
   "metadata": {},
   "outputs": [
    {
     "name": "stdout",
     "output_type": "stream",
     "text": [
      "None\n"
     ]
    }
   ],
   "source": [
    "#two sample case for hyppo ksample, class representation in my version, low samples, high features\n",
    "print(k_sample_equals_rot_bernoulli_2(50,1000))"
   ]
  },
  {
   "cell_type": "code",
   "execution_count": 33,
   "metadata": {},
   "outputs": [
    {
     "name": "stdout",
     "output_type": "stream",
     "text": [
      "None\n"
     ]
    }
   ],
   "source": [
    "#two sample case for hyppo ksample, class representation in my version, low samples, high features\n",
    "print(k_sample_equals_rot_log_2(50,1000))"
   ]
  },
  {
   "cell_type": "code",
   "execution_count": 34,
   "metadata": {},
   "outputs": [
    {
     "name": "stdout",
     "output_type": "stream",
     "text": [
      "None\n"
     ]
    }
   ],
   "source": [
    "#two sample case for hyppo ksample, class representation in my version, low samples, high features\n",
    "print(k_sample_equals_rot_fourth_2(50,1000))"
   ]
  },
  {
   "cell_type": "code",
   "execution_count": 35,
   "metadata": {},
   "outputs": [
    {
     "name": "stdout",
     "output_type": "stream",
     "text": [
      "None\n"
     ]
    }
   ],
   "source": [
    "#two sample case for hyppo ksample, class representation in my version, low samples, high features\n",
    "print(k_sample_equals_rot_square_2(50,1000))"
   ]
  },
  {
   "cell_type": "code",
   "execution_count": 38,
   "metadata": {},
   "outputs": [
    {
     "name": "stdout",
     "output_type": "stream",
     "text": [
      "None\n"
     ]
    }
   ],
   "source": [
    "#two sample case for hyppo ksample, class representation in my version, low samples, high features\n",
    "print(k_sample_equals_rot_parab_2(50,1000))"
   ]
  },
  {
   "cell_type": "code",
   "execution_count": 39,
   "metadata": {},
   "outputs": [
    {
     "name": "stdout",
     "output_type": "stream",
     "text": [
      "None\n"
     ]
    }
   ],
   "source": [
    "#two sample case for hyppo ksample, class representation in my version, low samples, high features\n",
    "print(k_sample_equals_rot_circle_2(50,1000))"
   ]
  },
  {
   "cell_type": "code",
   "execution_count": 40,
   "metadata": {},
   "outputs": [
    {
     "name": "stdout",
     "output_type": "stream",
     "text": [
      "None\n"
     ]
    }
   ],
   "source": [
    "#two sample case for hyppo ksample, class representation in my version, low samples, high features\n",
    "print(k_sample_equals_rot_ellipse_2(50,1000))"
   ]
  },
  {
   "cell_type": "code",
   "execution_count": 41,
   "metadata": {},
   "outputs": [
    {
     "name": "stdout",
     "output_type": "stream",
     "text": [
      "None\n"
     ]
    }
   ],
   "source": [
    "#two sample case for hyppo ksample, class representation in my version, low samples, high features\n",
    "print(k_sample_equals_rot_diamond_2(50,1000))"
   ]
  },
  {
   "cell_type": "code",
   "execution_count": 44,
   "metadata": {},
   "outputs": [
    {
     "name": "stdout",
     "output_type": "stream",
     "text": [
      "None\n"
     ]
    }
   ],
   "source": [
    "#two sample case for hyppo ksample, class representation in my version, low samples, high features\n",
    "print(k_sample_equals_rot_noise_2(50,1000))"
   ]
  },
  {
   "cell_type": "code",
   "execution_count": 45,
   "metadata": {},
   "outputs": [
    {
     "name": "stdout",
     "output_type": "stream",
     "text": [
      "None\n"
     ]
    }
   ],
   "source": [
    "#two sample case for hyppo ksample, class representation in my version, low samples, high features\n",
    "print(k_sample_equals_rot_ind_2(50,1000))"
   ]
  }
 ],
 "metadata": {
  "kernelspec": {
   "display_name": "Python 3",
   "language": "python",
   "name": "python3"
  },
  "language_info": {
   "codemirror_mode": {
    "name": "ipython",
    "version": 3
   },
   "file_extension": ".py",
   "mimetype": "text/x-python",
   "name": "python",
   "nbconvert_exporter": "python",
   "pygments_lexer": "ipython3",
   "version": "3.7.1"
  }
 },
 "nbformat": 4,
 "nbformat_minor": 2
}
