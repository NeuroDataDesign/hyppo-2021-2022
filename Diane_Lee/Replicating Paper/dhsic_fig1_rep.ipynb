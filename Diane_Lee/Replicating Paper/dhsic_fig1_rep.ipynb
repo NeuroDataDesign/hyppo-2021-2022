{
 "cells": [
  {
   "cell_type": "code",
   "execution_count": 1,
   "metadata": {},
   "outputs": [
    {
     "name": "stderr",
     "output_type": "stream",
     "text": [
      "Updating HTML index of packages in '.Library'\n",
      "\n",
      "Making 'packages.html' ...\n",
      " done\n",
      "\n",
      "Updating HTML index of packages in '.Library'\n",
      "\n",
      "Making 'packages.html' ...\n",
      " done\n",
      "\n",
      "Loading required package: proto\n",
      "\n",
      "Could not load tcltk.  Will use slower R code instead.\n",
      "\n"
     ]
    }
   ],
   "source": [
    "install.packages('dHSIC')\n",
    "library(dHSIC)\n",
    "\n",
    "install.packages('gsubfn')\n",
    "library(gsubfn)"
   ]
  },
  {
   "cell_type": "code",
   "execution_count": 5,
   "metadata": {},
   "outputs": [
    {
     "data": {
      "text/html": [
       "<table>\n",
       "<caption>A matrix: 1 x 10 of type dbl</caption>\n",
       "<tbody>\n",
       "\t<tr><td>38</td><td>32</td><td>49</td><td>50</td><td>36</td><td>31</td><td>34</td><td>33</td><td>42</td><td>45</td></tr>\n",
       "</tbody>\n",
       "</table>\n"
      ],
      "text/latex": [
       "A matrix: 1 x 10 of type dbl\n",
       "\\begin{tabular}{llllllllll}\n",
       "\t 38 & 32 & 49 & 50 & 36 & 31 & 34 & 33 & 42 & 45\\\\\n",
       "\\end{tabular}\n"
      ],
      "text/markdown": [
       "\n",
       "A matrix: 1 x 10 of type dbl\n",
       "\n",
       "| 38 | 32 | 49 | 50 | 36 | 31 | 34 | 33 | 42 | 45 |\n",
       "\n"
      ],
      "text/plain": [
       "     [,1] [,2] [,3] [,4] [,5] [,6] [,7] [,8] [,9] [,10]\n",
       "[1,] 38   32   49   50   36   31   34   33   42   45   "
      ]
     },
     "metadata": {},
     "output_type": "display_data"
    }
   ],
   "source": [
    "# permutation \n",
    "nvals <- matrix(seq(from = 100, to = 1000, by = 100))\n",
    "perm_counts <- matrix(0, 1, length(nvals))\n",
    "\n",
    "for (i in seq_along(nvals)) {\n",
    "    n = nvals[i]\n",
    "    count <- 0\n",
    "    for (m in 1:1000) {\n",
    "        x <- matrix(rnorm(n),ncol=1)\n",
    "        y <- matrix(rnorm(n),ncol=1)\n",
    "        z <- matrix(rnorm(n),ncol=1)\n",
    "        list[stat, critval, , ] <- dhsic.test(list(x,y,z), alpha = 0.05, method=\"permutation\", kernel=\"gaussian\",\n",
    "                           pairwise=FALSE, matrix.input=FALSE, B=25)\n",
    "        if (stat > critval) {\n",
    "            count <- count + 1\n",
    "        }\n",
    "    }\n",
    "    perm_counts[i] <- count\n",
    "}\n",
    "\n",
    "perm_counts"
   ]
  },
  {
   "cell_type": "code",
   "execution_count": 3,
   "metadata": {},
   "outputs": [
    {
     "data": {
      "text/html": [
       "<table>\n",
       "<caption>A matrix: 1 x 10 of type dbl</caption>\n",
       "<tbody>\n",
       "\t<tr><td>50</td><td>30</td><td>41</td><td>35</td><td>37</td><td>47</td><td>31</td><td>44</td><td>42</td><td>30</td></tr>\n",
       "</tbody>\n",
       "</table>\n"
      ],
      "text/latex": [
       "A matrix: 1 x 10 of type dbl\n",
       "\\begin{tabular}{llllllllll}\n",
       "\t 50 & 30 & 41 & 35 & 37 & 47 & 31 & 44 & 42 & 30\\\\\n",
       "\\end{tabular}\n"
      ],
      "text/markdown": [
       "\n",
       "A matrix: 1 x 10 of type dbl\n",
       "\n",
       "| 50 | 30 | 41 | 35 | 37 | 47 | 31 | 44 | 42 | 30 |\n",
       "\n"
      ],
      "text/plain": [
       "     [,1] [,2] [,3] [,4] [,5] [,6] [,7] [,8] [,9] [,10]\n",
       "[1,] 50   30   41   35   37   47   31   44   42   30   "
      ]
     },
     "metadata": {},
     "output_type": "display_data"
    }
   ],
   "source": [
    "# bootstrap\n",
    "nvals <- matrix(seq(from = 100, to = 1000, by = 100))\n",
    "boot_counts <- matrix(0, 1, length(nvals))\n",
    "\n",
    "for (i in seq_along(nvals)) {\n",
    "    n = nvals[i]\n",
    "    count <- 0\n",
    "    \n",
    "    for (m in 1:1000) {\n",
    "        x <- matrix(rnorm(n),ncol=1)\n",
    "        y <- matrix(rnorm(n),ncol=1)\n",
    "        z <- matrix(rnorm(n),ncol=1)\n",
    "        list[stat, critval, , ] <- dhsic.test(list(x,y,z), alpha = 0.05, method=\"bootstrap\", kernel=\"gaussian\",\n",
    "                           pairwise=FALSE, matrix.input=FALSE, B=25)\n",
    "        if (stat > critval) {\n",
    "            count <- count + 1\n",
    "        }\n",
    "    }\n",
    "    boot_counts[i] <- count\n",
    "}\n",
    "\n",
    "boot_counts"
   ]
  },
  {
   "cell_type": "code",
   "execution_count": 4,
   "metadata": {},
   "outputs": [
    {
     "data": {
      "text/html": [
       "<table>\n",
       "<caption>A matrix: 1 x 10 of type dbl</caption>\n",
       "<tbody>\n",
       "\t<tr><td>64</td><td>62</td><td>61</td><td>62</td><td>61</td><td>54</td><td>56</td><td>61</td><td>47</td><td>64</td></tr>\n",
       "</tbody>\n",
       "</table>\n"
      ],
      "text/latex": [
       "A matrix: 1 x 10 of type dbl\n",
       "\\begin{tabular}{llllllllll}\n",
       "\t 64 & 62 & 61 & 62 & 61 & 54 & 56 & 61 & 47 & 64\\\\\n",
       "\\end{tabular}\n"
      ],
      "text/markdown": [
       "\n",
       "A matrix: 1 x 10 of type dbl\n",
       "\n",
       "| 64 | 62 | 61 | 62 | 61 | 54 | 56 | 61 | 47 | 64 |\n",
       "\n"
      ],
      "text/plain": [
       "     [,1] [,2] [,3] [,4] [,5] [,6] [,7] [,8] [,9] [,10]\n",
       "[1,] 64   62   61   62   61   54   56   61   47   64   "
      ]
     },
     "metadata": {},
     "output_type": "display_data"
    }
   ],
   "source": [
    "# gamma\n",
    "nvals <- matrix(seq(from = 100, to = 1000, by = 100))\n",
    "gamma_counts <- matrix(0, 1, length(nvals))\n",
    "\n",
    "for (i in seq_along(nvals)) {\n",
    "    n = nvals[i]\n",
    "    count <- 0\n",
    "    \n",
    "    for (m in 1:1000) {\n",
    "        x <- matrix(rnorm(n),ncol=1)\n",
    "        y <- matrix(rnorm(n),ncol=1)\n",
    "        z <- matrix(rnorm(n),ncol=1)\n",
    "        list[stat, critval, , ] <- dhsic.test(list(x,y,z), alpha = 0.05, method=\"gamma\", kernel=\"gaussian\",\n",
    "                           pairwise=FALSE, matrix.input=FALSE, B=25)\n",
    "        if (stat > critval) {\n",
    "            count <- count + 1\n",
    "        }\n",
    "    }\n",
    "    gamma_counts[i] <- count\n",
    "}\n",
    "\n",
    "gamma_counts"
   ]
  },
  {
   "cell_type": "code",
   "execution_count": 4,
   "metadata": {},
   "outputs": [],
   "source": [
    "perm_counts <- c(38, 32, 49, 50, 36, 31, 34, 33, 42, 45)\n",
    "boot_counts <- c(50, 30, 41, 35, 37, 47, 31, 44, 42, 30)\n",
    "gamma_counts <- c(64, 62, 61, 62, 61, 54, 56, 61, 47, 64)\n",
    "nvals <- matrix(seq(from = 100, to = 1000, by = 100))"
   ]
  },
  {
   "cell_type": "code",
   "execution_count": 31,
   "metadata": {},
   "outputs": [
    {
     "data": {
      "image/png": "[encoded data removed]",
      "text/plain": [
       "Plot with title \"Gamma\""
      ]
     },
     "metadata": {},
     "output_type": "display_data"
    }
   ],
   "source": [
    "par(mfrow=c(2,2))\n",
    "perm_rejection_rate <- perm_counts/1000\n",
    "p1 <- plot(nvals, perm_rejection_rate, main='Permutation', xlab='sample size n', ylab = 'rejection rate', ylim=c(0.0325,0.07))\n",
    "abline(h=0.05, col=\"red\", lwd=2, lty=2)\n",
    "grid()\n",
    "boot_rejection_rate <- boot_counts/1000\n",
    "p2 <- plot(nvals, boot_rejection_rate, main='Bootstrap', xlab='sample size n', ylab = 'rejection rate', ylim=c(0.0325,0.07))\n",
    "abline(h=0.05, col=\"red\", lwd=2, lty=2)\n",
    "grid()\n",
    "gamma_rejection_rate <- gamma_counts/1000\n",
    "p3 <- plot(nvals, gamma_rejection_rate, main='Gamma', xlab='sample size n', ylab = 'rejection rate', ylim=c(0.0325,0.07))\n",
    "abline(h=0.05, col=\"red\", lwd=2, lty=2)\n",
    "grid()\n",
    "\n",
    "#grid.arrange(p1, p2, p3, nrow = 1)"
   ]
  },
  {
   "cell_type": "markdown",
   "metadata": {},
   "source": [
    "![Fig](fig_paper.JPG)"
   ]
  }
 ],
 "metadata": {
  "kernelspec": {
   "display_name": "R",
   "language": "R",
   "name": "ir"
  },
  "language_info": {
   "codemirror_mode": "r",
   "file_extension": ".r",
   "mimetype": "text/x-r-source",
   "name": "R",
   "pygments_lexer": "r",
   "version": "3.6.1"
  }
 },
 "nbformat": 4,
 "nbformat_minor": 4
}
