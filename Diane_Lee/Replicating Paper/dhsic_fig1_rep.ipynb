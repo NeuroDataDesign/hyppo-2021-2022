{
 "cells": [
  {
   "cell_type": "code",
   "execution_count": 1,
   "metadata": {},
   "outputs": [
    {
     "name": "stdout",
     "output_type": "stream",
     "text": [
      "package 'dHSIC' successfully unpacked and MD5 sums checked\n",
      "\n",
      "The downloaded binary packages are in\n",
      "\tC:\\Users\\d0156\\AppData\\Local\\Temp\\RtmpMDt0EY\\downloaded_packages\n"
     ]
    },
    {
     "name": "stderr",
     "output_type": "stream",
     "text": [
      "Warning message:\n",
      "\"package 'dHSIC' was built under R version 3.6.3\""
     ]
    }
   ],
   "source": [
    "install.packages('dHSIC')\n",
    "library(dHSIC)"
   ]
  },
  {
   "cell_type": "code",
   "execution_count": null,
   "metadata": {},
   "outputs": [],
   "source": [
    "# initialize data\n",
    "set.seed(0)\n",
    "X <- matrix(rnorm(200),ncol=3)\n",
    "\n",
    "# permutation test\n",
    "dhsic.test(X, method=\"permutation\",\n",
    "           kernel=c(\"discrete\", \"discrete\", \"gaussian\"),\n",
    "           pairwise=TRUE, B=1000)$p.value"
   ]
  },
  {
   "cell_type": "code",
   "execution_count": null,
   "metadata": {},
   "outputs": [],
   "source": [
    "# permutation \n",
    "nvals <- matrix(seq(from = 100, to = 1000, by = 100))\n",
    "perm_counts <- matrix(0, 1, length(nvals))\n",
    "\n",
    "for (i in seq_along(nvals)) {\n",
    "    n = nvals[i]\n",
    "    x <- matrix(rnorm(n),ncol=1)\n",
    "    y <- matrix(rnorm(n),ncol=1)\n",
    "    z <- matrix(rnorm(n),ncol=1)\n",
    "    \n",
    "    count <- 0\n",
    "    for (m in 1:1000) {\n",
    "        if (dhsic.test(list(x,y,z), alpha = 0.05, method=\"permutation\", kernel=\"gaussian\",\n",
    "                           pairwise=FALSE, matrix.input=FALSE, B=25)$p.value < 0.05) {\n",
    "            count <- count + 1\n",
    "        }\n",
    "    }\n",
    "    perm_counts[i] <- count\n",
    "}\n",
    "\n",
    "perm_counts"
   ]
  },
  {
   "cell_type": "code",
   "execution_count": 29,
   "metadata": {},
   "outputs": [
    {
     "data": {
      "text/html": [
       "<table>\n",
       "<tbody>\n",
       "\t<tr><td>934</td><td>990</td><td>994</td><td>40 </td><td>596</td><td>105</td><td>347</td><td>909</td><td>692</td><td>64 </td></tr>\n",
       "</tbody>\n",
       "</table>\n"
      ],
      "text/latex": [
       "\\begin{tabular}{llllllllll}\n",
       "\t 934 & 990 & 994 & 40  & 596 & 105 & 347 & 909 & 692 & 64 \\\\\n",
       "\\end{tabular}\n"
      ],
      "text/markdown": [
       "\n",
       "| 934 | 990 | 994 | 40  | 596 | 105 | 347 | 909 | 692 | 64  |\n",
       "\n"
      ],
      "text/plain": [
       "     [,1] [,2] [,3] [,4] [,5] [,6] [,7] [,8] [,9] [,10]\n",
       "[1,] 934  990  994  40   596  105  347  909  692  64   "
      ]
     },
     "metadata": {},
     "output_type": "display_data"
    }
   ],
   "source": [
    "# bootstrap\n",
    "nvals <- matrix(seq(from = 100, to = 1000, by = 100))\n",
    "boot_counts <- matrix(0, 1, length(nvals))\n",
    "\n",
    "for (i in seq_along(nvals)) {\n",
    "    n = nvals[i]\n",
    "    x <- matrix(rnorm(n),ncol=1)\n",
    "    y <- matrix(rnorm(n),ncol=1)\n",
    "    z <- matrix(rnorm(n),ncol=1)\n",
    "    \n",
    "    count <- 0\n",
    "    for (m in 1:1000) {\n",
    "        if (dhsic.test(list(x,y,z), alpha = 0.05, method=\"bootstrap\", kernel=\"gaussian\",\n",
    "                           pairwise=FALSE, matrix.input=FALSE, B=25)$p.value < 0.05) {\n",
    "            count <- count + 1\n",
    "        }\n",
    "    }\n",
    "    boot_counts[i] <- count\n",
    "}\n",
    "\n",
    "boot_counts"
   ]
  },
  {
   "cell_type": "code",
   "execution_count": 30,
   "metadata": {},
   "outputs": [
    {
     "data": {
      "text/html": [
       "<table>\n",
       "<tbody>\n",
       "\t<tr><td>4  </td><td>721</td><td>974</td><td>831</td><td>0  </td><td>436</td><td>762</td><td>533</td><td>846</td><td>961</td></tr>\n",
       "</tbody>\n",
       "</table>\n"
      ],
      "text/latex": [
       "\\begin{tabular}{llllllllll}\n",
       "\t 4   & 721 & 974 & 831 & 0   & 436 & 762 & 533 & 846 & 961\\\\\n",
       "\\end{tabular}\n"
      ],
      "text/markdown": [
       "\n",
       "| 4   | 721 | 974 | 831 | 0   | 436 | 762 | 533 | 846 | 961 |\n",
       "\n"
      ],
      "text/plain": [
       "     [,1] [,2] [,3] [,4] [,5] [,6] [,7] [,8] [,9] [,10]\n",
       "[1,] 4    721  974  831  0    436  762  533  846  961  "
      ]
     },
     "metadata": {},
     "output_type": "display_data"
    }
   ],
   "source": [
    "# gamma\n",
    "nvals <- matrix(seq(from = 100, to = 1000, by = 100))\n",
    "gamma_counts <- matrix(0, 1, length(nvals))\n",
    "\n",
    "for (i in seq_along(nvals)) {\n",
    "    n = nvals[i]\n",
    "    x <- matrix(rnorm(n),ncol=1)\n",
    "    y <- matrix(rnorm(n),ncol=1)\n",
    "    z <- matrix(rnorm(n),ncol=1)\n",
    "    \n",
    "    count <- 0\n",
    "    for (m in 1:1000) {\n",
    "        if (dhsic.test(list(x,y,z), alpha = 0.05, method=\"bootstrap\", kernel=\"gaussian\",\n",
    "                           pairwise=FALSE, matrix.input=FALSE, B=25)$p.value < 0.05) {\n",
    "            count <- count + 1\n",
    "        }\n",
    "    }\n",
    "    gamma_counts[i] <- count\n",
    "}\n",
    "\n",
    "gamma_counts"
   ]
  },
  {
   "cell_type": "code",
   "execution_count": 32,
   "metadata": {},
   "outputs": [
    {
     "data": {
      "image/png": "[encoded data removed]",
      "text/plain": [
       "plot without title"
      ]
     },
     "metadata": {},
     "output_type": "display_data"
    }
   ],
   "source": [
    "par(mfrow=c(2,2))\n",
    "perm_rejection_rate <- perm_counts/1000\n",
    "plot(nvals, perm_rejection_rate)\n",
    "grid()\n",
    "boot_rejection_rate <- boot_counts/1000\n",
    "plot(nvals, boot_rejection_rate)\n",
    "grid()\n",
    "gamma_rejection_rate <- gamma_counts/1000\n",
    "plot(nvals, gamma_rejection_rate)\n",
    "grid()"
   ]
  },
  {
   "cell_type": "code",
   "execution_count": null,
   "metadata": {},
   "outputs": [],
   "source": []
  }
 ],
 "metadata": {
  "kernelspec": {
   "display_name": "R",
   "language": "R",
   "name": "ir"
  },
  "language_info": {
   "codemirror_mode": "r",
   "file_extension": ".r",
   "mimetype": "text/x-r-source",
   "name": "R",
   "pygments_lexer": "r",
   "version": "3.6.1"
  }
 },
 "nbformat": 4,
 "nbformat_minor": 4
}
