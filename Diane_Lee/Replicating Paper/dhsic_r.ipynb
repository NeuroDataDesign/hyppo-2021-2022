{
 "cells": [
  {
   "cell_type": "markdown",
   "metadata": {},
   "source": [
    "# DHSIC - R"
   ]
  },
  {
   "cell_type": "code",
   "execution_count": 5,
   "metadata": {},
   "outputs": [
    {
     "name": "stderr",
     "output_type": "stream",
     "text": [
      "Warning message:\n",
      "\"package 'dHSIC' is in use and will not be installed\""
     ]
    }
   ],
   "source": [
    "install.packages('dHSIC')\n",
    "library(dHSIC)"
   ]
  },
  {
   "cell_type": "code",
   "execution_count": 2,
   "metadata": {},
   "outputs": [
    {
     "data": {
      "text/html": [
       "0.00733749036480801"
      ],
      "text/latex": [
       "0.00733749036480801"
      ],
      "text/markdown": [
       "0.00733749036480801"
      ],
      "text/plain": [
       "[1] 0.00733749"
      ]
     },
     "metadata": {},
     "output_type": "display_data"
    }
   ],
   "source": [
    "# calculate stat\n",
    "set.seed(0)\n",
    "x <- matrix(rnorm(200),ncol=2)\n",
    "y <- matrix(rnorm(200),ncol=2)\n",
    "z <- matrix(rnorm(200),ncol=2)\n",
    "dhsic(list(x,y,z), kernel=\"gaussian.fixed\", bandwidth=1, matrix.input=FALSE)$dHSIC\n",
    "\n",
    "# write to csv file\n",
    "#test_norm.data <- data.frame(x,y,z)\n",
    "#write.csv(test_norm.data, 'testdata_normdist.csv')"
   ]
  },
  {
   "cell_type": "code",
   "execution_count": 3,
   "metadata": {},
   "outputs": [
    {
     "data": {
      "text/html": [
       "0.470529470529471"
      ],
      "text/latex": [
       "0.470529470529471"
      ],
      "text/markdown": [
       "0.470529470529471"
      ],
      "text/plain": [
       "[1] 0.4705295"
      ]
     },
     "metadata": {},
     "output_type": "display_data"
    }
   ],
   "source": [
    "# calculate pvalue - permutation \n",
    "dhsic.test(list(x,y,z), method=\"permutation\", kernel=\"gaussian.fixed\", pairwise=FALSE, B=1000)$p.value"
   ]
  },
  {
   "cell_type": "code",
   "execution_count": 11,
   "metadata": {},
   "outputs": [
    {
     "data": {
      "text/html": [
       "0.00968117922670516"
      ],
      "text/latex": [
       "0.00968117922670516"
      ],
      "text/markdown": [
       "0.00968117922670516"
      ],
      "text/plain": [
       "[1] 0.009681179"
      ]
     },
     "metadata": {},
     "output_type": "display_data"
    }
   ],
   "source": [
    "# calculate stat - nonzero mean\n",
    "set.seed(0)\n",
    "x <- matrix(rnorm(200, mean=10, sd=2),ncol=2)\n",
    "y <- matrix(rnorm(200, mean=5, sd=2),ncol=2)\n",
    "z <- matrix(rnorm(200, mean=1, sd=2),ncol=2)\n",
    "dhsic(list(x,y,z), kernel=\"gaussian.fixed\", bandwidth=1, matrix.input=FALSE)$dHSIC\n",
    "\n",
    "# write to csv file\n",
    "test_norm.data <- data.frame(x,y,z)\n",
    "write.csv(test_norm.data, 'testdata_normdist_nonzeromean.csv')"
   ]
  },
  {
   "cell_type": "code",
   "execution_count": 12,
   "metadata": {},
   "outputs": [
    {
     "data": {
      "text/html": [
       "0.368631368631369"
      ],
      "text/latex": [
       "0.368631368631369"
      ],
      "text/markdown": [
       "0.368631368631369"
      ],
      "text/plain": [
       "[1] 0.3686314"
      ]
     },
     "metadata": {},
     "output_type": "display_data"
    }
   ],
   "source": [
    "# calculate pvalue - permutation \n",
    "dhsic.test(list(x,y,z), method=\"permutation\", kernel=\"gaussian.fixed\", pairwise=FALSE, B=1000)$p.value"
   ]
  },
  {
   "cell_type": "code",
   "execution_count": 9,
   "metadata": {},
   "outputs": [
    {
     "data": {
      "text/html": [
       "0.045609523374776"
      ],
      "text/latex": [
       "0.045609523374776"
      ],
      "text/markdown": [
       "0.045609523374776"
      ],
      "text/plain": [
       "[1] 0.04560952"
      ]
     },
     "metadata": {},
     "output_type": "display_data"
    },
    {
     "data": {
      "text/html": [
       "0.000999000999000999"
      ],
      "text/latex": [
       "0.000999000999000999"
      ],
      "text/markdown": [
       "0.000999000999000999"
      ],
      "text/plain": [
       "[1] 0.000999001"
      ]
     },
     "metadata": {},
     "output_type": "display_data"
    }
   ],
   "source": [
    "linearData <- read.csv(file = 'test_linear_data1.csv')\n",
    "x1 <- matrix(linearData$x1)\n",
    "y1 <- matrix(linearData$y1)\n",
    "\n",
    "dhsic(list(x1,y1), kernel=\"gaussian.fixed\", bandwidth=1, matrix.input=FALSE)$dHSIC\n",
    "dhsic.test(list(x1,y1), method=\"permutation\", kernel=\"gaussian.fixed\", pairwise=FALSE, B=1000)$p.value"
   ]
  },
  {
   "cell_type": "code",
   "execution_count": 10,
   "metadata": {},
   "outputs": [
    {
     "data": {
      "text/html": [
       "0.0391063850402702"
      ],
      "text/latex": [
       "0.0391063850402702"
      ],
      "text/markdown": [
       "0.0391063850402702"
      ],
      "text/plain": [
       "[1] 0.03910639"
      ]
     },
     "metadata": {},
     "output_type": "display_data"
    },
    {
     "data": {
      "text/html": [
       "0.000999000999000999"
      ],
      "text/latex": [
       "0.000999000999000999"
      ],
      "text/markdown": [
       "0.000999000999000999"
      ],
      "text/plain": [
       "[1] 0.000999001"
      ]
     },
     "metadata": {},
     "output_type": "display_data"
    }
   ],
   "source": [
    "linearData <- read.csv(file = 'test_linear_data2.csv')\n",
    "x2 <- matrix(linearData$x2)\n",
    "y2 <- matrix(linearData$y2)\n",
    "\n",
    "dhsic(list(x2,y2), kernel=\"gaussian.fixed\", bandwidth=1, matrix.input=FALSE)$dHSIC\n",
    "dhsic.test(list(x2,y2), method=\"permutation\", kernel=\"gaussian.fixed\", pairwise=FALSE, B=1000)$p.value"
   ]
  },
  {
   "cell_type": "code",
   "execution_count": null,
   "metadata": {},
   "outputs": [],
   "source": []
  }
 ],
 "metadata": {
  "kernelspec": {
   "display_name": "R",
   "language": "R",
   "name": "ir"
  },
  "language_info": {
   "codemirror_mode": "r",
   "file_extension": ".r",
   "mimetype": "text/x-r-source",
   "name": "R",
   "pygments_lexer": "r",
   "version": "3.6.1"
  }
 },
 "nbformat": 4,
 "nbformat_minor": 4
}
