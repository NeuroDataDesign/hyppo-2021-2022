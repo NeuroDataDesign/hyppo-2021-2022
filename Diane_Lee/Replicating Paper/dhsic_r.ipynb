{
 "cells": [
  {
   "cell_type": "markdown",
   "metadata": {},
   "source": [
    "# DHSIC - R"
   ]
  },
  {
   "cell_type": "code",
   "execution_count": 1,
   "metadata": {},
   "outputs": [
    {
     "name": "stdout",
     "output_type": "stream",
     "text": [
      "package 'dHSIC' successfully unpacked and MD5 sums checked\n",
      "\n",
      "The downloaded binary packages are in\n",
      "\tC:\\Users\\d0156\\AppData\\Local\\Temp\\RtmpQRT981\\downloaded_packages\n"
     ]
    },
    {
     "name": "stderr",
     "output_type": "stream",
     "text": [
      "Warning message:\n",
      "\"package 'dHSIC' was built under R version 3.6.3\""
     ]
    }
   ],
   "source": [
    "install.packages('dHSIC')\n",
    "library(dHSIC)"
   ]
  },
  {
   "cell_type": "code",
   "execution_count": 2,
   "metadata": {},
   "outputs": [
    {
     "data": {
      "text/html": [
       "0.00733749036480801"
      ],
      "text/latex": [
       "0.00733749036480801"
      ],
      "text/markdown": [
       "0.00733749036480801"
      ],
      "text/plain": [
       "[1] 0.00733749"
      ]
     },
     "metadata": {},
     "output_type": "display_data"
    }
   ],
   "source": [
    "# calculate stat\n",
    "set.seed(0)\n",
    "x <- matrix(rnorm(200),ncol=2)\n",
    "y <- matrix(rnorm(200),ncol=2)\n",
    "z <- matrix(rnorm(200),ncol=2)\n",
    "dhsic(list(x,y,z), kernel=\"gaussian.fixed\", bandwidth=1, matrix.input=FALSE)$dHSIC\n",
    "\n",
    "# write to csv file\n",
    "#test_norm.data <- data.frame(x,y,z)\n",
    "#write.csv(test_norm.data, 'testdata_normdist.csv')"
   ]
  },
  {
   "cell_type": "code",
   "execution_count": 3,
   "metadata": {},
   "outputs": [
    {
     "data": {
      "text/html": [
       "0.470529470529471"
      ],
      "text/latex": [
       "0.470529470529471"
      ],
      "text/markdown": [
       "0.470529470529471"
      ],
      "text/plain": [
       "[1] 0.4705295"
      ]
     },
     "metadata": {},
     "output_type": "display_data"
    }
   ],
   "source": [
    "# calculate pvalue - permutation \n",
    "dhsic.test(list(x,y,z), method=\"permutation\", kernel=\"gaussian.fixed\", pairwise=FALSE, B=1000)$p.value"
   ]
  },
  {
   "cell_type": "code",
   "execution_count": null,
   "metadata": {},
   "outputs": [],
   "source": []
  }
 ],
 "metadata": {
  "kernelspec": {
   "display_name": "R",
   "language": "R",
   "name": "ir"
  },
  "language_info": {
   "codemirror_mode": "r",
   "file_extension": ".r",
   "mimetype": "text/x-r-source",
   "name": "R",
   "pygments_lexer": "r",
   "version": "3.6.1"
  }
 },
 "nbformat": 4,
 "nbformat_minor": 4
}
