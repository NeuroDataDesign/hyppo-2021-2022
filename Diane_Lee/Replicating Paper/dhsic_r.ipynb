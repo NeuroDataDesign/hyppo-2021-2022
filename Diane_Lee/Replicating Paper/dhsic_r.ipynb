{
 "cells": [
  {
   "cell_type": "code",
   "execution_count": 2,
   "metadata": {},
   "outputs": [
    {
     "name": "stdout",
     "output_type": "stream",
     "text": [
      "package 'dHSIC' successfully unpacked and MD5 sums checked\n"
     ]
    },
    {
     "name": "stderr",
     "output_type": "stream",
     "text": [
      "Warning message:\n",
      "\"cannot remove prior installation of package 'dHSIC'\"Warning message in file.copy(savedcopy, lib, recursive = TRUE):\n",
      "\"problem copying C:\\Users\\d0156\\anaconda3\\Lib\\R\\library\\00LOCK\\dHSIC\\libs\\x64\\dHSIC.dll to C:\\Users\\d0156\\anaconda3\\Lib\\R\\library\\dHSIC\\libs\\x64\\dHSIC.dll: Permission denied\"Warning message:\n",
      "\"restored 'dHSIC'\""
     ]
    },
    {
     "name": "stdout",
     "output_type": "stream",
     "text": [
      "\n",
      "The downloaded binary packages are in\n",
      "\tC:\\Users\\d0156\\AppData\\Local\\Temp\\RtmpIdoLUz\\downloaded_packages\n"
     ]
    },
    {
     "name": "stderr",
     "output_type": "stream",
     "text": [
      "Warning message:\n",
      "\"package 'dHSIC' was built under R version 3.6.3\""
     ]
    }
   ],
   "source": [
    "install.packages('dHSIC')\n",
    "library(dHSIC)"
   ]
  },
  {
   "cell_type": "code",
   "execution_count": 13,
   "metadata": {},
   "outputs": [
    {
     "data": {
      "text/html": [
       "0.0944054250634821"
      ],
      "text/latex": [
       "0.0944054250634821"
      ],
      "text/markdown": [
       "0.0944054250634821"
      ],
      "text/plain": [
       "[1] 0.09440543"
      ]
     },
     "metadata": {},
     "output_type": "display_data"
    }
   ],
   "source": [
    "# dhsic stat\n",
    "set.seed(0)\n",
    "x <- matrix(rnorm(200),ncol=2)\n",
    "dhsic(list(x,x,x),kernel=\"gaussian\", matrix.input=FALSE)$dHSIC"
   ]
  },
  {
   "cell_type": "code",
   "execution_count": 14,
   "metadata": {},
   "outputs": [
    {
     "data": {
      "text/html": [
       "0.001998001998002"
      ],
      "text/latex": [
       "0.001998001998002"
      ],
      "text/markdown": [
       "0.001998001998002"
      ],
      "text/plain": [
       "[1] 0.001998002"
      ]
     },
     "metadata": {},
     "output_type": "display_data"
    },
    {
     "data": {
      "text/html": [
       "0.000999000999000999"
      ],
      "text/latex": [
       "0.000999000999000999"
      ],
      "text/markdown": [
       "0.000999000999000999"
      ],
      "text/plain": [
       "[1] 0.000999001"
      ]
     },
     "metadata": {},
     "output_type": "display_data"
    }
   ],
   "source": [
    "### gaussian kernel\n",
    "set.seed(0)\n",
    "x <- matrix(rnorm(200),ncol=2)\n",
    "X <- list(x,x,x)\n",
    "\n",
    "# pairwise hsic\n",
    "dhsic.test(X, method=\"permutation\", kernel=\"gaussian\", pairwise=TRUE, B=1000)$p.value\n",
    "\n",
    "# dhsic\n",
    "dhsic.test(X, method=\"permutation\", kernel=\"gaussian\", pairwise=FALSE, B=1000)$p.value"
   ]
  },
  {
   "cell_type": "code",
   "execution_count": 15,
   "metadata": {},
   "outputs": [
    {
     "data": {
      "text/html": [
       "0.374000320512"
      ],
      "text/latex": [
       "0.374000320512"
      ],
      "text/markdown": [
       "0.374000320512"
      ],
      "text/plain": [
       "[1] 0.3740003"
      ]
     },
     "metadata": {},
     "output_type": "display_data"
    }
   ],
   "source": [
    "# dhsic stat\n",
    "set.seed(0)\n",
    "x <- matrix(rbinom(100,1,0.5),ncol=1)\n",
    "dhsic(list(x,x,x),kernel=\"discrete\", matrix.input=FALSE)$dHSIC"
   ]
  },
  {
   "cell_type": "code",
   "execution_count": 16,
   "metadata": {},
   "outputs": [
    {
     "data": {
      "text/html": [
       "0.001998001998002"
      ],
      "text/latex": [
       "0.001998001998002"
      ],
      "text/markdown": [
       "0.001998001998002"
      ],
      "text/plain": [
       "[1] 0.001998002"
      ]
     },
     "metadata": {},
     "output_type": "display_data"
    },
    {
     "data": {
      "text/html": [
       "0.000999000999000999"
      ],
      "text/latex": [
       "0.000999000999000999"
      ],
      "text/markdown": [
       "0.000999000999000999"
      ],
      "text/plain": [
       "[1] 0.000999001"
      ]
     },
     "metadata": {},
     "output_type": "display_data"
    }
   ],
   "source": [
    "### discrete kernel\n",
    "set.seed(0)\n",
    "x <- matrix(rbinom(100,1,0.5),ncol=1)\n",
    "X <- list(x,x,x)\n",
    "\n",
    "# pairwise hsic\n",
    "dhsic.test(X, method=\"permutation\", kernel=\"discrete\", pairwise=TRUE, B=1000)$p.value\n",
    "\n",
    "# dhsic\n",
    "dhsic.test(X, method=\"permutation\", kernel=\"discrete\", pairwise=FALSE, B=1000)$p.value"
   ]
  },
  {
   "cell_type": "code",
   "execution_count": null,
   "metadata": {},
   "outputs": [],
   "source": []
  }
 ],
 "metadata": {
  "kernelspec": {
   "display_name": "R",
   "language": "R",
   "name": "ir"
  },
  "language_info": {
   "codemirror_mode": "r",
   "file_extension": ".r",
   "mimetype": "text/x-r-source",
   "name": "R",
   "pygments_lexer": "r",
   "version": "3.6.1"
  }
 },
 "nbformat": 4,
 "nbformat_minor": 4
}
