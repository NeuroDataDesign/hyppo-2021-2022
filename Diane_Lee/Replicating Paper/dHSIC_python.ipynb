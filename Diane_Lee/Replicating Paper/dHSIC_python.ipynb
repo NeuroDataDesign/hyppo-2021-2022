{
 "cells": [
  {
   "cell_type": "markdown",
   "metadata": {},
   "source": [
    "# DHSIC - Python"
   ]
  },
  {
   "cell_type": "code",
   "execution_count": 2,
   "metadata": {},
   "outputs": [],
   "source": [
    "from dhsic import Dhsic\n",
    "import numpy as np\n",
    "from scipy.stats import norm\n",
    "import pandas as pd"
   ]
  },
  {
   "cell_type": "code",
   "execution_count": 3,
   "metadata": {},
   "outputs": [
    {
     "data": {
      "text/html": [
       "<div>\n",
       "<style scoped>\n",
       "    .dataframe tbody tr th:only-of-type {\n",
       "        vertical-align: middle;\n",
       "    }\n",
       "\n",
       "    .dataframe tbody tr th {\n",
       "        vertical-align: top;\n",
       "    }\n",
       "\n",
       "    .dataframe thead th {\n",
       "        text-align: right;\n",
       "    }\n",
       "</style>\n",
       "<table border=\"1\" class=\"dataframe\">\n",
       "  <thead>\n",
       "    <tr style=\"text-align: right;\">\n",
       "      <th></th>\n",
       "      <th>X1</th>\n",
       "      <th>X2</th>\n",
       "      <th>X1.1</th>\n",
       "      <th>X2.1</th>\n",
       "      <th>X1.2</th>\n",
       "      <th>X2.2</th>\n",
       "    </tr>\n",
       "  </thead>\n",
       "  <tbody>\n",
       "    <tr>\n",
       "      <th>0</th>\n",
       "      <td>1.262954</td>\n",
       "      <td>0.781859</td>\n",
       "      <td>-1.045718</td>\n",
       "      <td>-0.124435</td>\n",
       "      <td>-0.390010</td>\n",
       "      <td>-0.626368</td>\n",
       "    </tr>\n",
       "    <tr>\n",
       "      <th>1</th>\n",
       "      <td>-0.326233</td>\n",
       "      <td>-0.776777</td>\n",
       "      <td>-0.896211</td>\n",
       "      <td>1.466745</td>\n",
       "      <td>-1.819222</td>\n",
       "      <td>0.481335</td>\n",
       "    </tr>\n",
       "    <tr>\n",
       "      <th>2</th>\n",
       "      <td>1.329799</td>\n",
       "      <td>-0.615990</td>\n",
       "      <td>1.269387</td>\n",
       "      <td>0.673929</td>\n",
       "      <td>0.659181</td>\n",
       "      <td>1.695271</td>\n",
       "    </tr>\n",
       "    <tr>\n",
       "      <th>3</th>\n",
       "      <td>1.272429</td>\n",
       "      <td>0.046580</td>\n",
       "      <td>0.593841</td>\n",
       "      <td>1.956425</td>\n",
       "      <td>0.459622</td>\n",
       "      <td>-1.761226</td>\n",
       "    </tr>\n",
       "    <tr>\n",
       "      <th>4</th>\n",
       "      <td>0.414641</td>\n",
       "      <td>-1.130386</td>\n",
       "      <td>0.775634</td>\n",
       "      <td>-0.269041</td>\n",
       "      <td>1.616626</td>\n",
       "      <td>0.198013</td>\n",
       "    </tr>\n",
       "  </tbody>\n",
       "</table>\n",
       "</div>"
      ],
      "text/plain": [
       "         X1        X2      X1.1      X2.1      X1.2      X2.2\n",
       "0  1.262954  0.781859 -1.045718 -0.124435 -0.390010 -0.626368\n",
       "1 -0.326233 -0.776777 -0.896211  1.466745 -1.819222  0.481335\n",
       "2  1.329799 -0.615990  1.269387  0.673929  0.659181  1.695271\n",
       "3  1.272429  0.046580  0.593841  1.956425  0.459622 -1.761226\n",
       "4  0.414641 -1.130386  0.775634 -0.269041  1.616626  0.198013"
      ]
     },
     "execution_count": 3,
     "metadata": {},
     "output_type": "execute_result"
    }
   ],
   "source": [
    "# import data\n",
    "data = pd.read_csv(\"testdata_normdist.csv\")\n",
    "data = data.iloc[:, 1:]\n",
    "data.head()"
   ]
  },
  {
   "cell_type": "code",
   "execution_count": 16,
   "metadata": {},
   "outputs": [
    {
     "name": "stdout",
     "output_type": "stream",
     "text": [
      "(100, 2)\n"
     ]
    }
   ],
   "source": [
    "# preprocess data\n",
    "x1 = data.iloc[:,0].to_numpy()\n",
    "x2 = data.iloc[:,1].to_numpy()\n",
    "x = np.transpose(np.vstack((x1,x2)))\n",
    "\n",
    "y1 = data.iloc[:,2].to_numpy()\n",
    "y2 = data.iloc[:,3].to_numpy()\n",
    "y = np.transpose(np.vstack((y1,y2)))\n",
    "\n",
    "z1 = data.iloc[:,4].to_numpy()\n",
    "z2 = data.iloc[:,5].to_numpy()\n",
    "z = np.transpose(np.vstack((z1,z2)))\n",
    "\n",
    "# check shape\n",
    "print(z.shape)"
   ]
  },
  {
   "cell_type": "code",
   "execution_count": 17,
   "metadata": {},
   "outputs": [
    {
     "data": {
      "text/plain": [
       "0.0073374903648079776"
      ]
     },
     "execution_count": 17,
     "metadata": {},
     "output_type": "execute_result"
    }
   ],
   "source": [
    "# calculate stat\n",
    "Dhsic(**{'gamma': 0.5}).statistic(*(x,y,z))"
   ]
  },
  {
   "cell_type": "code",
   "execution_count": 19,
   "metadata": {},
   "outputs": [
    {
     "data": {
      "text/plain": [
       "MultivariateTestOutput(stat=0.0073374903648079776, pvalue=0.46153846153846156)"
      ]
     },
     "execution_count": 19,
     "metadata": {},
     "output_type": "execute_result"
    }
   ],
   "source": [
    "# calculate pvalue - permutation \n",
    "Dhsic(**{'gamma': 0.5}).test(*(x,y,z))"
   ]
  },
  {
   "cell_type": "code",
   "execution_count": null,
   "metadata": {},
   "outputs": [],
   "source": []
  }
 ],
 "metadata": {
  "kernelspec": {
   "display_name": "Python 3",
   "language": "python",
   "name": "python3"
  },
  "language_info": {
   "codemirror_mode": {
    "name": "ipython",
    "version": 3
   },
   "file_extension": ".py",
   "mimetype": "text/x-python",
   "name": "python",
   "nbconvert_exporter": "python",
   "pygments_lexer": "ipython3",
   "version": "3.7.6"
  }
 },
 "nbformat": 4,
 "nbformat_minor": 4
}
