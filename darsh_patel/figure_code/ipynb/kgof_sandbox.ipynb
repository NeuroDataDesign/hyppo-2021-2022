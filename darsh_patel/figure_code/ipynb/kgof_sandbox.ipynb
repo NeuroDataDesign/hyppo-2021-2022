{
  "nbformat": 4,
  "nbformat_minor": 0,
  "metadata": {
    "colab": {
      "name": "kgof_sandbox.ipynb",
      "provenance": []
    },
    "kernelspec": {
      "name": "python3",
      "display_name": "Python 3"
    },
    "language_info": {
      "name": "python"
    }
  },
  "cells": [
    {
      "cell_type": "code",
      "metadata": {
        "colab": {
          "base_uri": "https://localhost:8080/"
        },
        "id": "vQRAoRXilaIl",
        "outputId": "92d3de5d-589f-47a3-fe8f-9174ed11968b"
      },
      "source": [
        "! pip install git+https://github.com/wittawatj/kernel-gof.git"
      ],
      "execution_count": null,
      "outputs": [
        {
          "output_type": "stream",
          "name": "stdout",
          "text": [
            "Collecting git+https://github.com/wittawatj/kernel-gof.git\n",
            "  Cloning https://github.com/wittawatj/kernel-gof.git to /tmp/pip-req-build-c05eq82u\n",
            "  Running command git clone -q https://github.com/wittawatj/kernel-gof.git /tmp/pip-req-build-c05eq82u\n",
            "Requirement already satisfied: numpy in /usr/local/lib/python3.7/dist-packages (from kgof==0.1.0) (1.19.5)\n",
            "Requirement already satisfied: autograd in /usr/local/lib/python3.7/dist-packages (from kgof==0.1.0) (1.3)\n",
            "Requirement already satisfied: scipy in /usr/local/lib/python3.7/dist-packages (from kgof==0.1.0) (1.4.1)\n",
            "Requirement already satisfied: matplotlib in /usr/local/lib/python3.7/dist-packages (from kgof==0.1.0) (3.2.2)\n",
            "Requirement already satisfied: future>=0.15.2 in /usr/local/lib/python3.7/dist-packages (from autograd->kgof==0.1.0) (0.16.0)\n",
            "Requirement already satisfied: python-dateutil>=2.1 in /usr/local/lib/python3.7/dist-packages (from matplotlib->kgof==0.1.0) (2.8.2)\n",
            "Requirement already satisfied: pyparsing!=2.0.4,!=2.1.2,!=2.1.6,>=2.0.1 in /usr/local/lib/python3.7/dist-packages (from matplotlib->kgof==0.1.0) (2.4.7)\n",
            "Requirement already satisfied: kiwisolver>=1.0.1 in /usr/local/lib/python3.7/dist-packages (from matplotlib->kgof==0.1.0) (1.3.1)\n",
            "Requirement already satisfied: cycler>=0.10 in /usr/local/lib/python3.7/dist-packages (from matplotlib->kgof==0.1.0) (0.10.0)\n",
            "Requirement already satisfied: six in /usr/local/lib/python3.7/dist-packages (from cycler>=0.10->matplotlib->kgof==0.1.0) (1.15.0)\n",
            "Building wheels for collected packages: kgof\n",
            "  Building wheel for kgof (setup.py) ... \u001b[?25l\u001b[?25hdone\n",
            "  Created wheel for kgof: filename=kgof-0.1.0-py3-none-any.whl size=44915 sha256=2721e2273303cafe93a3e201703d3acacc8b73a7209b966ba2ed020c9c368b3c\n",
            "  Stored in directory: /tmp/pip-ephem-wheel-cache-nshl84la/wheels/2b/a7/11/101ba41641216ad2643f34672588a75886b6ea7150876ab329\n",
            "Successfully built kgof\n",
            "Installing collected packages: kgof\n",
            "Successfully installed kgof-0.1.0\n"
          ]
        }
      ]
    },
    {
      "cell_type": "code",
      "metadata": {
        "id": "dbzb3T9OmDvv"
      },
      "source": [
        "# Catch-all import statements\n",
        "import kgof\n",
        "import kgof.data as data\n",
        "import kgof.density as density\n",
        "import kgof.goftest as gof\n",
        "import kgof.kernel as kernel\n",
        "import kgof.util as util\n",
        "import matplotlib\n",
        "import matplotlib.pyplot as plt\n",
        "import autograd.numpy as np\n",
        "import scipy.stats as stats"
      ],
      "execution_count": null,
      "outputs": []
    },
    {
      "cell_type": "code",
      "metadata": {
        "id": "97Q8u6sMmQ2h"
      },
      "source": [
        "d = 2\n",
        "def isogauss_log_den(X):\n",
        "  mean = np.zeros(d)\n",
        "  variance = 1\n",
        "  unden = -np.sum((X - mean)**2, 1)/(2.0 * variance)\n",
        "  return unden"
      ],
      "execution_count": null,
      "outputs": []
    },
    {
      "cell_type": "code",
      "metadata": {
        "id": "wG1h9SCPsAV6"
      },
      "source": [
        "# construct p as an unnormalized density object\n",
        "p = density.from_log_den(d, isogauss_log_den)"
      ],
      "execution_count": null,
      "outputs": []
    },
    {
      "cell_type": "code",
      "metadata": {
        "id": "g5JIoLMuvh9b"
      },
      "source": [
        "m = 1\n",
        "np.random.seed(6)\n",
        "n = 400\n",
        "X = np.random.randn(n, 2) + np.array([m, 0])"
      ],
      "execution_count": null,
      "outputs": []
    },
    {
      "cell_type": "code",
      "metadata": {
        "colab": {
          "base_uri": "https://localhost:8080/",
          "height": 282
        },
        "id": "3PQfyMv-v73b",
        "outputId": "1e257b9b-ff41-405e-c13d-43e1a4542361"
      },
      "source": [
        "plt.plot(X[:, 0], X[:, 1], 'ko', label='Data from $q$')\n",
        "plt.legend()"
      ],
      "execution_count": null,
      "outputs": [
        {
          "output_type": "execute_result",
          "data": {
            "text/plain": [
              "<matplotlib.legend.Legend at 0x7f92d191ae50>"
            ]
          },
          "metadata": {},
          "execution_count": 6
        },
        {
          "output_type": "display_data",
          "data": {
            "image/png": "[encoded data removed]",
            "text/plain": [
              "<Figure size 432x288 with 1 Axes>"
            ]
          },
          "metadata": {
            "needs_background": "light"
          }
        }
      ]
    },
    {
      "cell_type": "code",
      "metadata": {
        "id": "U799YFbLw2v7"
      },
      "source": [
        "dat = data.Data(X)"
      ],
      "execution_count": null,
      "outputs": []
    },
    {
      "cell_type": "code",
      "metadata": {
        "id": "O9MZ-ScSx-XA"
      },
      "source": [
        "train, test = dat.split_tr_te(tr_proportion=0.2, seed=5)"
      ],
      "execution_count": null,
      "outputs": []
    },
    {
      "cell_type": "code",
      "metadata": {
        "id": "9-H7cM-qJvVV"
      },
      "source": [
        "J = 1\n",
        "opts = {\n",
        "    'reg': 1e-2,\n",
        "    'max_iter': 50,\n",
        "    'tol_fun': 1e-7,\n",
        "}\n",
        "V_opt, gw_opt, opt_info = gof.GaussFSSD.optimize_auto_init(p, train, J, **opts)"
      ],
      "execution_count": null,
      "outputs": []
    },
    {
      "cell_type": "code",
      "metadata": {
        "colab": {
          "base_uri": "https://localhost:8080/"
        },
        "id": "0vBaMQPJK1Ru",
        "outputId": "90db4a15-91f0-4182-8a16-d5c2c94e76f0"
      },
      "source": [
        "opt_info"
      ],
      "execution_count": null,
      "outputs": [
        {
          "output_type": "execute_result",
          "data": {
            "text/plain": [
              "{'fun': -0.46928579803153925,\n",
              " 'hess_inv': <3x3 LbfgsInvHessProduct with dtype=float64>,\n",
              " 'jac': array([-1.41610920e-06,  5.42336052e-07,  1.77049555e-05]),\n",
              " 'message': b'CONVERGENCE: REL_REDUCTION_OF_F_<=_FACTR*EPSMCH',\n",
              " 'nfev': 13,\n",
              " 'nit': 9,\n",
              " 'status': 0,\n",
              " 'success': True,\n",
              " 'time_secs': 0.18166851997375488,\n",
              " 'x': array([ 2.10331391, -0.42809005, -0.09248535])}"
            ]
          },
          "metadata": {},
          "execution_count": 11
        }
      ]
    },
    {
      "cell_type": "code",
      "metadata": {
        "id": "aC9O0sJ6K69l"
      },
      "source": [
        "alpha = 0.05\n",
        "fssd_opt = gof.GaussFSSD(p, gw_opt, V_opt, alpha)"
      ],
      "execution_count": null,
      "outputs": []
    },
    {
      "cell_type": "code",
      "metadata": {
        "colab": {
          "base_uri": "https://localhost:8080/"
        },
        "id": "HizoL_BALUHF",
        "outputId": "0343ba13-f4ec-44c3-c215-09b3474e3992"
      },
      "source": [
        "test_result = fssd_opt.perform_test(test)\n",
        "test_result"
      ],
      "execution_count": null,
      "outputs": [
        {
          "output_type": "execute_result",
          "data": {
            "text/plain": [
              "{'alpha': 0.05,\n",
              " 'h0_rejected': True,\n",
              " 'n_simulate': 3000,\n",
              " 'pvalue': 0.0,\n",
              " 'test_stat': 81.98456242402355,\n",
              " 'time_secs': 0.003679990768432617}"
            ]
          },
          "metadata": {},
          "execution_count": 14
        }
      ]
    },
    {
      "cell_type": "code",
      "metadata": {
        "id": "UDj_X_hYLbR8"
      },
      "source": [
        "# If m=0, then p=q and H_0 is true.\n",
        "# m = 0\n",
        "m = 0\n",
        "\n",
        "# Draw n points from q\n",
        "seed = 6\n",
        "np.random.seed(seed)\n",
        "n = 400\n",
        "X = np.random.randn(n, 2) + np.array([m, 0])"
      ],
      "execution_count": null,
      "outputs": []
    },
    {
      "cell_type": "code",
      "metadata": {
        "colab": {
          "base_uri": "https://localhost:8080/",
          "height": 282
        },
        "id": "DR6A7yA3OzD8",
        "outputId": "00795729-f70c-410c-a7b4-589361e682ce"
      },
      "source": [
        "plt.plot(X[:, 0], X[:, 1], 'ko', label='Data from $q$')\n",
        "plt.legend()"
      ],
      "execution_count": null,
      "outputs": [
        {
          "output_type": "execute_result",
          "data": {
            "text/plain": [
              "<matplotlib.legend.Legend at 0x7f92d17dca50>"
            ]
          },
          "metadata": {},
          "execution_count": 16
        },
        {
          "output_type": "display_data",
          "data": {
            "image/png": "[encoded data removed]",
            "text/plain": [
              "<Figure size 432x288 with 1 Axes>"
            ]
          },
          "metadata": {
            "needs_background": "light"
          }
        }
      ]
    },
    {
      "cell_type": "code",
      "metadata": {
        "id": "gmiW41VVO13Q"
      },
      "source": [
        "dat = data.Data(X)"
      ],
      "execution_count": null,
      "outputs": []
    },
    {
      "cell_type": "code",
      "metadata": {
        "id": "eWtex4dSO6bB"
      },
      "source": [
        "train, test = dat.split_tr_te(tr_proportion=0.2, seed=5)"
      ],
      "execution_count": null,
      "outputs": []
    },
    {
      "cell_type": "code",
      "metadata": {
        "id": "0bA9-g2cO-jD"
      },
      "source": [
        "J = 1\n",
        "opts = {\n",
        "    'reg': 1e-2,\n",
        "    'max_iter': 50,\n",
        "    'tol_fun': 1e-7,\n",
        "}\n",
        "V_opt, gw_opt, opt_info = gof.GaussFSSD.optimize_auto_init(p, train, J, **opts)"
      ],
      "execution_count": null,
      "outputs": []
    },
    {
      "cell_type": "code",
      "metadata": {
        "colab": {
          "base_uri": "https://localhost:8080/"
        },
        "id": "LILf7xLfPA31",
        "outputId": "9ceee119-23dd-4c5e-b82f-103bba6acd95"
      },
      "source": [
        "opt_info"
      ],
      "execution_count": null,
      "outputs": [
        {
          "output_type": "execute_result",
          "data": {
            "text/plain": [
              "{'fun': -0.03949434966474903,\n",
              " 'hess_inv': <3x3 LbfgsInvHessProduct with dtype=float64>,\n",
              " 'jac': array([-3.54248421e-07, -3.90911649e-07,  3.72378650e-08]),\n",
              " 'message': b'CONVERGENCE: REL_REDUCTION_OF_F_<=_FACTR*EPSMCH',\n",
              " 'nfev': 12,\n",
              " 'nit': 10,\n",
              " 'status': 0,\n",
              " 'success': True,\n",
              " 'time_secs': 0.10703444480895996,\n",
              " 'x': array([3.98219259, 1.89340814, 1.86068057])}"
            ]
          },
          "metadata": {},
          "execution_count": 20
        }
      ]
    },
    {
      "cell_type": "code",
      "metadata": {
        "id": "_B36Y9BVPCo6"
      },
      "source": [
        "alpha = 0.05\n",
        "fssd_opt = gof.GaussFSSD(p, gw_opt, V_opt, alpha)"
      ],
      "execution_count": null,
      "outputs": []
    },
    {
      "cell_type": "code",
      "metadata": {
        "colab": {
          "base_uri": "https://localhost:8080/"
        },
        "id": "W_-kb8fNPF4P",
        "outputId": "986eb4e6-884e-4832-de9e-861777676acd"
      },
      "source": [
        "test_result = fssd_opt.perform_test(test)\n",
        "test_result"
      ],
      "execution_count": null,
      "outputs": [
        {
          "output_type": "execute_result",
          "data": {
            "text/plain": [
              "{'alpha': 0.05,\n",
              " 'h0_rejected': False,\n",
              " 'n_simulate': 3000,\n",
              " 'pvalue': 0.6626666666666666,\n",
              " 'test_stat': -0.3491860461111926,\n",
              " 'time_secs': 0.00611424446105957}"
            ]
          },
          "metadata": {},
          "execution_count": 22
        }
      ]
    }
  ]
}