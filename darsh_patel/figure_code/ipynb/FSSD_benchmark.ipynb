{
  "nbformat": 4,
  "nbformat_minor": 0,
  "metadata": {
    "colab": {
      "name": "FSSD_benchmark.ipynb",
      "provenance": []
    },
    "kernelspec": {
      "name": "python3",
      "display_name": "Python 3"
    },
    "language_info": {
      "name": "python"
    }
  },
  "cells": [
    {
      "cell_type": "code",
      "metadata": {
        "colab": {
          "base_uri": "https://localhost:8080/"
        },
        "id": "Kwh30OLNqMGW",
        "outputId": "0b4f9912-5051-4523-9944-734a06ff61b4"
      },
      "source": [
        "! pip install git+https://github.com/wittawatj/kernel-gof.git"
      ],
      "execution_count": 1,
      "outputs": [
        {
          "output_type": "stream",
          "name": "stdout",
          "text": [
            "Collecting git+https://github.com/wittawatj/kernel-gof.git\n",
            "  Cloning https://github.com/wittawatj/kernel-gof.git to /tmp/pip-req-build-pg9nejrz\n",
            "  Running command git clone -q https://github.com/wittawatj/kernel-gof.git /tmp/pip-req-build-pg9nejrz\n",
            "Requirement already satisfied: numpy in /usr/local/lib/python3.7/dist-packages (from kgof==0.1.0) (1.19.5)\n",
            "Requirement already satisfied: autograd in /usr/local/lib/python3.7/dist-packages (from kgof==0.1.0) (1.3)\n",
            "Requirement already satisfied: scipy in /usr/local/lib/python3.7/dist-packages (from kgof==0.1.0) (1.4.1)\n",
            "Requirement already satisfied: matplotlib in /usr/local/lib/python3.7/dist-packages (from kgof==0.1.0) (3.2.2)\n",
            "Requirement already satisfied: future>=0.15.2 in /usr/local/lib/python3.7/dist-packages (from autograd->kgof==0.1.0) (0.16.0)\n",
            "Requirement already satisfied: kiwisolver>=1.0.1 in /usr/local/lib/python3.7/dist-packages (from matplotlib->kgof==0.1.0) (1.3.2)\n",
            "Requirement already satisfied: cycler>=0.10 in /usr/local/lib/python3.7/dist-packages (from matplotlib->kgof==0.1.0) (0.10.0)\n",
            "Requirement already satisfied: pyparsing!=2.0.4,!=2.1.2,!=2.1.6,>=2.0.1 in /usr/local/lib/python3.7/dist-packages (from matplotlib->kgof==0.1.0) (2.4.7)\n",
            "Requirement already satisfied: python-dateutil>=2.1 in /usr/local/lib/python3.7/dist-packages (from matplotlib->kgof==0.1.0) (2.8.2)\n",
            "Requirement already satisfied: six in /usr/local/lib/python3.7/dist-packages (from cycler>=0.10->matplotlib->kgof==0.1.0) (1.15.0)\n"
          ]
        }
      ]
    },
    {
      "cell_type": "code",
      "metadata": {
        "id": "5KSZUZ6tqml0",
        "colab": {
          "base_uri": "https://localhost:8080/"
        },
        "outputId": "6dea3942-8dd7-4fb9-d1d3-90d6d61790cd"
      },
      "source": [
        "! pip install hyppo"
      ],
      "execution_count": 2,
      "outputs": [
        {
          "output_type": "stream",
          "name": "stdout",
          "text": [
            "Requirement already satisfied: hyppo in /usr/local/lib/python3.7/dist-packages (0.2.1)\n",
            "Requirement already satisfied: numba>=0.46 in /usr/local/lib/python3.7/dist-packages (from hyppo) (0.51.2)\n",
            "Requirement already satisfied: scikit-learn>=0.19.1 in /usr/local/lib/python3.7/dist-packages (from hyppo) (0.22.2.post1)\n",
            "Requirement already satisfied: numpy>=1.17 in /usr/local/lib/python3.7/dist-packages (from hyppo) (1.19.5)\n",
            "Requirement already satisfied: scipy>=1.4.0 in /usr/local/lib/python3.7/dist-packages (from hyppo) (1.4.1)\n",
            "Requirement already satisfied: setuptools in /usr/local/lib/python3.7/dist-packages (from numba>=0.46->hyppo) (57.4.0)\n",
            "Requirement already satisfied: llvmlite<0.35,>=0.34.0.dev0 in /usr/local/lib/python3.7/dist-packages (from numba>=0.46->hyppo) (0.34.0)\n",
            "Requirement already satisfied: joblib>=0.11 in /usr/local/lib/python3.7/dist-packages (from scikit-learn>=0.19.1->hyppo) (1.0.1)\n"
          ]
        }
      ]
    },
    {
      "cell_type": "code",
      "metadata": {
        "id": "jFSty6pSqWqa"
      },
      "source": [
        "%load_ext autoreload\n",
        "%autoreload 2\n",
        "%matplotlib inline\n",
        "\n",
        "import kgof\n",
        "import kgof.data as data\n",
        "import kgof.density as density\n",
        "import kgof.goftest as gof\n",
        "import kgof.kernel as kernel\n",
        "import kgof.util as util\n",
        "import matplotlib\n",
        "import matplotlib.pyplot as plt\n",
        "import autograd.numpy as np\n",
        "import scipy.stats as stats"
      ],
      "execution_count": 16,
      "outputs": []
    },
    {
      "cell_type": "code",
      "metadata": {
        "id": "_xkRt0FCqeM3"
      },
      "source": [
        "# Assuming two dimensions.\n",
        "def isogauss_log_den(X):\n",
        "  mean = np.zeros(2)\n",
        "  variance = 1\n",
        "  unden = -np.sum((X - mean)**2, 1) / (2.0 * variance)\n",
        "  return unden"
      ],
      "execution_count": 17,
      "outputs": []
    },
    {
      "cell_type": "code",
      "metadata": {
        "id": "9oLtgahYr-ul"
      },
      "source": [
        "p = density.from_log_den(2, isogauss_log_den) # UnnormalizedDensity object"
      ],
      "execution_count": 18,
      "outputs": []
    },
    {
      "cell_type": "code",
      "metadata": {
        "id": "DsuMA3u4s7ZS"
      },
      "source": [
        "# Drawing n points from q\n",
        "m = 1 # If m = 0, p = q and H_0 is true\n",
        "\n",
        "seed = 4\n",
        "np.random.seed(seed)\n",
        "n = 400\n",
        "X = np.random.randn(n, 2) + np.array([m, 0])"
      ],
      "execution_count": 19,
      "outputs": []
    },
    {
      "cell_type": "code",
      "metadata": {
        "colab": {
          "base_uri": "https://localhost:8080/",
          "height": 284
        },
        "id": "BGkG0w1HtW3Y",
        "outputId": "520c3268-f5c1-4664-db32-a5319c4a140a"
      },
      "source": [
        "# Plotting the data from q\n",
        "plt.plot(X[:, 0], X[:, 1], 'ko', label='Data from $q$')\n",
        "plt.legend()"
      ],
      "execution_count": 20,
      "outputs": [
        {
          "output_type": "execute_result",
          "data": {
            "text/plain": [
              "<matplotlib.legend.Legend at 0x7fd543223450>"
            ]
          },
          "metadata": {},
          "execution_count": 20
        },
        {
          "output_type": "display_data",
          "data": {
            "image/png": "[encoded data removed]",
            "text/plain": [
              "<Figure size 432x288 with 1 Axes>"
            ]
          },
          "metadata": {
            "needs_background": "light"
          }
        }
      ]
    },
    {
      "cell_type": "code",
      "metadata": {
        "id": "dDApfErYtZmV"
      },
      "source": [
        "# dat will be fed to the test.\n",
        "dat = data.Data(X) # Creates a Data object here, whereas for the hyppo implementation I'd pass X through"
      ],
      "execution_count": 21,
      "outputs": []
    },
    {
      "cell_type": "code",
      "metadata": {
        "id": "rILRhNb5ttLz"
      },
      "source": [
        "# 20% for parameter tuning, and 80% for testing\n",
        "train, test = dat.split_tr_te(tr_proportion=0.2, seed=2)\n",
        "\n",
        "# What would need to be done for our module that does not depend on the Data object\n",
        "# from sklearn.model_selection import train_test_split\n",
        "# train, test = train_test_split(X, test_size = 0.8, random_state = 42)"
      ],
      "execution_count": 22,
      "outputs": []
    },
    {
      "cell_type": "code",
      "metadata": {
        "id": "-3uaTc7Ut1xb"
      },
      "source": [
        "# J is the # of test locs (features), not larger than 10\n",
        "J = 1\n",
        "\n",
        "opts = {\n",
        "    'reg': 1e-2, # regularization parameter in the optimization objective\n",
        "    'max_iter': 50, # maximum number of gradient ascent iterations\n",
        "    'tol_fun':1e-7, # termination tolerance of the objective\n",
        "}\n",
        "\n",
        "# make sure to give train (NOT test).\n",
        "# do the optimization with the options in opts.\n",
        "V_opt, gw_opt, opt_info = gof.GaussFSSD.optimize_auto_init(p, train, J, **opts)"
      ],
      "execution_count": 23,
      "outputs": []
    },
    {
      "cell_type": "code",
      "metadata": {
        "colab": {
          "base_uri": "https://localhost:8080/"
        },
        "id": "PWQjUAT3uC92",
        "outputId": "96664c83-2460-4905-8ea5-139d2a6c2af7"
      },
      "source": [
        "opt_info"
      ],
      "execution_count": 24,
      "outputs": [
        {
          "output_type": "execute_result",
          "data": {
            "text/plain": [
              "{'fun': -0.6387517401665469,\n",
              " 'hess_inv': <3x3 LbfgsInvHessProduct with dtype=float64>,\n",
              " 'jac': array([ 2.53782181e-07, -2.69935213e-07, -6.56305723e-07]),\n",
              " 'message': b'CONVERGENCE: REL_REDUCTION_OF_F_<=_FACTR*EPSMCH',\n",
              " 'nfev': 21,\n",
              " 'nit': 12,\n",
              " 'status': 0,\n",
              " 'success': True,\n",
              " 'time_secs': 0.172257661819458,\n",
              " 'x': array([ 3.22221986, -2.14666395,  0.07170879])}"
            ]
          },
          "metadata": {},
          "execution_count": 24
        }
      ]
    },
    {
      "cell_type": "code",
      "metadata": {
        "id": "4FFDQB4FuFXL"
      },
      "source": [
        "alpha = 0.01 # significance level of the test (99% confidence)\n",
        "fssd_opt = gof.GaussFSSD(p, gw_opt, V_opt, alpha)"
      ],
      "execution_count": 25,
      "outputs": []
    },
    {
      "cell_type": "code",
      "metadata": {
        "colab": {
          "base_uri": "https://localhost:8080/"
        },
        "id": "WYLlolxwuQuW",
        "outputId": "5cc974b1-c9b2-4407-b343-d3b69fceff62"
      },
      "source": [
        "# Perform FSSD GoF test using testing data 'test'\n",
        "\n",
        "test_result = fssd_opt.perform_test(test)\n",
        "test_result"
      ],
      "execution_count": 26,
      "outputs": [
        {
          "output_type": "execute_result",
          "data": {
            "text/plain": [
              "{'alpha': 0.01,\n",
              " 'h0_rejected': True,\n",
              " 'n_simulate': 3000,\n",
              " 'pvalue': 0.0,\n",
              " 'test_stat': 66.12470839770019,\n",
              " 'time_secs': 0.0031952857971191406}"
            ]
          },
          "metadata": {},
          "execution_count": 26
        }
      ]
    },
    {
      "cell_type": "code",
      "metadata": {
        "id": "-53QFxaUudqD"
      },
      "source": [
        "# Drawing n points from q\n",
        "m = 0 # If m = 0, p = q and H_0 is true\n",
        "\n",
        "seed = 4\n",
        "np.random.seed(seed)\n",
        "n = 400\n",
        "X = np.random.randn(n, 2) + np.array([m, 0])"
      ],
      "execution_count": 27,
      "outputs": []
    },
    {
      "cell_type": "code",
      "metadata": {
        "colab": {
          "base_uri": "https://localhost:8080/",
          "height": 284
        },
        "id": "-mjhBP6o5AEd",
        "outputId": "e8406f37-e1a5-4854-c761-2ec832d6f343"
      },
      "source": [
        "# Plotting the data from q\n",
        "plt.plot(X[:, 0], X[:, 1], 'ko', label='Data from $q$')\n",
        "plt.legend()"
      ],
      "execution_count": 28,
      "outputs": [
        {
          "output_type": "execute_result",
          "data": {
            "text/plain": [
              "<matplotlib.legend.Legend at 0x7fd543161690>"
            ]
          },
          "metadata": {},
          "execution_count": 28
        },
        {
          "output_type": "display_data",
          "data": {
            "image/png": "[encoded data removed]",
            "text/plain": [
              "<Figure size 432x288 with 1 Axes>"
            ]
          },
          "metadata": {
            "needs_background": "light"
          }
        }
      ]
    },
    {
      "cell_type": "code",
      "metadata": {
        "id": "8hwH9tqn7C-b"
      },
      "source": [
        "# dat will be fed to the test.\n",
        "dat = data.Data(X) # Creates a Data object here, whereas for the hyppo implementation I'd pass X through"
      ],
      "execution_count": 29,
      "outputs": []
    },
    {
      "cell_type": "code",
      "metadata": {
        "id": "3vSkng8U7GR4"
      },
      "source": [
        "# 20% for parameter tuning, and 80% for testing\n",
        "train, test = dat.split_tr_te(tr_proportion=0.2, seed=2)\n",
        "\n",
        "# What would need to be done for our module that does not depend on the Data object\n",
        "# from sklearn.model_selection import train_test_split\n",
        "# train, test = train_test_split(X, test_size = 0.8, random_state = 42)"
      ],
      "execution_count": 30,
      "outputs": []
    },
    {
      "cell_type": "code",
      "metadata": {
        "id": "0_bZnVCB7JsY"
      },
      "source": [
        "# J is the # of test locs (features), not larger than 10\n",
        "J = 1\n",
        "\n",
        "opts = {\n",
        "    'reg': 1e-2, # regularization parameter in the optimization objective\n",
        "    'max_iter': 50, # maximum number of gradient ascent iterations\n",
        "    'tol_fun':1e-7, # termination tolerance of the objective\n",
        "}\n",
        "\n",
        "# make sure to give train (NOT test).\n",
        "# do the optimization with the options in opts.\n",
        "V_opt, gw_opt, opt_info = gof.GaussFSSD.optimize_auto_init(p, train, J, **opts)"
      ],
      "execution_count": 31,
      "outputs": []
    },
    {
      "cell_type": "code",
      "metadata": {
        "id": "pE5LJeXw7MRf"
      },
      "source": [
        "alpha = 0.01 # significance level of the test (99% confidence)\n",
        "fssd_opt = gof.GaussFSSD(p, gw_opt, V_opt, alpha)"
      ],
      "execution_count": 32,
      "outputs": []
    },
    {
      "cell_type": "code",
      "metadata": {
        "colab": {
          "base_uri": "https://localhost:8080/"
        },
        "id": "FvHZxBdt7O7_",
        "outputId": "c1ae1475-1111-4522-e2d6-8d1428dadd3b"
      },
      "source": [
        "# Perform FSSD GoF test using testing data 'test'\n",
        "\n",
        "test_result = fssd_opt.perform_test(test)\n",
        "test_result"
      ],
      "execution_count": 33,
      "outputs": [
        {
          "output_type": "execute_result",
          "data": {
            "text/plain": [
              "{'alpha': 0.01,\n",
              " 'h0_rejected': False,\n",
              " 'n_simulate': 3000,\n",
              " 'pvalue': 0.774,\n",
              " 'test_stat': -0.1546149094162846,\n",
              " 'time_secs': 0.00244140625}"
            ]
          },
          "metadata": {},
          "execution_count": 33
        }
      ]
    },
    {
      "cell_type": "code",
      "metadata": {
        "id": "4QLHbLdk7Rub"
      },
      "source": [
        ""
      ],
      "execution_count": null,
      "outputs": []
    }
  ]
}