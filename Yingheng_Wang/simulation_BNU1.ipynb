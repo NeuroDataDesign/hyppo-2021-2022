{
 "cells": [
  {
   "cell_type": "code",
   "execution_count": 1,
   "metadata": {},
   "outputs": [],
   "source": [
    "import matplotlib.pyplot as plt\n",
    "import numpy as np\n",
    "import pandas as pd\n",
    "import seaborn as sns\n",
    "import warnings\n",
    "pd.options.mode.chained_assignment = None\n",
    "%matplotlib inline"
   ]
  },
  {
   "cell_type": "code",
   "execution_count": 14,
   "metadata": {},
   "outputs": [
    {
     "name": "stdout",
     "output_type": "stream",
     "text": [
      "Graph(num_nodes=70, num_edges=24,\n",
      "      ndata_schemes={}\n",
      "      edata_schemes={'weight': Scheme(shape=(), dtype=torch.float32)}) tensor(1)\n"
     ]
    }
   ],
   "source": [
    "import dgl\n",
    "from dgl.data import DGLDataset\n",
    "import torch\n",
    "import os\n",
    "\n",
    "edges_fMRI = pd.read_csv('./BNU1_fMRI/fMRI_brain_graph_weighted_edges_0.8.csv')\n",
    "# edges_dMRI_fused = pd.read_csv('./BNU1_dMRI/dMRI_brain_graph_edges_fused.csv')\n",
    "# edges_dMRI_ses1 = pd.read_csv('./BNU1_dMRI/dMRI_brain_graph_edges_ses1.csv')\n",
    "# edges_dMRI_ses2 = pd.read_csv('./BNU1_dMRI/dMRI_brain_graph_edges_ses2.csv')\n",
    "properties = pd.read_csv('./BNU1_fMRI/fMRI_brain_graph_properties.csv')\n",
    "\n",
    "edges_fMRI.head()\n",
    "\n",
    "properties.head()\n",
    "\n",
    "class BNU1Dataset(DGLDataset):\n",
    "    def __init__(self):\n",
    "        super().__init__(name='synthetic')\n",
    "\n",
    "    def process(self):\n",
    "        edges = pd.read_csv('./BNU1_fMRI/fMRI_brain_graph_weighted_edges_0.8.csv')\n",
    "        properties = pd.read_csv('./BNU1_fMRI/fMRI_brain_graph_properties.csv')\n",
    "        self.graphs = []\n",
    "        self.labels = []\n",
    "\n",
    "        # Create a graph for each graph ID from the edges table.\n",
    "        # First process the properties table into two dictionaries with graph IDs as keys.\n",
    "        # The label and number of nodes are values.\n",
    "        label_dict = {}\n",
    "        num_nodes_dict = {}\n",
    "        for _, row in properties.iterrows():\n",
    "            label_dict[row['graph_id']] = row['label']\n",
    "            num_nodes_dict[row['graph_id']] = row['num_nodes']\n",
    "\n",
    "        # For the edges, first group the table by graph IDs.\n",
    "        edges_group = edges.groupby('graph_id')\n",
    "\n",
    "        # For each graph ID...\n",
    "        for graph_id in edges_group.groups:\n",
    "            # Find the edges as well as the number of nodes and its label.\n",
    "            edges_of_id = edges_group.get_group(graph_id)\n",
    "            src = edges_of_id['src'].to_numpy()\n",
    "            dst = edges_of_id['dst'].to_numpy()\n",
    "            weight = edges_of_id['weight'].to_numpy()\n",
    "            num_nodes = num_nodes_dict[graph_id]\n",
    "            label = label_dict[graph_id]\n",
    "\n",
    "            # Create a graph and add it to the list of graphs and labels.\n",
    "            g = dgl.graph((src, dst), num_nodes=num_nodes)\n",
    "            weight = torch.FloatTensor(weight)\n",
    "            g.edata['weight'] = weight\n",
    "            self.graphs.append(g)\n",
    "            self.labels.append(label)\n",
    "\n",
    "        # Convert the label list to tensor for saving.\n",
    "        self.labels = torch.LongTensor(self.labels)\n",
    "\n",
    "    def __getitem__(self, i):\n",
    "        return self.graphs[i], self.labels[i]\n",
    "\n",
    "    def __len__(self):\n",
    "        return len(self.graphs)\n",
    "\n",
    "dataset = BNU1Dataset()\n",
    "graph, label = dataset[0]\n",
    "print(graph, label)"
   ]
  },
  {
   "cell_type": "code",
   "execution_count": 45,
   "metadata": {},
   "outputs": [
    {
     "name": "stdout",
     "output_type": "stream",
     "text": [
      "(17, 17)\n"
     ]
    },
    {
     "ename": "ValueError",
     "evalue": "all input arrays must have the same shape",
     "output_type": "error",
     "traceback": [
      "\u001b[1;31m---------------------------------------------------------------------------\u001b[0m",
      "\u001b[1;31mValueError\u001b[0m                                Traceback (most recent call last)",
      "\u001b[1;32m<ipython-input-45-86b2ed6faff1>\u001b[0m in \u001b[0;36m<module>\u001b[1;34m\u001b[0m\n\u001b[0;32m     50\u001b[0m         \u001b[0mprint\u001b[0m\u001b[1;33m(\u001b[0m\u001b[0mnp\u001b[0m\u001b[1;33m.\u001b[0m\u001b[0mshape\u001b[0m\u001b[1;33m(\u001b[0m\u001b[0mA2\u001b[0m\u001b[1;33m)\u001b[0m\u001b[1;33m)\u001b[0m\u001b[1;33m\u001b[0m\u001b[1;33m\u001b[0m\u001b[0m\n\u001b[0;32m     51\u001b[0m         \u001b[1;32mif\u001b[0m \u001b[0mi\u001b[0m \u001b[1;32min\u001b[0m \u001b[0mpos_idx\u001b[0m\u001b[1;33m:\u001b[0m\u001b[1;33m\u001b[0m\u001b[1;33m\u001b[0m\u001b[0m\n\u001b[1;32m---> 52\u001b[1;33m             \u001b[0mnp\u001b[0m\u001b[1;33m.\u001b[0m\u001b[0mstack\u001b[0m\u001b[1;33m(\u001b[0m\u001b[1;33m(\u001b[0m\u001b[0mpos_adj_list\u001b[0m\u001b[1;33m,\u001b[0m \u001b[0mA2\u001b[0m\u001b[1;33m)\u001b[0m\u001b[1;33m,\u001b[0m\u001b[0maxis\u001b[0m\u001b[1;33m=\u001b[0m\u001b[1;36m0\u001b[0m\u001b[1;33m)\u001b[0m\u001b[1;33m\u001b[0m\u001b[1;33m\u001b[0m\u001b[0m\n\u001b[0m\u001b[0;32m     53\u001b[0m         \u001b[1;32melse\u001b[0m\u001b[1;33m:\u001b[0m\u001b[1;33m\u001b[0m\u001b[1;33m\u001b[0m\u001b[0m\n\u001b[0;32m     54\u001b[0m             \u001b[0mnp\u001b[0m\u001b[1;33m.\u001b[0m\u001b[0mstack\u001b[0m\u001b[1;33m(\u001b[0m\u001b[1;33m(\u001b[0m\u001b[0mneg_adj_list\u001b[0m\u001b[1;33m,\u001b[0m \u001b[0mA2\u001b[0m\u001b[1;33m)\u001b[0m\u001b[1;33m,\u001b[0m\u001b[0maxis\u001b[0m\u001b[1;33m=\u001b[0m\u001b[1;36m0\u001b[0m\u001b[1;33m)\u001b[0m\u001b[1;33m\u001b[0m\u001b[1;33m\u001b[0m\u001b[0m\n",
      "\u001b[1;32m<__array_function__ internals>\u001b[0m in \u001b[0;36mstack\u001b[1;34m(*args, **kwargs)\u001b[0m\n",
      "\u001b[1;32mc:\\users\\isjak\\appdata\\local\\programs\\python\\python36\\lib\\site-packages\\numpy\\core\\shape_base.py\u001b[0m in \u001b[0;36mstack\u001b[1;34m(arrays, axis, out)\u001b[0m\n\u001b[0;32m    425\u001b[0m     \u001b[0mshapes\u001b[0m \u001b[1;33m=\u001b[0m \u001b[1;33m{\u001b[0m\u001b[0marr\u001b[0m\u001b[1;33m.\u001b[0m\u001b[0mshape\u001b[0m \u001b[1;32mfor\u001b[0m \u001b[0marr\u001b[0m \u001b[1;32min\u001b[0m \u001b[0marrays\u001b[0m\u001b[1;33m}\u001b[0m\u001b[1;33m\u001b[0m\u001b[1;33m\u001b[0m\u001b[0m\n\u001b[0;32m    426\u001b[0m     \u001b[1;32mif\u001b[0m \u001b[0mlen\u001b[0m\u001b[1;33m(\u001b[0m\u001b[0mshapes\u001b[0m\u001b[1;33m)\u001b[0m \u001b[1;33m!=\u001b[0m \u001b[1;36m1\u001b[0m\u001b[1;33m:\u001b[0m\u001b[1;33m\u001b[0m\u001b[1;33m\u001b[0m\u001b[0m\n\u001b[1;32m--> 427\u001b[1;33m         \u001b[1;32mraise\u001b[0m \u001b[0mValueError\u001b[0m\u001b[1;33m(\u001b[0m\u001b[1;34m'all input arrays must have the same shape'\u001b[0m\u001b[1;33m)\u001b[0m\u001b[1;33m\u001b[0m\u001b[1;33m\u001b[0m\u001b[0m\n\u001b[0m\u001b[0;32m    428\u001b[0m \u001b[1;33m\u001b[0m\u001b[0m\n\u001b[0;32m    429\u001b[0m     \u001b[0mresult_ndim\u001b[0m \u001b[1;33m=\u001b[0m \u001b[0marrays\u001b[0m\u001b[1;33m[\u001b[0m\u001b[1;36m0\u001b[0m\u001b[1;33m]\u001b[0m\u001b[1;33m.\u001b[0m\u001b[0mndim\u001b[0m \u001b[1;33m+\u001b[0m \u001b[1;36m1\u001b[0m\u001b[1;33m\u001b[0m\u001b[1;33m\u001b[0m\u001b[0m\n",
      "\u001b[1;31mValueError\u001b[0m: all input arrays must have the same shape"
     ]
    }
   ],
   "source": [
    "import networkx as nx\n",
    "import matplotlib.pyplot as plt\n",
    "import numpy as np\n",
    "import pandas as pd\n",
    "import csv\n",
    "import re\n",
    "%matplotlib inline\n",
    "\n",
    "graph_idx = 0\n",
    "pos_idx = []\n",
    "neg_idx = []\n",
    "f = csv.reader(open('./BNU1_fMRI/BNU1_phenotypic_data.csv','r')) \n",
    "for j, row in enumerate(f):\n",
    "    if j != 0 and j % 2 ==1:\n",
    "        label = row[3]\n",
    "        filter(str.isdigit, label)\n",
    "        if int(label)-1 == 1:\n",
    "            pos_idx.append(graph_idx)\n",
    "        else:\n",
    "            neg_idx.append(graph_idx)\n",
    "        graph_idx += 1\n",
    "\n",
    "edge_list_2_downsampling = []\n",
    "edge_list_2_property = [] \n",
    "pos_adj_list = None\n",
    "neg_adj_list = None\n",
    "length = 25920 - 25864 + 1\n",
    "for i in range(length):\n",
    "    G00 = nx.read_gpickle(\"./BNU1_fMRI/sub-00%s_ses-1_bold_desikan_res-2x2x2_measure-correlation.gpickle\"%(int(i+25864)))\n",
    "    edge_list_2 = []\n",
    "    edge = G00.adj\n",
    "    for src in edge:\n",
    "        for dst in edge[src]:\n",
    "            edge_list_2.append([src, dst, edge[src][dst]['weight']])\n",
    "    for edge in edge_list_2:\n",
    "        if edge[0] == edge[1]:\n",
    "            continue\n",
    "        elif edge[2] <= 0.8:\n",
    "            continue\n",
    "        else:\n",
    "            edge_list_2_downsampling.append([edge[0]-1, edge[1]-1, edge[2]])\n",
    "    G2 = nx.Graph()\n",
    "    G2.add_weighted_edges_from(edge_list_2_downsampling)\n",
    "    A2 = nx.to_numpy_array(G2)\n",
    "    if i in pos_idx and type(pos_adj_list) == None:\n",
    "        pos_adj_list = A2\n",
    "    elif i in neg_idx and type(neg_adj_list) == None:\n",
    "        neg_adj_list = A2\n",
    "    else:\n",
    "        print(np.shape(A2))\n",
    "        if i in pos_idx:\n",
    "            np.stack((pos_adj_list, A2),axis=0)\n",
    "        else:\n",
    "            np.stack((neg_adj_list, A2),axis=0)\n",
    "# pos_adj_list=np.array(pos_adj_list)\n",
    "# neg_adj_list=np.array(neg_adj_list, dtype=object)\n",
    "print(pos_adj_list)\n",
    "# a\n",
    "#     G2 = nx.Graph()\n",
    "#     G2.add_weighted_edges_from(edge_list_2)\n",
    "        \n",
    "# df = pd.DataFrame([iter for iter in edge_list_2_downsampling], columns=['graph_id', 'src', 'dst', 'weight'])\n",
    "# df.to_csv('./BNU1_fMRI/fMRI_brain_graph_weighted_edges_0.8.csv', index=False)       \n",
    "# df = pd.DataFrame([iter for iter in edge_list_2_property], columns=['graph_id', 'label', 'num_nodes'])\n",
    "# df.to_csv('./BNU1_fMRI/fMRI_brain_graph_properties.csv', index=False)\n",
    "# print('Finished preprocessing weighted fMRI graph!')"
   ]
  },
  {
   "cell_type": "code",
   "execution_count": 2,
   "metadata": {},
   "outputs": [
    {
     "name": "stdout",
     "output_type": "stream",
     "text": [
      "[[[0.000e+00 3.009e+03 1.914e+03 ... 0.000e+00 1.000e+01 4.200e+01]\n",
      "  [3.009e+03 0.000e+00 1.936e+03 ... 0.000e+00 0.000e+00 1.900e+01]\n",
      "  [1.914e+03 1.936e+03 0.000e+00 ... 0.000e+00 0.000e+00 2.000e+00]\n",
      "  ...\n",
      "  [0.000e+00 0.000e+00 0.000e+00 ... 0.000e+00 6.000e+00 2.000e+00]\n",
      "  [1.000e+01 0.000e+00 0.000e+00 ... 6.000e+00 0.000e+00 2.300e+01]\n",
      "  [4.200e+01 1.900e+01 2.000e+00 ... 2.000e+00 2.300e+01 0.000e+00]]\n",
      "\n",
      " [[0.000e+00 4.762e+03 7.770e+02 ... 1.000e+00 1.000e+00 2.480e+02]\n",
      "  [4.762e+03 0.000e+00 8.580e+02 ... 0.000e+00 0.000e+00 2.000e+00]\n",
      "  [7.770e+02 8.580e+02 0.000e+00 ... 0.000e+00 0.000e+00 0.000e+00]\n",
      "  ...\n",
      "  [1.000e+00 0.000e+00 0.000e+00 ... 0.000e+00 3.000e+00 2.200e+01]\n",
      "  [1.000e+00 0.000e+00 0.000e+00 ... 3.000e+00 0.000e+00 1.000e+00]\n",
      "  [2.480e+02 2.000e+00 0.000e+00 ... 2.200e+01 1.000e+00 0.000e+00]]\n",
      "\n",
      " [[0.000e+00 3.279e+03 9.970e+02 ... 0.000e+00 0.000e+00 6.800e+01]\n",
      "  [3.279e+03 0.000e+00 1.508e+03 ... 0.000e+00 1.000e+00 5.000e+00]\n",
      "  [9.970e+02 1.508e+03 0.000e+00 ... 0.000e+00 0.000e+00 0.000e+00]\n",
      "  ...\n",
      "  [0.000e+00 0.000e+00 0.000e+00 ... 0.000e+00 1.800e+01 1.000e+00]\n",
      "  [0.000e+00 1.000e+00 0.000e+00 ... 1.800e+01 0.000e+00 1.000e+01]\n",
      "  [6.800e+01 5.000e+00 0.000e+00 ... 1.000e+00 1.000e+01 0.000e+00]]\n",
      "\n",
      " ...\n",
      "\n",
      " [[0.000e+00 3.259e+03 1.052e+03 ... 1.000e+00 1.000e+00 1.200e+02]\n",
      "  [3.259e+03 0.000e+00 1.675e+03 ... 3.700e+01 0.000e+00 1.100e+01]\n",
      "  [1.052e+03 1.675e+03 0.000e+00 ... 0.000e+00 0.000e+00 0.000e+00]\n",
      "  ...\n",
      "  [1.000e+00 3.700e+01 0.000e+00 ... 0.000e+00 1.000e+00 2.000e+00]\n",
      "  [1.000e+00 0.000e+00 0.000e+00 ... 1.000e+00 0.000e+00 6.000e+00]\n",
      "  [1.200e+02 1.100e+01 0.000e+00 ... 2.000e+00 6.000e+00 0.000e+00]]\n",
      "\n",
      " [[0.000e+00 4.315e+03 1.249e+03 ... 1.000e+00 1.000e+00 3.690e+02]\n",
      "  [4.315e+03 0.000e+00 1.664e+03 ... 0.000e+00 0.000e+00 7.000e+01]\n",
      "  [1.249e+03 1.664e+03 0.000e+00 ... 0.000e+00 0.000e+00 0.000e+00]\n",
      "  ...\n",
      "  [1.000e+00 0.000e+00 0.000e+00 ... 0.000e+00 9.000e+00 6.000e+00]\n",
      "  [1.000e+00 0.000e+00 0.000e+00 ... 9.000e+00 0.000e+00 4.000e+00]\n",
      "  [3.690e+02 7.000e+01 0.000e+00 ... 6.000e+00 4.000e+00 0.000e+00]]\n",
      "\n",
      " [[0.000e+00 1.446e+03 6.290e+02 ... 0.000e+00 0.000e+00 0.000e+00]\n",
      "  [1.446e+03 0.000e+00 1.358e+03 ... 0.000e+00 0.000e+00 0.000e+00]\n",
      "  [6.290e+02 1.358e+03 0.000e+00 ... 0.000e+00 0.000e+00 0.000e+00]\n",
      "  ...\n",
      "  [0.000e+00 0.000e+00 0.000e+00 ... 0.000e+00 1.000e+00 1.000e+00]\n",
      "  [0.000e+00 0.000e+00 0.000e+00 ... 1.000e+00 0.000e+00 0.000e+00]\n",
      "  [0.000e+00 0.000e+00 0.000e+00 ... 1.000e+00 0.000e+00 0.000e+00]]]\n"
     ]
    }
   ],
   "source": [
    "from graspologic.datasets import load_mice\n",
    "\n",
    "# Load the full mouse dataset\n",
    "mice = load_mice()\n",
    "\n",
    "# Stack all adjacency matrices in a 3D numpy array\n",
    "graphs = np.array(mice.graphs)\n",
    "\n",
    "# Get sample parameters\n",
    "n_subjects = mice.meta[\"n_subjects\"]\n",
    "n_vertices = mice.meta[\"n_vertices\"]\n",
    "\n",
    "# Split the set of graphs by genotype\n",
    "btbr = graphs[mice.labels == \"BTBR\"]\n",
    "b6 = graphs[mice.labels == \"B6\"]\n",
    "cast = graphs[mice.labels == \"CAST\"]\n",
    "dba2 = graphs[mice.labels == \"DBA2\"]\n",
    "\n",
    "connectomes = [btbr, b6, cast, dba2]"
   ]
  },
  {
   "cell_type": "code",
   "execution_count": 20,
   "metadata": {},
   "outputs": [
    {
     "name": "stdout",
     "output_type": "stream",
     "text": [
      "<class 'numpy.ndarray'>\n"
     ]
    }
   ],
   "source": [
    "print(type(btbr[0]))"
   ]
  },
  {
   "cell_type": "code",
   "execution_count": 35,
   "metadata": {},
   "outputs": [
    {
     "ename": "ValueError",
     "evalue": "Input tensor must be 3-dimensional, not 1-dimensional.",
     "output_type": "error",
     "traceback": [
      "\u001b[1;31m---------------------------------------------------------------------------\u001b[0m",
      "\u001b[1;31mValueError\u001b[0m                                Traceback (most recent call last)",
      "\u001b[1;32m<ipython-input-35-fced784d1f5b>\u001b[0m in \u001b[0;36m<module>\u001b[1;34m\u001b[0m\n\u001b[0;32m      8\u001b[0m \u001b[1;31m# Jointly embed graphs using omnibus embedding\u001b[0m\u001b[1;33m\u001b[0m\u001b[1;33m\u001b[0m\u001b[1;33m\u001b[0m\u001b[0m\n\u001b[0;32m      9\u001b[0m \u001b[0membedder\u001b[0m \u001b[1;33m=\u001b[0m \u001b[0mOmnibusEmbed\u001b[0m\u001b[1;33m(\u001b[0m\u001b[1;33m)\u001b[0m\u001b[1;33m\u001b[0m\u001b[1;33m\u001b[0m\u001b[0m\n\u001b[1;32m---> 10\u001b[1;33m \u001b[0momni_embedding\u001b[0m \u001b[1;33m=\u001b[0m \u001b[0membedder\u001b[0m\u001b[1;33m.\u001b[0m\u001b[0mfit_transform\u001b[0m\u001b[1;33m(\u001b[0m\u001b[0mpos_adj_list\u001b[0m\u001b[1;33m)\u001b[0m\u001b[1;33m\u001b[0m\u001b[1;33m\u001b[0m\u001b[0m\n\u001b[0m\u001b[0;32m     11\u001b[0m \u001b[0mprint\u001b[0m\u001b[1;33m(\u001b[0m\u001b[0momni_embedding\u001b[0m\u001b[1;33m.\u001b[0m\u001b[0mshape\u001b[0m\u001b[1;33m)\u001b[0m\u001b[1;33m\u001b[0m\u001b[1;33m\u001b[0m\u001b[0m\n",
      "\u001b[1;32m~\\AppData\\Roaming\\Python\\Python36\\site-packages\\graspologic\\embed\\omni.py\u001b[0m in \u001b[0;36mfit_transform\u001b[1;34m(self, graphs, y)\u001b[0m\n\u001b[0;32m    304\u001b[0m             \u001b[0mIn\u001b[0m \u001b[0mthis\u001b[0m \u001b[0mcase\u001b[0m \u001b[0mone\u001b[0m \u001b[0mtensor\u001b[0m \u001b[0mof\u001b[0m \u001b[0mshape\u001b[0m \u001b[1;33m(\u001b[0m\u001b[0mn_graphs\u001b[0m\u001b[1;33m,\u001b[0m \u001b[0mn_vertices\u001b[0m\u001b[1;33m,\u001b[0m \u001b[1;36m2\u001b[0m\u001b[1;33m*\u001b[0m\u001b[0mn_components\u001b[0m\u001b[1;33m)\u001b[0m \u001b[1;32mis\u001b[0m \u001b[0mreturned\u001b[0m\u001b[1;33m.\u001b[0m\u001b[1;33m\u001b[0m\u001b[1;33m\u001b[0m\u001b[0m\n\u001b[0;32m    305\u001b[0m         \"\"\"\n\u001b[1;32m--> 306\u001b[1;33m         \u001b[1;32mreturn\u001b[0m \u001b[0mself\u001b[0m\u001b[1;33m.\u001b[0m\u001b[0m_fit_transform\u001b[0m\u001b[1;33m(\u001b[0m\u001b[0mgraphs\u001b[0m\u001b[1;33m)\u001b[0m\u001b[1;33m\u001b[0m\u001b[1;33m\u001b[0m\u001b[0m\n\u001b[0m",
      "\u001b[1;32m~\\AppData\\Roaming\\Python\\Python36\\site-packages\\graspologic\\embed\\base.py\u001b[0m in \u001b[0;36m_fit_transform\u001b[1;34m(self, graph, *args, **kwargs)\u001b[0m\n\u001b[0;32m    193\u001b[0m         \u001b[1;34m\"Fits the model and returns the estimated latent positions.\"\u001b[0m\u001b[1;33m\u001b[0m\u001b[1;33m\u001b[0m\u001b[0m\n\u001b[0;32m    194\u001b[0m \u001b[1;33m\u001b[0m\u001b[0m\n\u001b[1;32m--> 195\u001b[1;33m         \u001b[0mself\u001b[0m\u001b[1;33m.\u001b[0m\u001b[0mfit\u001b[0m\u001b[1;33m(\u001b[0m\u001b[0mgraph\u001b[0m\u001b[1;33m,\u001b[0m \u001b[1;33m*\u001b[0m\u001b[0margs\u001b[0m\u001b[1;33m,\u001b[0m \u001b[1;33m**\u001b[0m\u001b[0mkwargs\u001b[0m\u001b[1;33m)\u001b[0m\u001b[1;33m\u001b[0m\u001b[1;33m\u001b[0m\u001b[0m\n\u001b[0m\u001b[0;32m    196\u001b[0m \u001b[1;33m\u001b[0m\u001b[0m\n\u001b[0;32m    197\u001b[0m         \u001b[1;32mif\u001b[0m \u001b[0mself\u001b[0m\u001b[1;33m.\u001b[0m\u001b[0mlatent_right_\u001b[0m \u001b[1;32mis\u001b[0m \u001b[1;32mNone\u001b[0m\u001b[1;33m:\u001b[0m\u001b[1;33m\u001b[0m\u001b[1;33m\u001b[0m\u001b[0m\n",
      "\u001b[1;32m~\\AppData\\Roaming\\Python\\Python36\\site-packages\\graspologic\\embed\\omni.py\u001b[0m in \u001b[0;36mfit\u001b[1;34m(self, graphs, y)\u001b[0m\n\u001b[0;32m    246\u001b[0m             \u001b[0mReturns\u001b[0m \u001b[0man\u001b[0m \u001b[0minstance\u001b[0m \u001b[0mof\u001b[0m \u001b[0mself\u001b[0m\u001b[1;33m.\u001b[0m\u001b[1;33m\u001b[0m\u001b[1;33m\u001b[0m\u001b[0m\n\u001b[0;32m    247\u001b[0m         \"\"\"\n\u001b[1;32m--> 248\u001b[1;33m         \u001b[0mgraphs\u001b[0m \u001b[1;33m=\u001b[0m \u001b[0mself\u001b[0m\u001b[1;33m.\u001b[0m\u001b[0m_check_input_graphs\u001b[0m\u001b[1;33m(\u001b[0m\u001b[0mgraphs\u001b[0m\u001b[1;33m)\u001b[0m\u001b[1;33m\u001b[0m\u001b[1;33m\u001b[0m\u001b[0m\n\u001b[0m\u001b[0;32m    249\u001b[0m \u001b[1;33m\u001b[0m\u001b[0m\n\u001b[0;32m    250\u001b[0m         \u001b[1;31m# Check if Abar is connected\u001b[0m\u001b[1;33m\u001b[0m\u001b[1;33m\u001b[0m\u001b[1;33m\u001b[0m\u001b[0m\n",
      "\u001b[1;32m~\\AppData\\Roaming\\Python\\Python36\\site-packages\\graspologic\\embed\\base.py\u001b[0m in \u001b[0;36m_check_input_graphs\u001b[1;34m(self, graphs)\u001b[0m\n\u001b[0;32m    409\u001b[0m                     \u001b[0mgraphs\u001b[0m\u001b[1;33m.\u001b[0m\u001b[0mndim\u001b[0m\u001b[1;33m\u001b[0m\u001b[1;33m\u001b[0m\u001b[0m\n\u001b[0;32m    410\u001b[0m                 )\n\u001b[1;32m--> 411\u001b[1;33m                 \u001b[1;32mraise\u001b[0m \u001b[0mValueError\u001b[0m\u001b[1;33m(\u001b[0m\u001b[0mmsg\u001b[0m\u001b[1;33m)\u001b[0m\u001b[1;33m\u001b[0m\u001b[1;33m\u001b[0m\u001b[0m\n\u001b[0m\u001b[0;32m    412\u001b[0m             \u001b[1;32melif\u001b[0m \u001b[0mgraphs\u001b[0m\u001b[1;33m.\u001b[0m\u001b[0mshape\u001b[0m\u001b[1;33m[\u001b[0m\u001b[1;36m0\u001b[0m\u001b[1;33m]\u001b[0m \u001b[1;33m<=\u001b[0m \u001b[1;36m1\u001b[0m\u001b[1;33m:\u001b[0m\u001b[1;33m\u001b[0m\u001b[1;33m\u001b[0m\u001b[0m\n\u001b[0;32m    413\u001b[0m                 msg = \"Input tensor must have at least 2 elements, not {}.\".format(\n",
      "\u001b[1;31mValueError\u001b[0m: Input tensor must be 3-dimensional, not 1-dimensional."
     ]
    }
   ],
   "source": [
    "# Embed mice graphs\n",
    "# Single graph embedding\n",
    "from graspologic.embed import node2vec_embed, AdjacencySpectralEmbed, LaplacianSpectralEmbed\n",
    "# Multiple graph embedding\n",
    "from graspologic.embed import OmnibusEmbed, MultipleASE, mug2vec\n",
    "from graspologic.plot import pairplot\n",
    "\n",
    "# Jointly embed graphs using omnibus embedding\n",
    "embedder = OmnibusEmbed()\n",
    "omni_embedding = embedder.fit_transform(pos_adj_list)\n",
    "print(omni_embedding.shape)"
   ]
  }
 ],
 "metadata": {
  "kernelspec": {
   "display_name": "Python 3",
   "language": "python",
   "name": "python3"
  },
  "language_info": {
   "codemirror_mode": {
    "name": "ipython",
    "version": 3
   },
   "file_extension": ".py",
   "mimetype": "text/x-python",
   "name": "python",
   "nbconvert_exporter": "python",
   "pygments_lexer": "ipython3",
   "version": "3.6.8"
  }
 },
 "nbformat": 4,
 "nbformat_minor": 2
}
